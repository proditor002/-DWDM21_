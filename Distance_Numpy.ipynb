{
  "nbformat": 4,
  "nbformat_minor": 0,
  "metadata": {
    "colab": {
      "name": "Untitled8.ipynb",
      "provenance": [],
      "include_colab_link": true
    },
    "kernelspec": {
      "name": "python3",
      "display_name": "Python 3"
    },
    "language_info": {
      "name": "python"
    }
  },
  "cells": [
    {
      "cell_type": "markdown",
      "metadata": {
        "id": "view-in-github",
        "colab_type": "text"
      },
      "source": [
        "<a href=\"https://colab.research.google.com/github/proditor002/DWDM21_/blob/main/Distance_Numpy.ipynb\" target=\"_parent\"><img src=\"https://colab.research.google.com/assets/colab-badge.svg\" alt=\"Open In Colab\"/></a>"
      ]
    },
    {
      "cell_type": "code",
      "metadata": {
        "id": "_DUlfHztcVUk"
      },
      "source": [
        "import numpy as np # เป็น package สำหรับทำงานกับข้อมูลที่เป็นตัวเลข ที่อยู่ในรูปของ Matrix"
      ],
      "execution_count": null,
      "outputs": []
    },
    {
      "cell_type": "markdown",
      "metadata": {
        "id": "YqWsXiMqccjZ"
      },
      "source": [
        "#Numpy Array\n",
        "\n",
        "สร้าง Numpy Array (Matrix)"
      ]
    },
    {
      "cell_type": "code",
      "metadata": {
        "id": "Cu_QyLT6cVSl"
      },
      "source": [
        "np_a = np.array([[1,2,3],[4,5,6]]) # สร้าง numpy array ที่มี 2 แถว 3 หลัก"
      ],
      "execution_count": null,
      "outputs": []
    },
    {
      "cell_type": "code",
      "metadata": {
        "colab": {
          "base_uri": "https://localhost:8080/"
        },
        "id": "kbjaDp8RcVQl",
        "outputId": "d98d9d61-c9ba-4507-aee1-b392ea575e58"
      },
      "source": [
        "np_a"
      ],
      "execution_count": null,
      "outputs": [
        {
          "output_type": "execute_result",
          "data": {
            "text/plain": [
              "array([[1, 2, 3],\n",
              "       [4, 5, 6]])"
            ]
          },
          "metadata": {},
          "execution_count": 29
        }
      ]
    },
    {
      "cell_type": "code",
      "metadata": {
        "colab": {
          "base_uri": "https://localhost:8080/"
        },
        "id": "J1T3RjU1cVOf",
        "outputId": "d20734ad-6728-475a-b97a-61c74e08ccc5"
      },
      "source": [
        "np_a.shape # ตรวจสอบขนาดของ Matrix"
      ],
      "execution_count": null,
      "outputs": [
        {
          "output_type": "execute_result",
          "data": {
            "text/plain": [
              "(2, 3)"
            ]
          },
          "metadata": {},
          "execution_count": 30
        }
      ]
    },
    {
      "cell_type": "code",
      "metadata": {
        "colab": {
          "base_uri": "https://localhost:8080/"
        },
        "id": "HL7zZkhEcVMh",
        "outputId": "348c09e2-4efa-49ca-f4a1-46724549cf33"
      },
      "source": [
        "np_b = np.array([[1,4],[2,5],[3,6]]) # สร้าง numpy array ที่มี 3 แถว 2 หลัก\n",
        "np_b"
      ],
      "execution_count": null,
      "outputs": [
        {
          "output_type": "execute_result",
          "data": {
            "text/plain": [
              "array([[1, 4],\n",
              "       [2, 5],\n",
              "       [3, 6]])"
            ]
          },
          "metadata": {},
          "execution_count": 31
        }
      ]
    },
    {
      "cell_type": "code",
      "metadata": {
        "colab": {
          "base_uri": "https://localhost:8080/"
        },
        "id": "8VX_T8ClcVKg",
        "outputId": "31f63d20-ed1b-479f-a994-b676d7d52613"
      },
      "source": [
        "np_a.T  # Transpose - สลับแถวเป็นหลัก หลักเป็นแถว"
      ],
      "execution_count": null,
      "outputs": [
        {
          "output_type": "execute_result",
          "data": {
            "text/plain": [
              "array([[1, 4],\n",
              "       [2, 5],\n",
              "       [3, 6]])"
            ]
          },
          "metadata": {},
          "execution_count": 32
        }
      ]
    },
    {
      "cell_type": "markdown",
      "metadata": {
        "id": "3Hlbj9xjclEr"
      },
      "source": [
        "#สร้าง matrix เริ่มต้น (zeros, ones)"
      ]
    },
    {
      "cell_type": "code",
      "metadata": {
        "colab": {
          "base_uri": "https://localhost:8080/"
        },
        "id": "IMwiy0WpcVGL",
        "outputId": "e4a04df9-abe9-49c1-ae71-43249d0baa23"
      },
      "source": [
        "np_z = np.zeros((4,5))\n",
        "np_z"
      ],
      "execution_count": null,
      "outputs": [
        {
          "output_type": "execute_result",
          "data": {
            "text/plain": [
              "array([[0., 0., 0., 0., 0.],\n",
              "       [0., 0., 0., 0., 0.],\n",
              "       [0., 0., 0., 0., 0.],\n",
              "       [0., 0., 0., 0., 0.]])"
            ]
          },
          "metadata": {},
          "execution_count": 33
        }
      ]
    },
    {
      "cell_type": "code",
      "metadata": {
        "colab": {
          "base_uri": "https://localhost:8080/"
        },
        "id": "7SFtDdqpcVEF",
        "outputId": "751673aa-47eb-42e2-807d-7b616026bef1"
      },
      "source": [
        "np_o = np.ones((5,6))\n",
        "np_o"
      ],
      "execution_count": null,
      "outputs": [
        {
          "output_type": "execute_result",
          "data": {
            "text/plain": [
              "array([[1., 1., 1., 1., 1., 1.],\n",
              "       [1., 1., 1., 1., 1., 1.],\n",
              "       [1., 1., 1., 1., 1., 1.],\n",
              "       [1., 1., 1., 1., 1., 1.],\n",
              "       [1., 1., 1., 1., 1., 1.]])"
            ]
          },
          "metadata": {},
          "execution_count": 34
        }
      ]
    },
    {
      "cell_type": "code",
      "metadata": {
        "colab": {
          "base_uri": "https://localhost:8080/"
        },
        "id": "vOtgmQQjcUrZ",
        "outputId": "0a937675-dd01-4bd6-afa8-e78f2eac7b8b"
      },
      "source": [
        "np_200 = 200*np.ones((4,7))\n",
        "np_200"
      ],
      "execution_count": null,
      "outputs": [
        {
          "output_type": "execute_result",
          "data": {
            "text/plain": [
              "array([[200., 200., 200., 200., 200., 200., 200.],\n",
              "       [200., 200., 200., 200., 200., 200., 200.],\n",
              "       [200., 200., 200., 200., 200., 200., 200.],\n",
              "       [200., 200., 200., 200., 200., 200., 200.]])"
            ]
          },
          "metadata": {},
          "execution_count": 35
        }
      ]
    },
    {
      "cell_type": "markdown",
      "metadata": {
        "id": "WepqEToCcq3W"
      },
      "source": [
        "#สร้าง matrix random"
      ]
    },
    {
      "cell_type": "code",
      "metadata": {
        "colab": {
          "base_uri": "https://localhost:8080/"
        },
        "id": "bfUWypzBcpw8",
        "outputId": "153c6eae-d55a-4ae4-ea9b-12319d2c8c64"
      },
      "source": [
        "np.random.randn(5,5) # random เลขมาจาก normal distribution ที่มี mu = 0 std = 1"
      ],
      "execution_count": null,
      "outputs": [
        {
          "output_type": "execute_result",
          "data": {
            "text/plain": [
              "array([[-1.12663614e+00,  1.25273493e+00, -8.85248279e-01,\n",
              "         9.34802681e-01, -1.05404740e+00],\n",
              "       [ 9.51825066e-01, -1.93613592e+00,  6.17405112e-01,\n",
              "        -8.45171268e-01, -9.52439532e-01],\n",
              "       [ 7.32652451e-01,  2.37170352e-01,  9.13023574e-01,\n",
              "         5.27863745e-01, -4.58224140e-01],\n",
              "       [-3.05793796e-01, -4.26744005e-01, -6.64291131e-01,\n",
              "        -2.08747480e-01,  1.37804141e+00],\n",
              "       [ 8.18366588e-04,  2.61497157e-01,  1.21000750e+00,\n",
              "         9.15640704e-01, -2.11684201e-01]])"
            ]
          },
          "metadata": {},
          "execution_count": 36
        }
      ]
    },
    {
      "cell_type": "code",
      "metadata": {
        "colab": {
          "base_uri": "https://localhost:8080/"
        },
        "id": "0pID1F2ucpu_",
        "outputId": "03eeb2f6-3250-44b3-b7e4-5993e3ee2505"
      },
      "source": [
        "2+(5*np.random.randn(3,3)) # random เลขมาจาก normal distribution ที่มี mu = 2 std = 5"
      ],
      "execution_count": null,
      "outputs": [
        {
          "output_type": "execute_result",
          "data": {
            "text/plain": [
              "array([[ 6.18545259, -0.36259448,  4.40994703],\n",
              "       [-2.23427571, -1.96476968,  9.48140277],\n",
              "       [ 5.86587072, -0.50700808, -3.59822053]])"
            ]
          },
          "metadata": {},
          "execution_count": 37
        }
      ]
    },
    {
      "cell_type": "code",
      "metadata": {
        "colab": {
          "base_uri": "https://localhost:8080/"
        },
        "id": "zvaad5pkcpsy",
        "outputId": "04ce1ce3-c5b4-402a-a454-cdaa2397dadc"
      },
      "source": [
        "np.random.randint(5,11,(4,5)) # random เลขจำนวนเต็มระหว่าง 5 ถึง 11 [5,11) ขนาด (4x5)"
      ],
      "execution_count": null,
      "outputs": [
        {
          "output_type": "execute_result",
          "data": {
            "text/plain": [
              "array([[ 7,  7,  5,  9, 10],\n",
              "       [10,  9,  9,  7,  9],\n",
              "       [ 7, 10,  5,  9,  5],\n",
              "       [ 5,  8,  8,  7,  5]])"
            ]
          },
          "metadata": {},
          "execution_count": 38
        }
      ]
    },
    {
      "cell_type": "code",
      "metadata": {
        "colab": {
          "base_uri": "https://localhost:8080/"
        },
        "id": "dJt4NbCTcpqy",
        "outputId": "81a07297-128c-40f9-a834-765e3b8386d4"
      },
      "source": [
        "np_a"
      ],
      "execution_count": null,
      "outputs": [
        {
          "output_type": "execute_result",
          "data": {
            "text/plain": [
              "array([[1, 2, 3],\n",
              "       [4, 5, 6]])"
            ]
          },
          "metadata": {},
          "execution_count": 39
        }
      ]
    },
    {
      "cell_type": "code",
      "metadata": {
        "colab": {
          "base_uri": "https://localhost:8080/"
        },
        "id": "09uH-371cpo3",
        "outputId": "965956a0-0824-434c-c65b-812309985ca2"
      },
      "source": [
        "np_a.T # Transpose"
      ],
      "execution_count": null,
      "outputs": [
        {
          "output_type": "execute_result",
          "data": {
            "text/plain": [
              "array([[1, 4],\n",
              "       [2, 5],\n",
              "       [3, 6]])"
            ]
          },
          "metadata": {},
          "execution_count": 40
        }
      ]
    },
    {
      "cell_type": "code",
      "metadata": {
        "colab": {
          "base_uri": "https://localhost:8080/"
        },
        "id": "aD9hth_Pcpmg",
        "outputId": "c1f0508d-cdf0-4e09-8b7c-e897c863dd32"
      },
      "source": [
        "1 + np_a # add scalar to matrix จะบวกไปทุกๆตัวใน matrix"
      ],
      "execution_count": null,
      "outputs": [
        {
          "output_type": "execute_result",
          "data": {
            "text/plain": [
              "array([[2, 3, 4],\n",
              "       [5, 6, 7]])"
            ]
          },
          "metadata": {},
          "execution_count": 41
        }
      ]
    },
    {
      "cell_type": "code",
      "metadata": {
        "colab": {
          "base_uri": "https://localhost:8080/"
        },
        "id": "euFf3lo1czLB",
        "outputId": "ccdbef8e-9870-45e2-df8f-6fdab99ba2c2"
      },
      "source": [
        "2*np_a # multiply scalar to matrix จะคูณไปทุกๆตัวของ matrix"
      ],
      "execution_count": null,
      "outputs": [
        {
          "output_type": "execute_result",
          "data": {
            "text/plain": [
              "array([[ 2,  4,  6],\n",
              "       [ 8, 10, 12]])"
            ]
          },
          "metadata": {},
          "execution_count": 42
        }
      ]
    },
    {
      "cell_type": "code",
      "metadata": {
        "colab": {
          "base_uri": "https://localhost:8080/"
        },
        "id": "PTvrKu5ZczI_",
        "outputId": "1d69147d-2862-4f5e-a566-68bec27e6e31"
      },
      "source": [
        "np_c = np.array([[6,5,4],[3,2,1]])\n",
        "np_c"
      ],
      "execution_count": null,
      "outputs": [
        {
          "output_type": "execute_result",
          "data": {
            "text/plain": [
              "array([[6, 5, 4],\n",
              "       [3, 2, 1]])"
            ]
          },
          "metadata": {},
          "execution_count": 43
        }
      ]
    },
    {
      "cell_type": "code",
      "metadata": {
        "colab": {
          "base_uri": "https://localhost:8080/"
        },
        "id": "YlLL22XQczHB",
        "outputId": "e95401e6-24f8-45b1-b357-079c7006659c"
      },
      "source": [
        "np_a + np_c # adding matrix to matrix"
      ],
      "execution_count": null,
      "outputs": [
        {
          "output_type": "execute_result",
          "data": {
            "text/plain": [
              "array([[7, 7, 7],\n",
              "       [7, 7, 7]])"
            ]
          },
          "metadata": {},
          "execution_count": 44
        }
      ]
    },
    {
      "cell_type": "code",
      "metadata": {
        "colab": {
          "base_uri": "https://localhost:8080/"
        },
        "id": "PgMh4nCeczFA",
        "outputId": "0a7044df-c74d-43a3-888d-9fdf15a9c1d8"
      },
      "source": [
        "np_a.shape"
      ],
      "execution_count": null,
      "outputs": [
        {
          "output_type": "execute_result",
          "data": {
            "text/plain": [
              "(2, 3)"
            ]
          },
          "metadata": {},
          "execution_count": 45
        }
      ]
    },
    {
      "cell_type": "code",
      "metadata": {
        "colab": {
          "base_uri": "https://localhost:8080/"
        },
        "id": "pJJERiF4czCx",
        "outputId": "ce6c575f-0ad4-4a52-9060-f00b88c6b706"
      },
      "source": [
        "np_c.shape"
      ],
      "execution_count": null,
      "outputs": [
        {
          "output_type": "execute_result",
          "data": {
            "text/plain": [
              "(2, 3)"
            ]
          },
          "metadata": {},
          "execution_count": 46
        }
      ]
    },
    {
      "cell_type": "code",
      "metadata": {
        "colab": {
          "base_uri": "https://localhost:8080/"
        },
        "id": "QUfciLpRcpkg",
        "outputId": "ae519a91-dca9-4d05-ff6f-dd3e0d1e0901"
      },
      "source": [
        "np_c.T.shape"
      ],
      "execution_count": null,
      "outputs": [
        {
          "output_type": "execute_result",
          "data": {
            "text/plain": [
              "(3, 2)"
            ]
          },
          "metadata": {},
          "execution_count": 47
        }
      ]
    },
    {
      "cell_type": "markdown",
      "metadata": {
        "id": "kt-1IjCtln2z"
      },
      "source": [
        "![Screenshot 2021-08-30 220403.png](data:image/png;base64,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)"
      ]
    },
    {
      "cell_type": "code",
      "metadata": {
        "colab": {
          "base_uri": "https://localhost:8080/"
        },
        "id": "8CcT2sbldAGZ",
        "outputId": "a4010e30-d3ad-4ec2-c4ac-f53f8d8bc9c9"
      },
      "source": [
        "np.dot(np_a,np_c.T) # multipling matrix to matrix (a,b) x (b,c) = (a,c)"
      ],
      "execution_count": null,
      "outputs": [
        {
          "output_type": "execute_result",
          "data": {
            "text/plain": [
              "array([[28, 10],\n",
              "       [73, 28]])"
            ]
          },
          "metadata": {},
          "execution_count": 48
        }
      ]
    },
    {
      "cell_type": "markdown",
      "metadata": {
        "id": "aKIFarSVdMHe"
      },
      "source": [
        "#Indexing & Slicing ( Index - ชี้, Slice - ตัด )"
      ]
    },
    {
      "cell_type": "code",
      "metadata": {
        "colab": {
          "base_uri": "https://localhost:8080/"
        },
        "id": "rwKXgp3GdADi",
        "outputId": "3a54eb70-c25b-4573-f03f-0567e073c9a0"
      },
      "source": [
        "np_a"
      ],
      "execution_count": null,
      "outputs": [
        {
          "output_type": "execute_result",
          "data": {
            "text/plain": [
              "array([[1, 2, 3],\n",
              "       [4, 5, 6]])"
            ]
          },
          "metadata": {},
          "execution_count": 49
        }
      ]
    },
    {
      "cell_type": "code",
      "metadata": {
        "colab": {
          "base_uri": "https://localhost:8080/"
        },
        "id": "o90Aryj6dABb",
        "outputId": "7c64f86c-9a3e-4c14-b541-6d806787f019"
      },
      "source": [
        "np_a[1,1] # เริ่มนับตั้งแต่แถวที่ 0 หลักที่ 0"
      ],
      "execution_count": null,
      "outputs": [
        {
          "output_type": "execute_result",
          "data": {
            "text/plain": [
              "5"
            ]
          },
          "metadata": {},
          "execution_count": 50
        }
      ]
    },
    {
      "cell_type": "code",
      "metadata": {
        "colab": {
          "base_uri": "https://localhost:8080/"
        },
        "id": "ZSEKBnSHc__i",
        "outputId": "aa476ca1-f58a-40fa-e1b5-a8b98e413ab9"
      },
      "source": [
        "np_a[:2,:2]"
      ],
      "execution_count": null,
      "outputs": [
        {
          "output_type": "execute_result",
          "data": {
            "text/plain": [
              "array([[1, 2],\n",
              "       [4, 5]])"
            ]
          },
          "metadata": {},
          "execution_count": 51
        }
      ]
    },
    {
      "cell_type": "code",
      "metadata": {
        "id": "UAML90hgl9eA",
        "colab": {
          "base_uri": "https://localhost:8080/"
        },
        "outputId": "1cf26223-ee01-47b9-f9b9-c3f7c4df96ea"
      },
      "source": [
        "np_a[0,:]"
      ],
      "execution_count": null,
      "outputs": [
        {
          "output_type": "execute_result",
          "data": {
            "text/plain": [
              "array([1, 2, 3])"
            ]
          },
          "metadata": {},
          "execution_count": 52
        }
      ]
    },
    {
      "cell_type": "markdown",
      "metadata": {
        "id": "PIGmQnq0l_MS"
      },
      "source": [
        "#Useful Function"
      ]
    },
    {
      "cell_type": "code",
      "metadata": {
        "id": "ft4kMzzwl9b6",
        "colab": {
          "base_uri": "https://localhost:8080/"
        },
        "outputId": "5206f527-4b6b-4445-d9e4-9cb321fd9ed7"
      },
      "source": [
        "np_a"
      ],
      "execution_count": null,
      "outputs": [
        {
          "output_type": "execute_result",
          "data": {
            "text/plain": [
              "array([[1, 2, 3],\n",
              "       [4, 5, 6]])"
            ]
          },
          "metadata": {},
          "execution_count": 53
        }
      ]
    },
    {
      "cell_type": "code",
      "metadata": {
        "id": "iGrJolSPl9aK",
        "colab": {
          "base_uri": "https://localhost:8080/"
        },
        "outputId": "389d3f4f-1056-4f9a-d017-42d2fe1b47fa"
      },
      "source": [
        "np.sum(np_a) #รวมค่าตัวเลข"
      ],
      "execution_count": null,
      "outputs": [
        {
          "output_type": "execute_result",
          "data": {
            "text/plain": [
              "21"
            ]
          },
          "metadata": {},
          "execution_count": 54
        }
      ]
    },
    {
      "cell_type": "code",
      "metadata": {
        "id": "RJTI6hzpl9XD",
        "colab": {
          "base_uri": "https://localhost:8080/"
        },
        "outputId": "f2ea2ca9-8b38-42b5-b8c1-5231289ef96e"
      },
      "source": [
        "np.sum(np_a,axis=0) #เอาด้านแถวมารวมกัน ค่าในแนวแกนนอน #axis 0 ก็คือรวมเลขในแถว 1+4 , 2+5 , 3+6"
      ],
      "execution_count": null,
      "outputs": [
        {
          "output_type": "execute_result",
          "data": {
            "text/plain": [
              "array([5, 7, 9])"
            ]
          },
          "metadata": {},
          "execution_count": 55
        }
      ]
    },
    {
      "cell_type": "code",
      "metadata": {
        "id": "Uo1JKME4l9U9",
        "colab": {
          "base_uri": "https://localhost:8080/"
        },
        "outputId": "2f3641cb-d87d-4daa-84b7-17ed522c6bd0"
      },
      "source": [
        "np.sum(np_a,axis=1) #เอาด้านคอลัมม์มารวมกัน ค่าในแนวแกนตั้ง #axis 1 ก็คือรวมเลขในแต่ละหลัก"
      ],
      "execution_count": null,
      "outputs": [
        {
          "output_type": "execute_result",
          "data": {
            "text/plain": [
              "array([ 6, 15])"
            ]
          },
          "metadata": {},
          "execution_count": 56
        }
      ]
    },
    {
      "cell_type": "code",
      "metadata": {
        "id": "e_-Kq0tsl9Sw",
        "colab": {
          "base_uri": "https://localhost:8080/"
        },
        "outputId": "190526be-51be-4afd-a288-53f74f3a8982"
      },
      "source": [
        "np.mean(np_a) #หาค่า mean"
      ],
      "execution_count": null,
      "outputs": [
        {
          "output_type": "execute_result",
          "data": {
            "text/plain": [
              "3.5"
            ]
          },
          "metadata": {},
          "execution_count": 57
        }
      ]
    },
    {
      "cell_type": "code",
      "metadata": {
        "id": "AlAPfq04l9Qe",
        "colab": {
          "base_uri": "https://localhost:8080/"
        },
        "outputId": "b5e91b3a-f041-47b2-e2f7-2585d7b91090"
      },
      "source": [
        "np.mean(np_a,axis=0) #หา mean ของคอลัมม์"
      ],
      "execution_count": null,
      "outputs": [
        {
          "output_type": "execute_result",
          "data": {
            "text/plain": [
              "array([2.5, 3.5, 4.5])"
            ]
          },
          "metadata": {},
          "execution_count": 58
        }
      ]
    },
    {
      "cell_type": "markdown",
      "metadata": {
        "id": "Rnhae1nPmLsL"
      },
      "source": [
        "#วนลูปเอง\n",
        "\n",
        "Summation"
      ]
    },
    {
      "cell_type": "code",
      "metadata": {
        "id": "UfVUF9zcmLey",
        "colab": {
          "base_uri": "https://localhost:8080/"
        },
        "outputId": "163222ed-04b5-447a-fa87-8184c7f6341b"
      },
      "source": [
        "np_a.shape"
      ],
      "execution_count": null,
      "outputs": [
        {
          "output_type": "execute_result",
          "data": {
            "text/plain": [
              "(2, 3)"
            ]
          },
          "metadata": {},
          "execution_count": 59
        }
      ]
    },
    {
      "cell_type": "code",
      "metadata": {
        "id": "qomtrky2l9OU",
        "colab": {
          "base_uri": "https://localhost:8080/"
        },
        "outputId": "7c64c405-2824-4d16-c751-3be17ff9d66f"
      },
      "source": [
        "sum_all = 0\n",
        "for row in range(np_a.shape[0]): \n",
        "    for col in range(np_a.shape[1]):\n",
        "        sum_all = sum_all + np_a[row,col]\n",
        "        print(f'we are at row ={row},col={col} np_a[{row},{col}]={np_a[row,col]} sum_all = {sum_all} ' )"
      ],
      "execution_count": null,
      "outputs": [
        {
          "output_type": "stream",
          "text": [
            "we are at row =0,col=0 np_a[0,0]=1 sum_all = 1 \n",
            "we are at row =0,col=1 np_a[0,1]=2 sum_all = 3 \n",
            "we are at row =0,col=2 np_a[0,2]=3 sum_all = 6 \n",
            "we are at row =1,col=0 np_a[1,0]=4 sum_all = 10 \n",
            "we are at row =1,col=1 np_a[1,1]=5 sum_all = 15 \n",
            "we are at row =1,col=2 np_a[1,2]=6 sum_all = 21 \n"
          ],
          "name": "stdout"
        }
      ]
    },
    {
      "cell_type": "code",
      "metadata": {
        "id": "gCR1IK2Rl9Mt",
        "colab": {
          "base_uri": "https://localhost:8080/"
        },
        "outputId": "065ee5e9-7de6-40ca-c998-fa4cce3e9bbd"
      },
      "source": [
        "sum_all = np.zeros(np_a.shape[1])\n",
        "\n",
        "for row in range(np_a.shape[0]): \n",
        "    for col in range(np_a.shape[1]):\n",
        "        sum_all[col] = sum_all[col] + np_a[row,col]\n",
        "print(sum_all)"
      ],
      "execution_count": null,
      "outputs": [
        {
          "output_type": "stream",
          "text": [
            "[5. 7. 9.]\n"
          ],
          "name": "stdout"
        }
      ]
    },
    {
      "cell_type": "markdown",
      "metadata": {
        "id": "WCuyTASIdeTk"
      },
      "source": [
        "#QUIZE"
      ]
    },
    {
      "cell_type": "code",
      "metadata": {
        "colab": {
          "base_uri": "https://localhost:8080/"
        },
        "id": "1OcFjItihn8X",
        "outputId": "008c7c5d-5f93-4b6e-bcc1-e1ba99e9def6"
      },
      "source": [
        "# np.min(np_a,axis=1)\n",
        "min_all = np.zeros(np_a.shape[0])\n",
        "\n",
        "for col in range(np_a.shape[1]):\n",
        "    for row in range(np_a.shape[0]):\n",
        "        min_all[row] = min(np_a[row])\n",
        "print(min_all)"
      ],
      "execution_count": null,
      "outputs": [
        {
          "output_type": "stream",
          "text": [
            "[1. 4.]\n"
          ],
          "name": "stdout"
        }
      ]
    },
    {
      "cell_type": "markdown",
      "metadata": {
        "id": "vb5PwrmfmUHs"
      },
      "source": [
        "#ข้ออื่น"
      ]
    },
    {
      "cell_type": "code",
      "metadata": {
        "id": "qXHnA-59mWSs",
        "colab": {
          "base_uri": "https://localhost:8080/"
        },
        "outputId": "e60aaf54-a64d-4252-820d-083dcc888eb3"
      },
      "source": [
        "# np.max(np_a,axis=1)\n",
        "max_all = np.zeros(np_a.shape[0])\n",
        "for row in range(np_a.shape[0]):\n",
        "    max_all[row] = max(np_a[row,:])\n",
        "print(max_all)"
      ],
      "execution_count": null,
      "outputs": [
        {
          "output_type": "stream",
          "text": [
            "[3. 6.]\n"
          ],
          "name": "stdout"
        }
      ]
    },
    {
      "cell_type": "code",
      "metadata": {
        "id": "9C9ex2DymWhD",
        "colab": {
          "base_uri": "https://localhost:8080/"
        },
        "outputId": "a211556d-355a-4370-a285-4b636304d79f"
      },
      "source": [
        "sum_all = np.zeros(np_a.shape[0])\n",
        "\n",
        "for row in range(np_a.shape[0]):\n",
        "    for col in range(np_a.shape[1]): \n",
        "        sum_all[row] = sum_all[row] + np_a[row,col]\n",
        "print(f'Mean = {sum_all/3}')"
      ],
      "execution_count": null,
      "outputs": [
        {
          "output_type": "stream",
          "text": [
            "Mean = [2. 5.]\n"
          ],
          "name": "stdout"
        }
      ]
    },
    {
      "cell_type": "code",
      "metadata": {
        "id": "Jf8R9ys9mWfD",
        "colab": {
          "base_uri": "https://localhost:8080/"
        },
        "outputId": "a402106e-1160-4afe-a557-52116ab50541"
      },
      "source": [
        "#np.mean(np_a,axis=0)\n",
        "mean_all = np.zeros(np_a.shape[1])\n",
        "for row in range(np_a.shape[0]):\n",
        "     for col in range(np_a.shape[1]):\n",
        "          mean_all[col] = mean_all[col] + np_a[row,col]/np_a.shape[0]\n",
        "print(mean_all)"
      ],
      "execution_count": null,
      "outputs": [
        {
          "output_type": "stream",
          "text": [
            "[2.5 3.5 4.5]\n"
          ],
          "name": "stdout"
        }
      ]
    },
    {
      "cell_type": "code",
      "metadata": {
        "id": "d20kgnPImWZA",
        "colab": {
          "base_uri": "https://localhost:8080/"
        },
        "outputId": "da0f8e3b-c780-4375-d0a9-f0d78d10a8b3"
      },
      "source": [
        "#np.max(np_a)\n",
        "max_a = -100000000\n",
        "for row in range(np_a.shape[0]):\n",
        "    for col in range(np_a.shape[1]):\n",
        "        if np_a[row,col] > max_a :\n",
        "            max_a = np_a[row,col]\n",
        "print(max_a)"
      ],
      "execution_count": null,
      "outputs": [
        {
          "output_type": "stream",
          "text": [
            "6\n"
          ],
          "name": "stdout"
        }
      ]
    },
    {
      "cell_type": "code",
      "metadata": {
        "id": "1oJr-LxFmWWt",
        "colab": {
          "base_uri": "https://localhost:8080/"
        },
        "outputId": "fb0b08f9-6c2b-4763-cf27-f1075fef8ea4"
      },
      "source": [
        "### 10. np.min(np_a,axis=1)\n",
        "min_row = np.zeros(np_a.shape[0])\n",
        "for row in range(np_a.shape[0]):\n",
        "   min_row[row] = min(np_a[row,:])\n",
        "print(min_row)"
      ],
      "execution_count": null,
      "outputs": [
        {
          "output_type": "stream",
          "text": [
            "[1. 4.]\n"
          ],
          "name": "stdout"
        }
      ]
    },
    {
      "cell_type": "code",
      "metadata": {
        "id": "WzSfI-umc_7U",
        "colab": {
          "base_uri": "https://localhost:8080/"
        },
        "outputId": "698de162-21b7-4f16-b440-11a2723ef0dd"
      },
      "source": [
        "# np.min(np_a,axis=0)\n",
        "min_all = np.zeros(np_a.shape[1])\n",
        "\n",
        "for col in range(np_a.shape[1]):\n",
        "    min_all[col] = min(np_a[:,col])\n",
        "print(min_all)"
      ],
      "execution_count": null,
      "outputs": [
        {
          "output_type": "stream",
          "text": [
            "[1. 2. 3.]\n"
          ],
          "name": "stdout"
        }
      ]
    },
    {
      "cell_type": "code",
      "metadata": {
        "id": "eZF8U3AXc_5T",
        "colab": {
          "base_uri": "https://localhost:8080/"
        },
        "outputId": "e813fbf7-e278-403f-97e7-d946fd0353b0"
      },
      "source": [
        "# np.min(np_a)  ลูกหมี\n",
        "minV = 100000\n",
        "for row in range(np_a.shape[0]):\n",
        "    for col in range(np_a.shape[1]):\n",
        "        if np_a[row,col] < minV:\n",
        "            minV = np_a[row,col]\n",
        "print(minV)"
      ],
      "execution_count": null,
      "outputs": [
        {
          "output_type": "stream",
          "text": [
            "1\n"
          ],
          "name": "stdout"
        }
      ]
    },
    {
      "cell_type": "code",
      "metadata": {
        "id": "fbA1JoldnWfX",
        "colab": {
          "base_uri": "https://localhost:8080/"
        },
        "outputId": "142aa684-c4a2-4a36-f39c-abe57fda5af4"
      },
      "source": [
        "# np.max(np_a,axis=0)\n",
        "max_all = -100000 * np.ones(np_a.shape[1])\n",
        "for col in range(np_a.shape[1]):\n",
        "    for row in range(np_a.shape[0]):\n",
        "        if np_a[row,col] > max_all[col]: \n",
        "            max_all[col] = np_a[row,col]\n",
        "print(max_all)"
      ],
      "execution_count": null,
      "outputs": [
        {
          "output_type": "stream",
          "text": [
            "[4. 5. 6.]\n"
          ],
          "name": "stdout"
        }
      ]
    }
  ]
}