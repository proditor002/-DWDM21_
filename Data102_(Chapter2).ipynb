{
  "nbformat": 4,
  "nbformat_minor": 0,
  "metadata": {
    "colab": {
      "name": "Data102_(Chapter2).ipynb",
      "provenance": [],
      "include_colab_link": true
    },
    "kernelspec": {
      "name": "python3",
      "display_name": "Python 3"
    },
    "language_info": {
      "name": "python"
    }
  },
  "cells": [
    {
      "cell_type": "markdown",
      "metadata": {
        "id": "view-in-github",
        "colab_type": "text"
      },
      "source": [
        "<a href=\"https://colab.research.google.com/github/proditor002/DWDM21_/blob/main/Data102_(Chapter2).ipynb\" target=\"_parent\"><img src=\"https://colab.research.google.com/assets/colab-badge.svg\" alt=\"Open In Colab\"/></a>"
      ]
    },
    {
      "cell_type": "code",
      "metadata": {
        "id": "A9J6XegsZNd-"
      },
      "source": [
        "import pandas as pd  #ทำงานกับข้อมูลลักษณะตาราง"
      ],
      "execution_count": null,
      "outputs": []
    },
    {
      "cell_type": "code",
      "metadata": {
        "colab": {
          "base_uri": "https://localhost:8080/"
        },
        "id": "zDIaTVnSZN8L",
        "outputId": "9b116639-b55f-40d4-bc8f-832b2ef3714b"
      },
      "source": [
        "from google.colab import drive #เชื่อม Google drive\n",
        "drive.mount('/content/drive')"
      ],
      "execution_count": null,
      "outputs": [
        {
          "output_type": "stream",
          "text": [
            "Mounted at /content/drive\n"
          ],
          "name": "stdout"
        }
      ]
    },
    {
      "cell_type": "code",
      "metadata": {
        "colab": {
          "base_uri": "https://localhost:8080/"
        },
        "id": "EewB2JbqZN5w",
        "outputId": "278bc2f2-3d9a-4b92-ffa5-f1561e7d8146"
      },
      "source": [
        "ls #แอลเอสดูว่าเชื่อมยัง"
      ],
      "execution_count": null,
      "outputs": [
        {
          "output_type": "stream",
          "text": [
            "\u001b[0m\u001b[01;34mdrive\u001b[0m/  \u001b[01;34msample_data\u001b[0m/\n"
          ],
          "name": "stdout"
        }
      ]
    },
    {
      "cell_type": "code",
      "metadata": {
        "id": "ofhgzQHYZN3a"
      },
      "source": [
        "import os # os ไว้จัดการไฟล์และถาท ถาทคือที่อยู่ของไฟล์"
      ],
      "execution_count": null,
      "outputs": []
    },
    {
      "cell_type": "code",
      "metadata": {
        "id": "trYFesalZN1U"
      },
      "source": [
        "path = '/content/drive/My Drive/DWDM2021_DATA' #ชื่อ path ชี้ไปไฟล์ที่เราต้องการ"
      ],
      "execution_count": null,
      "outputs": []
    },
    {
      "cell_type": "code",
      "metadata": {
        "colab": {
          "base_uri": "https://localhost:8080/",
          "height": 495
        },
        "id": "uX_IvxqYZNzB",
        "outputId": "3fac3744-5393-4460-d8fe-b4028dddf49b"
      },
      "source": [
        "data = pd.read_csv(os.path.join(path,'thailand_covid-19_testing_data.csv'))\n",
        "data"
      ],
      "execution_count": null,
      "outputs": [
        {
          "output_type": "execute_result",
          "data": {
            "text/html": [
              "<div>\n",
              "<style scoped>\n",
              "    .dataframe tbody tr th:only-of-type {\n",
              "        vertical-align: middle;\n",
              "    }\n",
              "\n",
              "    .dataframe tbody tr th {\n",
              "        vertical-align: top;\n",
              "    }\n",
              "\n",
              "    .dataframe thead th {\n",
              "        text-align: right;\n",
              "    }\n",
              "</style>\n",
              "<table border=\"1\" class=\"dataframe\">\n",
              "  <thead>\n",
              "    <tr style=\"text-align: right;\">\n",
              "      <th></th>\n",
              "      <th>Date</th>\n",
              "      <th>positive</th>\n",
              "      <th>Total Testing</th>\n",
              "      <th>Unnamed: 3</th>\n",
              "      <th>Unnamed: 4</th>\n",
              "      <th>Unnamed: 5</th>\n",
              "      <th>Unnamed: 6</th>\n",
              "      <th>Unnamed: 7</th>\n",
              "      <th>Unnamed: 8</th>\n",
              "      <th>Unnamed: 9</th>\n",
              "      <th>Unnamed: 10</th>\n",
              "      <th>Unnamed: 11</th>\n",
              "      <th>Unnamed: 12</th>\n",
              "      <th>Unnamed: 13</th>\n",
              "      <th>Unnamed: 14</th>\n",
              "      <th>Unnamed: 15</th>\n",
              "      <th>Unnamed: 16</th>\n",
              "      <th>Unnamed: 17</th>\n",
              "      <th>Unnamed: 18</th>\n",
              "      <th>Unnamed: 19</th>\n",
              "      <th>Unnamed: 20</th>\n",
              "      <th>Unnamed: 21</th>\n",
              "      <th>Unnamed: 22</th>\n",
              "      <th>Unnamed: 23</th>\n",
              "      <th>Unnamed: 24</th>\n",
              "      <th>Unnamed: 25</th>\n",
              "      <th>Unnamed: 26</th>\n",
              "      <th>Unnamed: 27</th>\n",
              "      <th>Unnamed: 28</th>\n",
              "      <th>Unnamed: 29</th>\n",
              "      <th>Unnamed: 30</th>\n",
              "      <th>Unnamed: 31</th>\n",
              "      <th>Unnamed: 32</th>\n",
              "      <th>Unnamed: 33</th>\n",
              "      <th>Unnamed: 34</th>\n",
              "      <th>Unnamed: 35</th>\n",
              "      <th>Unnamed: 36</th>\n",
              "      <th>Unnamed: 37</th>\n",
              "      <th>Unnamed: 38</th>\n",
              "      <th>Unnamed: 39</th>\n",
              "      <th>...</th>\n",
              "      <th>Unnamed: 82</th>\n",
              "      <th>Unnamed: 83</th>\n",
              "      <th>Unnamed: 84</th>\n",
              "      <th>Unnamed: 85</th>\n",
              "      <th>Unnamed: 86</th>\n",
              "      <th>Unnamed: 87</th>\n",
              "      <th>Unnamed: 88</th>\n",
              "      <th>Unnamed: 89</th>\n",
              "      <th>Unnamed: 90</th>\n",
              "      <th>Unnamed: 91</th>\n",
              "      <th>Unnamed: 92</th>\n",
              "      <th>Unnamed: 93</th>\n",
              "      <th>Unnamed: 94</th>\n",
              "      <th>Unnamed: 95</th>\n",
              "      <th>Unnamed: 96</th>\n",
              "      <th>Unnamed: 97</th>\n",
              "      <th>Unnamed: 98</th>\n",
              "      <th>Unnamed: 99</th>\n",
              "      <th>Unnamed: 100</th>\n",
              "      <th>Unnamed: 101</th>\n",
              "      <th>Unnamed: 102</th>\n",
              "      <th>Unnamed: 103</th>\n",
              "      <th>Unnamed: 104</th>\n",
              "      <th>Unnamed: 105</th>\n",
              "      <th>Unnamed: 106</th>\n",
              "      <th>Unnamed: 107</th>\n",
              "      <th>Unnamed: 108</th>\n",
              "      <th>Unnamed: 109</th>\n",
              "      <th>Unnamed: 110</th>\n",
              "      <th>Unnamed: 111</th>\n",
              "      <th>Unnamed: 112</th>\n",
              "      <th>Unnamed: 113</th>\n",
              "      <th>Unnamed: 114</th>\n",
              "      <th>Unnamed: 115</th>\n",
              "      <th>Unnamed: 116</th>\n",
              "      <th>Unnamed: 117</th>\n",
              "      <th>Unnamed: 118</th>\n",
              "      <th>Unnamed: 119</th>\n",
              "      <th>Unnamed: 120</th>\n",
              "      <th>Unnamed: 121</th>\n",
              "    </tr>\n",
              "  </thead>\n",
              "  <tbody>\n",
              "    <tr>\n",
              "      <th>0</th>\n",
              "      <td>Cannot specify date</td>\n",
              "      <td>2963</td>\n",
              "      <td>32131</td>\n",
              "      <td>NaN</td>\n",
              "      <td>NaN</td>\n",
              "      <td>NaN</td>\n",
              "      <td>NaN</td>\n",
              "      <td>NaN</td>\n",
              "      <td>NaN</td>\n",
              "      <td>NaN</td>\n",
              "      <td>NaN</td>\n",
              "      <td>NaN</td>\n",
              "      <td>NaN</td>\n",
              "      <td>NaN</td>\n",
              "      <td>NaN</td>\n",
              "      <td>NaN</td>\n",
              "      <td>NaN</td>\n",
              "      <td>NaN</td>\n",
              "      <td>NaN</td>\n",
              "      <td>NaN</td>\n",
              "      <td>NaN</td>\n",
              "      <td>NaN</td>\n",
              "      <td>NaN</td>\n",
              "      <td>NaN</td>\n",
              "      <td>NaN</td>\n",
              "      <td>NaN</td>\n",
              "      <td>NaN</td>\n",
              "      <td>NaN</td>\n",
              "      <td>NaN</td>\n",
              "      <td>NaN</td>\n",
              "      <td>NaN</td>\n",
              "      <td>NaN</td>\n",
              "      <td>NaN</td>\n",
              "      <td>NaN</td>\n",
              "      <td>NaN</td>\n",
              "      <td>NaN</td>\n",
              "      <td>NaN</td>\n",
              "      <td>NaN</td>\n",
              "      <td>NaN</td>\n",
              "      <td>NaN</td>\n",
              "      <td>...</td>\n",
              "      <td>NaN</td>\n",
              "      <td>NaN</td>\n",
              "      <td>NaN</td>\n",
              "      <td>NaN</td>\n",
              "      <td>NaN</td>\n",
              "      <td>NaN</td>\n",
              "      <td>NaN</td>\n",
              "      <td>NaN</td>\n",
              "      <td>NaN</td>\n",
              "      <td>NaN</td>\n",
              "      <td>NaN</td>\n",
              "      <td>NaN</td>\n",
              "      <td>NaN</td>\n",
              "      <td>NaN</td>\n",
              "      <td>NaN</td>\n",
              "      <td>NaN</td>\n",
              "      <td>NaN</td>\n",
              "      <td>NaN</td>\n",
              "      <td>NaN</td>\n",
              "      <td>NaN</td>\n",
              "      <td>NaN</td>\n",
              "      <td>NaN</td>\n",
              "      <td>NaN</td>\n",
              "      <td>NaN</td>\n",
              "      <td>NaN</td>\n",
              "      <td>NaN</td>\n",
              "      <td>NaN</td>\n",
              "      <td>NaN</td>\n",
              "      <td>NaN</td>\n",
              "      <td>NaN</td>\n",
              "      <td>NaN</td>\n",
              "      <td>NaN</td>\n",
              "      <td>NaN</td>\n",
              "      <td>NaN</td>\n",
              "      <td>NaN</td>\n",
              "      <td>NaN</td>\n",
              "      <td>NaN</td>\n",
              "      <td>NaN</td>\n",
              "      <td>NaN</td>\n",
              "      <td>NaN</td>\n",
              "    </tr>\n",
              "    <tr>\n",
              "      <th>1</th>\n",
              "      <td>1/1/2020</td>\n",
              "      <td>0</td>\n",
              "      <td>0</td>\n",
              "      <td>NaN</td>\n",
              "      <td>NaN</td>\n",
              "      <td>NaN</td>\n",
              "      <td>NaN</td>\n",
              "      <td>NaN</td>\n",
              "      <td>NaN</td>\n",
              "      <td>NaN</td>\n",
              "      <td>NaN</td>\n",
              "      <td>NaN</td>\n",
              "      <td>NaN</td>\n",
              "      <td>NaN</td>\n",
              "      <td>NaN</td>\n",
              "      <td>NaN</td>\n",
              "      <td>NaN</td>\n",
              "      <td>NaN</td>\n",
              "      <td>NaN</td>\n",
              "      <td>NaN</td>\n",
              "      <td>NaN</td>\n",
              "      <td>NaN</td>\n",
              "      <td>NaN</td>\n",
              "      <td>NaN</td>\n",
              "      <td>NaN</td>\n",
              "      <td>NaN</td>\n",
              "      <td>NaN</td>\n",
              "      <td>NaN</td>\n",
              "      <td>NaN</td>\n",
              "      <td>NaN</td>\n",
              "      <td>NaN</td>\n",
              "      <td>NaN</td>\n",
              "      <td>NaN</td>\n",
              "      <td>NaN</td>\n",
              "      <td>NaN</td>\n",
              "      <td>NaN</td>\n",
              "      <td>NaN</td>\n",
              "      <td>NaN</td>\n",
              "      <td>NaN</td>\n",
              "      <td>NaN</td>\n",
              "      <td>...</td>\n",
              "      <td>12</td>\n",
              "      <td>NaN</td>\n",
              "      <td>13</td>\n",
              "      <td>NaN</td>\n",
              "      <td>14</td>\n",
              "      <td>NaN</td>\n",
              "      <td>15</td>\n",
              "      <td>NaN</td>\n",
              "      <td>16</td>\n",
              "      <td>NaN</td>\n",
              "      <td>17</td>\n",
              "      <td>NaN</td>\n",
              "      <td>18</td>\n",
              "      <td>NaN</td>\n",
              "      <td>19</td>\n",
              "      <td>NaN</td>\n",
              "      <td>20</td>\n",
              "      <td>NaN</td>\n",
              "      <td>21</td>\n",
              "      <td>NaN</td>\n",
              "      <td>22</td>\n",
              "      <td>NaN</td>\n",
              "      <td>23</td>\n",
              "      <td>NaN</td>\n",
              "      <td>24</td>\n",
              "      <td>NaN</td>\n",
              "      <td>25</td>\n",
              "      <td>NaN</td>\n",
              "      <td>26</td>\n",
              "      <td>NaN</td>\n",
              "      <td>27</td>\n",
              "      <td>NaN</td>\n",
              "      <td>28</td>\n",
              "      <td>NaN</td>\n",
              "      <td>29</td>\n",
              "      <td>NaN</td>\n",
              "      <td>30</td>\n",
              "      <td>NaN</td>\n",
              "      <td>31</td>\n",
              "      <td>NaN</td>\n",
              "    </tr>\n",
              "    <tr>\n",
              "      <th>2</th>\n",
              "      <td>2/1/2020</td>\n",
              "      <td>0</td>\n",
              "      <td>0</td>\n",
              "      <td>NaN</td>\n",
              "      <td>NaN</td>\n",
              "      <td>NaN</td>\n",
              "      <td>NaN</td>\n",
              "      <td>NaN</td>\n",
              "      <td>NaN</td>\n",
              "      <td>NaN</td>\n",
              "      <td>NaN</td>\n",
              "      <td>NaN</td>\n",
              "      <td>NaN</td>\n",
              "      <td>NaN</td>\n",
              "      <td>NaN</td>\n",
              "      <td>NaN</td>\n",
              "      <td>NaN</td>\n",
              "      <td>NaN</td>\n",
              "      <td>NaN</td>\n",
              "      <td>NaN</td>\n",
              "      <td>NaN</td>\n",
              "      <td>NaN</td>\n",
              "      <td>NaN</td>\n",
              "      <td>NaN</td>\n",
              "      <td>NaN</td>\n",
              "      <td>NaN</td>\n",
              "      <td>NaN</td>\n",
              "      <td>NaN</td>\n",
              "      <td>NaN</td>\n",
              "      <td>NaN</td>\n",
              "      <td>NaN</td>\n",
              "      <td>NaN</td>\n",
              "      <td>NaN</td>\n",
              "      <td>NaN</td>\n",
              "      <td>NaN</td>\n",
              "      <td>NaN</td>\n",
              "      <td>NaN</td>\n",
              "      <td>NaN</td>\n",
              "      <td>NaN</td>\n",
              "      <td>NaN</td>\n",
              "      <td>...</td>\n",
              "      <td>Pos</td>\n",
              "      <td>Pos</td>\n",
              "      <td>Total</td>\n",
              "      <td>Pos</td>\n",
              "      <td>Total</td>\n",
              "      <td>Pos</td>\n",
              "      <td>Total</td>\n",
              "      <td>Pos</td>\n",
              "      <td>Total</td>\n",
              "      <td>Pos</td>\n",
              "      <td>Pos</td>\n",
              "      <td>Total</td>\n",
              "      <td>Pos</td>\n",
              "      <td>Total</td>\n",
              "      <td>Pos</td>\n",
              "      <td>Total</td>\n",
              "      <td>Pos</td>\n",
              "      <td>Total</td>\n",
              "      <td>Pos</td>\n",
              "      <td>Pos</td>\n",
              "      <td>Total</td>\n",
              "      <td>Pos</td>\n",
              "      <td>Total</td>\n",
              "      <td>Pos</td>\n",
              "      <td>Total</td>\n",
              "      <td>Pos</td>\n",
              "      <td>Total</td>\n",
              "      <td>Pos</td>\n",
              "      <td>Pos</td>\n",
              "      <td>Total</td>\n",
              "      <td>Pos</td>\n",
              "      <td>Total</td>\n",
              "      <td>Pos</td>\n",
              "      <td>Total</td>\n",
              "      <td>Pos</td>\n",
              "      <td>Total</td>\n",
              "      <td>Pos</td>\n",
              "      <td>Pos</td>\n",
              "      <td>Pos</td>\n",
              "      <td>Pos</td>\n",
              "    </tr>\n",
              "    <tr>\n",
              "      <th>3</th>\n",
              "      <td>3/1/2020</td>\n",
              "      <td>0</td>\n",
              "      <td>0</td>\n",
              "      <td>NaN</td>\n",
              "      <td>NaN</td>\n",
              "      <td>NaN</td>\n",
              "      <td>NaN</td>\n",
              "      <td>NaN</td>\n",
              "      <td>NaN</td>\n",
              "      <td>NaN</td>\n",
              "      <td>NaN</td>\n",
              "      <td>NaN</td>\n",
              "      <td>NaN</td>\n",
              "      <td>NaN</td>\n",
              "      <td>NaN</td>\n",
              "      <td>NaN</td>\n",
              "      <td>NaN</td>\n",
              "      <td>NaN</td>\n",
              "      <td>NaN</td>\n",
              "      <td>NaN</td>\n",
              "      <td>NaN</td>\n",
              "      <td>NaN</td>\n",
              "      <td>NaN</td>\n",
              "      <td>NaN</td>\n",
              "      <td>NaN</td>\n",
              "      <td>NaN</td>\n",
              "      <td>NaN</td>\n",
              "      <td>NaN</td>\n",
              "      <td>NaN</td>\n",
              "      <td>NaN</td>\n",
              "      <td>NaN</td>\n",
              "      <td>NaN</td>\n",
              "      <td>NaN</td>\n",
              "      <td>NaN</td>\n",
              "      <td>NaN</td>\n",
              "      <td>NaN</td>\n",
              "      <td>NaN</td>\n",
              "      <td>NaN</td>\n",
              "      <td>NaN</td>\n",
              "      <td>NaN</td>\n",
              "      <td>...</td>\n",
              "      <td>NaN</td>\n",
              "      <td>NaN</td>\n",
              "      <td>NaN</td>\n",
              "      <td>NaN</td>\n",
              "      <td>NaN</td>\n",
              "      <td>NaN</td>\n",
              "      <td>NaN</td>\n",
              "      <td>NaN</td>\n",
              "      <td>NaN</td>\n",
              "      <td>NaN</td>\n",
              "      <td>NaN</td>\n",
              "      <td>NaN</td>\n",
              "      <td>NaN</td>\n",
              "      <td>NaN</td>\n",
              "      <td>NaN</td>\n",
              "      <td>NaN</td>\n",
              "      <td>NaN</td>\n",
              "      <td>NaN</td>\n",
              "      <td>NaN</td>\n",
              "      <td>NaN</td>\n",
              "      <td>NaN</td>\n",
              "      <td>NaN</td>\n",
              "      <td>NaN</td>\n",
              "      <td>NaN</td>\n",
              "      <td>NaN</td>\n",
              "      <td>NaN</td>\n",
              "      <td>NaN</td>\n",
              "      <td>NaN</td>\n",
              "      <td>NaN</td>\n",
              "      <td>NaN</td>\n",
              "      <td>NaN</td>\n",
              "      <td>NaN</td>\n",
              "      <td>NaN</td>\n",
              "      <td>NaN</td>\n",
              "      <td>NaN</td>\n",
              "      <td>NaN</td>\n",
              "      <td>NaN</td>\n",
              "      <td>NaN</td>\n",
              "      <td>NaN</td>\n",
              "      <td>NaN</td>\n",
              "    </tr>\n",
              "    <tr>\n",
              "      <th>4</th>\n",
              "      <td>4/1/2020</td>\n",
              "      <td>0</td>\n",
              "      <td>2</td>\n",
              "      <td>NaN</td>\n",
              "      <td>NaN</td>\n",
              "      <td>NaN</td>\n",
              "      <td>NaN</td>\n",
              "      <td>NaN</td>\n",
              "      <td>NaN</td>\n",
              "      <td>NaN</td>\n",
              "      <td>NaN</td>\n",
              "      <td>NaN</td>\n",
              "      <td>NaN</td>\n",
              "      <td>NaN</td>\n",
              "      <td>NaN</td>\n",
              "      <td>NaN</td>\n",
              "      <td>NaN</td>\n",
              "      <td>NaN</td>\n",
              "      <td>NaN</td>\n",
              "      <td>NaN</td>\n",
              "      <td>NaN</td>\n",
              "      <td>NaN</td>\n",
              "      <td>NaN</td>\n",
              "      <td>NaN</td>\n",
              "      <td>NaN</td>\n",
              "      <td>NaN</td>\n",
              "      <td>NaN</td>\n",
              "      <td>NaN</td>\n",
              "      <td>NaN</td>\n",
              "      <td>NaN</td>\n",
              "      <td>NaN</td>\n",
              "      <td>NaN</td>\n",
              "      <td>NaN</td>\n",
              "      <td>NaN</td>\n",
              "      <td>NaN</td>\n",
              "      <td>NaN</td>\n",
              "      <td>NaN</td>\n",
              "      <td>NaN</td>\n",
              "      <td>NaN</td>\n",
              "      <td>NaN</td>\n",
              "      <td>...</td>\n",
              "      <td>NaN</td>\n",
              "      <td>NaN</td>\n",
              "      <td>NaN</td>\n",
              "      <td>NaN</td>\n",
              "      <td>NaN</td>\n",
              "      <td>NaN</td>\n",
              "      <td>NaN</td>\n",
              "      <td>NaN</td>\n",
              "      <td>NaN</td>\n",
              "      <td>NaN</td>\n",
              "      <td>NaN</td>\n",
              "      <td>NaN</td>\n",
              "      <td>NaN</td>\n",
              "      <td>NaN</td>\n",
              "      <td>NaN</td>\n",
              "      <td>NaN</td>\n",
              "      <td>NaN</td>\n",
              "      <td>NaN</td>\n",
              "      <td>NaN</td>\n",
              "      <td>NaN</td>\n",
              "      <td>NaN</td>\n",
              "      <td>NaN</td>\n",
              "      <td>NaN</td>\n",
              "      <td>NaN</td>\n",
              "      <td>NaN</td>\n",
              "      <td>NaN</td>\n",
              "      <td>NaN</td>\n",
              "      <td>NaN</td>\n",
              "      <td>NaN</td>\n",
              "      <td>NaN</td>\n",
              "      <td>NaN</td>\n",
              "      <td>NaN</td>\n",
              "      <td>NaN</td>\n",
              "      <td>NaN</td>\n",
              "      <td>NaN</td>\n",
              "      <td>NaN</td>\n",
              "      <td>NaN</td>\n",
              "      <td>NaN</td>\n",
              "      <td>NaN</td>\n",
              "      <td>NaN</td>\n",
              "    </tr>\n",
              "    <tr>\n",
              "      <th>...</th>\n",
              "      <td>...</td>\n",
              "      <td>...</td>\n",
              "      <td>...</td>\n",
              "      <td>...</td>\n",
              "      <td>...</td>\n",
              "      <td>...</td>\n",
              "      <td>...</td>\n",
              "      <td>...</td>\n",
              "      <td>...</td>\n",
              "      <td>...</td>\n",
              "      <td>...</td>\n",
              "      <td>...</td>\n",
              "      <td>...</td>\n",
              "      <td>...</td>\n",
              "      <td>...</td>\n",
              "      <td>...</td>\n",
              "      <td>...</td>\n",
              "      <td>...</td>\n",
              "      <td>...</td>\n",
              "      <td>...</td>\n",
              "      <td>...</td>\n",
              "      <td>...</td>\n",
              "      <td>...</td>\n",
              "      <td>...</td>\n",
              "      <td>...</td>\n",
              "      <td>...</td>\n",
              "      <td>...</td>\n",
              "      <td>...</td>\n",
              "      <td>...</td>\n",
              "      <td>...</td>\n",
              "      <td>...</td>\n",
              "      <td>...</td>\n",
              "      <td>...</td>\n",
              "      <td>...</td>\n",
              "      <td>...</td>\n",
              "      <td>...</td>\n",
              "      <td>...</td>\n",
              "      <td>...</td>\n",
              "      <td>...</td>\n",
              "      <td>...</td>\n",
              "      <td>...</td>\n",
              "      <td>...</td>\n",
              "      <td>...</td>\n",
              "      <td>...</td>\n",
              "      <td>...</td>\n",
              "      <td>...</td>\n",
              "      <td>...</td>\n",
              "      <td>...</td>\n",
              "      <td>...</td>\n",
              "      <td>...</td>\n",
              "      <td>...</td>\n",
              "      <td>...</td>\n",
              "      <td>...</td>\n",
              "      <td>...</td>\n",
              "      <td>...</td>\n",
              "      <td>...</td>\n",
              "      <td>...</td>\n",
              "      <td>...</td>\n",
              "      <td>...</td>\n",
              "      <td>...</td>\n",
              "      <td>...</td>\n",
              "      <td>...</td>\n",
              "      <td>...</td>\n",
              "      <td>...</td>\n",
              "      <td>...</td>\n",
              "      <td>...</td>\n",
              "      <td>...</td>\n",
              "      <td>...</td>\n",
              "      <td>...</td>\n",
              "      <td>...</td>\n",
              "      <td>...</td>\n",
              "      <td>...</td>\n",
              "      <td>...</td>\n",
              "      <td>...</td>\n",
              "      <td>...</td>\n",
              "      <td>...</td>\n",
              "      <td>...</td>\n",
              "      <td>...</td>\n",
              "      <td>...</td>\n",
              "      <td>...</td>\n",
              "      <td>...</td>\n",
              "    </tr>\n",
              "    <tr>\n",
              "      <th>567</th>\n",
              "      <td>20/7/2021</td>\n",
              "      <td>68403</td>\n",
              "      <td>10152</td>\n",
              "      <td>NaN</td>\n",
              "      <td>NaN</td>\n",
              "      <td>NaN</td>\n",
              "      <td>NaN</td>\n",
              "      <td>NaN</td>\n",
              "      <td>NaN</td>\n",
              "      <td>NaN</td>\n",
              "      <td>NaN</td>\n",
              "      <td>NaN</td>\n",
              "      <td>NaN</td>\n",
              "      <td>NaN</td>\n",
              "      <td>NaN</td>\n",
              "      <td>NaN</td>\n",
              "      <td>NaN</td>\n",
              "      <td>NaN</td>\n",
              "      <td>NaN</td>\n",
              "      <td>NaN</td>\n",
              "      <td>NaN</td>\n",
              "      <td>NaN</td>\n",
              "      <td>NaN</td>\n",
              "      <td>NaN</td>\n",
              "      <td>NaN</td>\n",
              "      <td>NaN</td>\n",
              "      <td>NaN</td>\n",
              "      <td>NaN</td>\n",
              "      <td>NaN</td>\n",
              "      <td>NaN</td>\n",
              "      <td>NaN</td>\n",
              "      <td>NaN</td>\n",
              "      <td>NaN</td>\n",
              "      <td>NaN</td>\n",
              "      <td>NaN</td>\n",
              "      <td>NaN</td>\n",
              "      <td>NaN</td>\n",
              "      <td>NaN</td>\n",
              "      <td>NaN</td>\n",
              "      <td>NaN</td>\n",
              "      <td>...</td>\n",
              "      <td>NaN</td>\n",
              "      <td>NaN</td>\n",
              "      <td>NaN</td>\n",
              "      <td>NaN</td>\n",
              "      <td>NaN</td>\n",
              "      <td>NaN</td>\n",
              "      <td>NaN</td>\n",
              "      <td>NaN</td>\n",
              "      <td>NaN</td>\n",
              "      <td>NaN</td>\n",
              "      <td>NaN</td>\n",
              "      <td>NaN</td>\n",
              "      <td>NaN</td>\n",
              "      <td>NaN</td>\n",
              "      <td>NaN</td>\n",
              "      <td>NaN</td>\n",
              "      <td>NaN</td>\n",
              "      <td>NaN</td>\n",
              "      <td>NaN</td>\n",
              "      <td>NaN</td>\n",
              "      <td>NaN</td>\n",
              "      <td>NaN</td>\n",
              "      <td>NaN</td>\n",
              "      <td>NaN</td>\n",
              "      <td>NaN</td>\n",
              "      <td>NaN</td>\n",
              "      <td>NaN</td>\n",
              "      <td>NaN</td>\n",
              "      <td>NaN</td>\n",
              "      <td>NaN</td>\n",
              "      <td>NaN</td>\n",
              "      <td>NaN</td>\n",
              "      <td>NaN</td>\n",
              "      <td>NaN</td>\n",
              "      <td>NaN</td>\n",
              "      <td>NaN</td>\n",
              "      <td>NaN</td>\n",
              "      <td>NaN</td>\n",
              "      <td>NaN</td>\n",
              "      <td>NaN</td>\n",
              "    </tr>\n",
              "    <tr>\n",
              "      <th>568</th>\n",
              "      <td>21/7/2021</td>\n",
              "      <td>82325</td>\n",
              "      <td>12210</td>\n",
              "      <td>NaN</td>\n",
              "      <td>NaN</td>\n",
              "      <td>NaN</td>\n",
              "      <td>NaN</td>\n",
              "      <td>NaN</td>\n",
              "      <td>NaN</td>\n",
              "      <td>NaN</td>\n",
              "      <td>NaN</td>\n",
              "      <td>NaN</td>\n",
              "      <td>NaN</td>\n",
              "      <td>NaN</td>\n",
              "      <td>NaN</td>\n",
              "      <td>NaN</td>\n",
              "      <td>NaN</td>\n",
              "      <td>NaN</td>\n",
              "      <td>NaN</td>\n",
              "      <td>NaN</td>\n",
              "      <td>NaN</td>\n",
              "      <td>NaN</td>\n",
              "      <td>NaN</td>\n",
              "      <td>NaN</td>\n",
              "      <td>NaN</td>\n",
              "      <td>NaN</td>\n",
              "      <td>NaN</td>\n",
              "      <td>NaN</td>\n",
              "      <td>NaN</td>\n",
              "      <td>NaN</td>\n",
              "      <td>NaN</td>\n",
              "      <td>NaN</td>\n",
              "      <td>NaN</td>\n",
              "      <td>NaN</td>\n",
              "      <td>NaN</td>\n",
              "      <td>NaN</td>\n",
              "      <td>NaN</td>\n",
              "      <td>NaN</td>\n",
              "      <td>NaN</td>\n",
              "      <td>NaN</td>\n",
              "      <td>...</td>\n",
              "      <td>NaN</td>\n",
              "      <td>NaN</td>\n",
              "      <td>NaN</td>\n",
              "      <td>NaN</td>\n",
              "      <td>NaN</td>\n",
              "      <td>NaN</td>\n",
              "      <td>NaN</td>\n",
              "      <td>NaN</td>\n",
              "      <td>NaN</td>\n",
              "      <td>NaN</td>\n",
              "      <td>NaN</td>\n",
              "      <td>NaN</td>\n",
              "      <td>NaN</td>\n",
              "      <td>NaN</td>\n",
              "      <td>NaN</td>\n",
              "      <td>NaN</td>\n",
              "      <td>NaN</td>\n",
              "      <td>NaN</td>\n",
              "      <td>NaN</td>\n",
              "      <td>NaN</td>\n",
              "      <td>NaN</td>\n",
              "      <td>NaN</td>\n",
              "      <td>NaN</td>\n",
              "      <td>NaN</td>\n",
              "      <td>NaN</td>\n",
              "      <td>NaN</td>\n",
              "      <td>NaN</td>\n",
              "      <td>NaN</td>\n",
              "      <td>NaN</td>\n",
              "      <td>NaN</td>\n",
              "      <td>NaN</td>\n",
              "      <td>NaN</td>\n",
              "      <td>NaN</td>\n",
              "      <td>NaN</td>\n",
              "      <td>NaN</td>\n",
              "      <td>NaN</td>\n",
              "      <td>NaN</td>\n",
              "      <td>NaN</td>\n",
              "      <td>NaN</td>\n",
              "      <td>NaN</td>\n",
              "    </tr>\n",
              "    <tr>\n",
              "      <th>569</th>\n",
              "      <td>22/7/2021</td>\n",
              "      <td>62846</td>\n",
              "      <td>10623</td>\n",
              "      <td>NaN</td>\n",
              "      <td>NaN</td>\n",
              "      <td>NaN</td>\n",
              "      <td>NaN</td>\n",
              "      <td>NaN</td>\n",
              "      <td>NaN</td>\n",
              "      <td>NaN</td>\n",
              "      <td>NaN</td>\n",
              "      <td>NaN</td>\n",
              "      <td>NaN</td>\n",
              "      <td>NaN</td>\n",
              "      <td>NaN</td>\n",
              "      <td>NaN</td>\n",
              "      <td>NaN</td>\n",
              "      <td>NaN</td>\n",
              "      <td>NaN</td>\n",
              "      <td>NaN</td>\n",
              "      <td>NaN</td>\n",
              "      <td>NaN</td>\n",
              "      <td>NaN</td>\n",
              "      <td>NaN</td>\n",
              "      <td>NaN</td>\n",
              "      <td>NaN</td>\n",
              "      <td>NaN</td>\n",
              "      <td>NaN</td>\n",
              "      <td>NaN</td>\n",
              "      <td>NaN</td>\n",
              "      <td>NaN</td>\n",
              "      <td>NaN</td>\n",
              "      <td>NaN</td>\n",
              "      <td>NaN</td>\n",
              "      <td>NaN</td>\n",
              "      <td>NaN</td>\n",
              "      <td>NaN</td>\n",
              "      <td>NaN</td>\n",
              "      <td>NaN</td>\n",
              "      <td>NaN</td>\n",
              "      <td>...</td>\n",
              "      <td>NaN</td>\n",
              "      <td>NaN</td>\n",
              "      <td>NaN</td>\n",
              "      <td>NaN</td>\n",
              "      <td>NaN</td>\n",
              "      <td>NaN</td>\n",
              "      <td>NaN</td>\n",
              "      <td>NaN</td>\n",
              "      <td>NaN</td>\n",
              "      <td>NaN</td>\n",
              "      <td>NaN</td>\n",
              "      <td>NaN</td>\n",
              "      <td>NaN</td>\n",
              "      <td>NaN</td>\n",
              "      <td>NaN</td>\n",
              "      <td>NaN</td>\n",
              "      <td>NaN</td>\n",
              "      <td>NaN</td>\n",
              "      <td>NaN</td>\n",
              "      <td>NaN</td>\n",
              "      <td>NaN</td>\n",
              "      <td>NaN</td>\n",
              "      <td>NaN</td>\n",
              "      <td>NaN</td>\n",
              "      <td>NaN</td>\n",
              "      <td>NaN</td>\n",
              "      <td>NaN</td>\n",
              "      <td>NaN</td>\n",
              "      <td>NaN</td>\n",
              "      <td>NaN</td>\n",
              "      <td>NaN</td>\n",
              "      <td>NaN</td>\n",
              "      <td>NaN</td>\n",
              "      <td>NaN</td>\n",
              "      <td>NaN</td>\n",
              "      <td>NaN</td>\n",
              "      <td>NaN</td>\n",
              "      <td>NaN</td>\n",
              "      <td>NaN</td>\n",
              "      <td>NaN</td>\n",
              "    </tr>\n",
              "    <tr>\n",
              "      <th>570</th>\n",
              "      <td>23/7/2021</td>\n",
              "      <td>58851</td>\n",
              "      <td>10200</td>\n",
              "      <td>NaN</td>\n",
              "      <td>NaN</td>\n",
              "      <td>NaN</td>\n",
              "      <td>NaN</td>\n",
              "      <td>NaN</td>\n",
              "      <td>NaN</td>\n",
              "      <td>NaN</td>\n",
              "      <td>NaN</td>\n",
              "      <td>NaN</td>\n",
              "      <td>NaN</td>\n",
              "      <td>NaN</td>\n",
              "      <td>NaN</td>\n",
              "      <td>NaN</td>\n",
              "      <td>NaN</td>\n",
              "      <td>NaN</td>\n",
              "      <td>NaN</td>\n",
              "      <td>NaN</td>\n",
              "      <td>NaN</td>\n",
              "      <td>NaN</td>\n",
              "      <td>NaN</td>\n",
              "      <td>NaN</td>\n",
              "      <td>NaN</td>\n",
              "      <td>NaN</td>\n",
              "      <td>NaN</td>\n",
              "      <td>NaN</td>\n",
              "      <td>NaN</td>\n",
              "      <td>NaN</td>\n",
              "      <td>NaN</td>\n",
              "      <td>NaN</td>\n",
              "      <td>NaN</td>\n",
              "      <td>NaN</td>\n",
              "      <td>NaN</td>\n",
              "      <td>NaN</td>\n",
              "      <td>NaN</td>\n",
              "      <td>NaN</td>\n",
              "      <td>NaN</td>\n",
              "      <td>NaN</td>\n",
              "      <td>...</td>\n",
              "      <td>NaN</td>\n",
              "      <td>NaN</td>\n",
              "      <td>NaN</td>\n",
              "      <td>NaN</td>\n",
              "      <td>NaN</td>\n",
              "      <td>NaN</td>\n",
              "      <td>NaN</td>\n",
              "      <td>NaN</td>\n",
              "      <td>NaN</td>\n",
              "      <td>NaN</td>\n",
              "      <td>NaN</td>\n",
              "      <td>NaN</td>\n",
              "      <td>NaN</td>\n",
              "      <td>NaN</td>\n",
              "      <td>NaN</td>\n",
              "      <td>NaN</td>\n",
              "      <td>NaN</td>\n",
              "      <td>NaN</td>\n",
              "      <td>NaN</td>\n",
              "      <td>NaN</td>\n",
              "      <td>NaN</td>\n",
              "      <td>NaN</td>\n",
              "      <td>NaN</td>\n",
              "      <td>NaN</td>\n",
              "      <td>NaN</td>\n",
              "      <td>NaN</td>\n",
              "      <td>NaN</td>\n",
              "      <td>NaN</td>\n",
              "      <td>NaN</td>\n",
              "      <td>NaN</td>\n",
              "      <td>NaN</td>\n",
              "      <td>NaN</td>\n",
              "      <td>NaN</td>\n",
              "      <td>NaN</td>\n",
              "      <td>NaN</td>\n",
              "      <td>NaN</td>\n",
              "      <td>NaN</td>\n",
              "      <td>NaN</td>\n",
              "      <td>NaN</td>\n",
              "      <td>NaN</td>\n",
              "    </tr>\n",
              "    <tr>\n",
              "      <th>571</th>\n",
              "      <td>24/7/2021</td>\n",
              "      <td>67283</td>\n",
              "      <td>13745</td>\n",
              "      <td>NaN</td>\n",
              "      <td>NaN</td>\n",
              "      <td>NaN</td>\n",
              "      <td>NaN</td>\n",
              "      <td>NaN</td>\n",
              "      <td>NaN</td>\n",
              "      <td>NaN</td>\n",
              "      <td>NaN</td>\n",
              "      <td>NaN</td>\n",
              "      <td>NaN</td>\n",
              "      <td>NaN</td>\n",
              "      <td>NaN</td>\n",
              "      <td>NaN</td>\n",
              "      <td>NaN</td>\n",
              "      <td>NaN</td>\n",
              "      <td>NaN</td>\n",
              "      <td>NaN</td>\n",
              "      <td>NaN</td>\n",
              "      <td>NaN</td>\n",
              "      <td>NaN</td>\n",
              "      <td>NaN</td>\n",
              "      <td>NaN</td>\n",
              "      <td>NaN</td>\n",
              "      <td>NaN</td>\n",
              "      <td>NaN</td>\n",
              "      <td>NaN</td>\n",
              "      <td>NaN</td>\n",
              "      <td>NaN</td>\n",
              "      <td>NaN</td>\n",
              "      <td>NaN</td>\n",
              "      <td>NaN</td>\n",
              "      <td>NaN</td>\n",
              "      <td>NaN</td>\n",
              "      <td>NaN</td>\n",
              "      <td>NaN</td>\n",
              "      <td>NaN</td>\n",
              "      <td>NaN</td>\n",
              "      <td>...</td>\n",
              "      <td>NaN</td>\n",
              "      <td>NaN</td>\n",
              "      <td>NaN</td>\n",
              "      <td>NaN</td>\n",
              "      <td>NaN</td>\n",
              "      <td>NaN</td>\n",
              "      <td>NaN</td>\n",
              "      <td>NaN</td>\n",
              "      <td>NaN</td>\n",
              "      <td>NaN</td>\n",
              "      <td>NaN</td>\n",
              "      <td>NaN</td>\n",
              "      <td>NaN</td>\n",
              "      <td>NaN</td>\n",
              "      <td>NaN</td>\n",
              "      <td>NaN</td>\n",
              "      <td>NaN</td>\n",
              "      <td>NaN</td>\n",
              "      <td>NaN</td>\n",
              "      <td>NaN</td>\n",
              "      <td>NaN</td>\n",
              "      <td>NaN</td>\n",
              "      <td>NaN</td>\n",
              "      <td>NaN</td>\n",
              "      <td>NaN</td>\n",
              "      <td>NaN</td>\n",
              "      <td>NaN</td>\n",
              "      <td>NaN</td>\n",
              "      <td>NaN</td>\n",
              "      <td>NaN</td>\n",
              "      <td>NaN</td>\n",
              "      <td>NaN</td>\n",
              "      <td>NaN</td>\n",
              "      <td>NaN</td>\n",
              "      <td>NaN</td>\n",
              "      <td>NaN</td>\n",
              "      <td>NaN</td>\n",
              "      <td>NaN</td>\n",
              "      <td>NaN</td>\n",
              "      <td>NaN</td>\n",
              "    </tr>\n",
              "  </tbody>\n",
              "</table>\n",
              "<p>572 rows × 122 columns</p>\n",
              "</div>"
            ],
            "text/plain": [
              "                    Date  positive  ...  Unnamed: 120  Unnamed: 121\n",
              "0    Cannot specify date      2963  ...           NaN           NaN\n",
              "1               1/1/2020         0  ...            31           NaN\n",
              "2               2/1/2020         0  ...           Pos           Pos\n",
              "3               3/1/2020         0  ...           NaN           NaN\n",
              "4               4/1/2020         0  ...           NaN           NaN\n",
              "..                   ...       ...  ...           ...           ...\n",
              "567            20/7/2021     68403  ...           NaN           NaN\n",
              "568            21/7/2021     82325  ...           NaN           NaN\n",
              "569            22/7/2021     62846  ...           NaN           NaN\n",
              "570            23/7/2021     58851  ...           NaN           NaN\n",
              "571            24/7/2021     67283  ...           NaN           NaN\n",
              "\n",
              "[572 rows x 122 columns]"
            ]
          },
          "metadata": {
            "tags": []
          },
          "execution_count": 6
        }
      ]
    },
    {
      "cell_type": "markdown",
      "metadata": {
        "id": "_DOMfMzBHE9V"
      },
      "source": [
        "#Nan = not a Number (ช่องว่าง)"
      ]
    },
    {
      "cell_type": "code",
      "metadata": {
        "id": "PmEmAcr1HDit",
        "colab": {
          "base_uri": "https://localhost:8080/",
          "height": 423
        },
        "outputId": "ff7110d4-b272-4c02-e0a3-e7d76c1fffc8"
      },
      "source": [
        "data.iloc[:,:3] #[แถว,หลัก] # : เอาหมด #เริ่ม 0 ก่อน # run เพื่อแสดงผล #รันเพื่อแสดงเมมโมรี"
      ],
      "execution_count": null,
      "outputs": [
        {
          "output_type": "execute_result",
          "data": {
            "text/html": [
              "<div>\n",
              "<style scoped>\n",
              "    .dataframe tbody tr th:only-of-type {\n",
              "        vertical-align: middle;\n",
              "    }\n",
              "\n",
              "    .dataframe tbody tr th {\n",
              "        vertical-align: top;\n",
              "    }\n",
              "\n",
              "    .dataframe thead th {\n",
              "        text-align: right;\n",
              "    }\n",
              "</style>\n",
              "<table border=\"1\" class=\"dataframe\">\n",
              "  <thead>\n",
              "    <tr style=\"text-align: right;\">\n",
              "      <th></th>\n",
              "      <th>Date</th>\n",
              "      <th>positive</th>\n",
              "      <th>Total Testing</th>\n",
              "    </tr>\n",
              "  </thead>\n",
              "  <tbody>\n",
              "    <tr>\n",
              "      <th>0</th>\n",
              "      <td>Cannot specify date</td>\n",
              "      <td>2963</td>\n",
              "      <td>32131</td>\n",
              "    </tr>\n",
              "    <tr>\n",
              "      <th>1</th>\n",
              "      <td>1/1/2020</td>\n",
              "      <td>0</td>\n",
              "      <td>0</td>\n",
              "    </tr>\n",
              "    <tr>\n",
              "      <th>2</th>\n",
              "      <td>2/1/2020</td>\n",
              "      <td>0</td>\n",
              "      <td>0</td>\n",
              "    </tr>\n",
              "    <tr>\n",
              "      <th>3</th>\n",
              "      <td>3/1/2020</td>\n",
              "      <td>0</td>\n",
              "      <td>0</td>\n",
              "    </tr>\n",
              "    <tr>\n",
              "      <th>4</th>\n",
              "      <td>4/1/2020</td>\n",
              "      <td>0</td>\n",
              "      <td>2</td>\n",
              "    </tr>\n",
              "    <tr>\n",
              "      <th>...</th>\n",
              "      <td>...</td>\n",
              "      <td>...</td>\n",
              "      <td>...</td>\n",
              "    </tr>\n",
              "    <tr>\n",
              "      <th>567</th>\n",
              "      <td>20/7/2021</td>\n",
              "      <td>68403</td>\n",
              "      <td>10152</td>\n",
              "    </tr>\n",
              "    <tr>\n",
              "      <th>568</th>\n",
              "      <td>21/7/2021</td>\n",
              "      <td>82325</td>\n",
              "      <td>12210</td>\n",
              "    </tr>\n",
              "    <tr>\n",
              "      <th>569</th>\n",
              "      <td>22/7/2021</td>\n",
              "      <td>62846</td>\n",
              "      <td>10623</td>\n",
              "    </tr>\n",
              "    <tr>\n",
              "      <th>570</th>\n",
              "      <td>23/7/2021</td>\n",
              "      <td>58851</td>\n",
              "      <td>10200</td>\n",
              "    </tr>\n",
              "    <tr>\n",
              "      <th>571</th>\n",
              "      <td>24/7/2021</td>\n",
              "      <td>67283</td>\n",
              "      <td>13745</td>\n",
              "    </tr>\n",
              "  </tbody>\n",
              "</table>\n",
              "<p>572 rows × 3 columns</p>\n",
              "</div>"
            ],
            "text/plain": [
              "                    Date  positive  Total Testing\n",
              "0    Cannot specify date      2963          32131\n",
              "1               1/1/2020         0              0\n",
              "2               2/1/2020         0              0\n",
              "3               3/1/2020         0              0\n",
              "4               4/1/2020         0              2\n",
              "..                   ...       ...            ...\n",
              "567            20/7/2021     68403          10152\n",
              "568            21/7/2021     82325          12210\n",
              "569            22/7/2021     62846          10623\n",
              "570            23/7/2021     58851          10200\n",
              "571            24/7/2021     67283          13745\n",
              "\n",
              "[572 rows x 3 columns]"
            ]
          },
          "metadata": {
            "tags": []
          },
          "execution_count": 7
        }
      ]
    },
    {
      "cell_type": "code",
      "metadata": {
        "id": "QkCYBNl4HDbz"
      },
      "source": [
        "dataN = data.iloc[:,:3] #ตั้งตัวแปรให้มัน"
      ],
      "execution_count": null,
      "outputs": []
    },
    {
      "cell_type": "code",
      "metadata": {
        "id": "K-TBuj6PHDZU",
        "colab": {
          "base_uri": "https://localhost:8080/",
          "height": 423
        },
        "outputId": "7cf1e816-2ac8-4c28-acb0-ab7f00aabf05"
      },
      "source": [
        "dataN"
      ],
      "execution_count": null,
      "outputs": [
        {
          "output_type": "execute_result",
          "data": {
            "text/html": [
              "<div>\n",
              "<style scoped>\n",
              "    .dataframe tbody tr th:only-of-type {\n",
              "        vertical-align: middle;\n",
              "    }\n",
              "\n",
              "    .dataframe tbody tr th {\n",
              "        vertical-align: top;\n",
              "    }\n",
              "\n",
              "    .dataframe thead th {\n",
              "        text-align: right;\n",
              "    }\n",
              "</style>\n",
              "<table border=\"1\" class=\"dataframe\">\n",
              "  <thead>\n",
              "    <tr style=\"text-align: right;\">\n",
              "      <th></th>\n",
              "      <th>Date</th>\n",
              "      <th>positive</th>\n",
              "      <th>Total Testing</th>\n",
              "    </tr>\n",
              "  </thead>\n",
              "  <tbody>\n",
              "    <tr>\n",
              "      <th>0</th>\n",
              "      <td>Cannot specify date</td>\n",
              "      <td>2963</td>\n",
              "      <td>32131</td>\n",
              "    </tr>\n",
              "    <tr>\n",
              "      <th>1</th>\n",
              "      <td>1/1/2020</td>\n",
              "      <td>0</td>\n",
              "      <td>0</td>\n",
              "    </tr>\n",
              "    <tr>\n",
              "      <th>2</th>\n",
              "      <td>2/1/2020</td>\n",
              "      <td>0</td>\n",
              "      <td>0</td>\n",
              "    </tr>\n",
              "    <tr>\n",
              "      <th>3</th>\n",
              "      <td>3/1/2020</td>\n",
              "      <td>0</td>\n",
              "      <td>0</td>\n",
              "    </tr>\n",
              "    <tr>\n",
              "      <th>4</th>\n",
              "      <td>4/1/2020</td>\n",
              "      <td>0</td>\n",
              "      <td>2</td>\n",
              "    </tr>\n",
              "    <tr>\n",
              "      <th>...</th>\n",
              "      <td>...</td>\n",
              "      <td>...</td>\n",
              "      <td>...</td>\n",
              "    </tr>\n",
              "    <tr>\n",
              "      <th>567</th>\n",
              "      <td>20/7/2021</td>\n",
              "      <td>68403</td>\n",
              "      <td>10152</td>\n",
              "    </tr>\n",
              "    <tr>\n",
              "      <th>568</th>\n",
              "      <td>21/7/2021</td>\n",
              "      <td>82325</td>\n",
              "      <td>12210</td>\n",
              "    </tr>\n",
              "    <tr>\n",
              "      <th>569</th>\n",
              "      <td>22/7/2021</td>\n",
              "      <td>62846</td>\n",
              "      <td>10623</td>\n",
              "    </tr>\n",
              "    <tr>\n",
              "      <th>570</th>\n",
              "      <td>23/7/2021</td>\n",
              "      <td>58851</td>\n",
              "      <td>10200</td>\n",
              "    </tr>\n",
              "    <tr>\n",
              "      <th>571</th>\n",
              "      <td>24/7/2021</td>\n",
              "      <td>67283</td>\n",
              "      <td>13745</td>\n",
              "    </tr>\n",
              "  </tbody>\n",
              "</table>\n",
              "<p>572 rows × 3 columns</p>\n",
              "</div>"
            ],
            "text/plain": [
              "                    Date  positive  Total Testing\n",
              "0    Cannot specify date      2963          32131\n",
              "1               1/1/2020         0              0\n",
              "2               2/1/2020         0              0\n",
              "3               3/1/2020         0              0\n",
              "4               4/1/2020         0              2\n",
              "..                   ...       ...            ...\n",
              "567            20/7/2021     68403          10152\n",
              "568            21/7/2021     82325          12210\n",
              "569            22/7/2021     62846          10623\n",
              "570            23/7/2021     58851          10200\n",
              "571            24/7/2021     67283          13745\n",
              "\n",
              "[572 rows x 3 columns]"
            ]
          },
          "metadata": {
            "tags": []
          },
          "execution_count": 9
        }
      ]
    },
    {
      "cell_type": "markdown",
      "metadata": {
        "id": "bqmlTRXqHKpl"
      },
      "source": [
        "#คำสั่ง .head() .tail()"
      ]
    },
    {
      "cell_type": "code",
      "metadata": {
        "id": "ukf1NlwbHDXW",
        "colab": {
          "base_uri": "https://localhost:8080/",
          "height": 206
        },
        "outputId": "499924cb-4b86-449b-ec45-e92ddae6ecaa"
      },
      "source": [
        "dataN.head() #ดูหัวตาราง #ค่าเริ่มต้นเท่ากัน 5 ถ้าเราไม่ใส่อะไรเลย"
      ],
      "execution_count": null,
      "outputs": [
        {
          "output_type": "execute_result",
          "data": {
            "text/html": [
              "<div>\n",
              "<style scoped>\n",
              "    .dataframe tbody tr th:only-of-type {\n",
              "        vertical-align: middle;\n",
              "    }\n",
              "\n",
              "    .dataframe tbody tr th {\n",
              "        vertical-align: top;\n",
              "    }\n",
              "\n",
              "    .dataframe thead th {\n",
              "        text-align: right;\n",
              "    }\n",
              "</style>\n",
              "<table border=\"1\" class=\"dataframe\">\n",
              "  <thead>\n",
              "    <tr style=\"text-align: right;\">\n",
              "      <th></th>\n",
              "      <th>Date</th>\n",
              "      <th>positive</th>\n",
              "      <th>Total Testing</th>\n",
              "    </tr>\n",
              "  </thead>\n",
              "  <tbody>\n",
              "    <tr>\n",
              "      <th>0</th>\n",
              "      <td>Cannot specify date</td>\n",
              "      <td>2963</td>\n",
              "      <td>32131</td>\n",
              "    </tr>\n",
              "    <tr>\n",
              "      <th>1</th>\n",
              "      <td>1/1/2020</td>\n",
              "      <td>0</td>\n",
              "      <td>0</td>\n",
              "    </tr>\n",
              "    <tr>\n",
              "      <th>2</th>\n",
              "      <td>2/1/2020</td>\n",
              "      <td>0</td>\n",
              "      <td>0</td>\n",
              "    </tr>\n",
              "    <tr>\n",
              "      <th>3</th>\n",
              "      <td>3/1/2020</td>\n",
              "      <td>0</td>\n",
              "      <td>0</td>\n",
              "    </tr>\n",
              "    <tr>\n",
              "      <th>4</th>\n",
              "      <td>4/1/2020</td>\n",
              "      <td>0</td>\n",
              "      <td>2</td>\n",
              "    </tr>\n",
              "  </tbody>\n",
              "</table>\n",
              "</div>"
            ],
            "text/plain": [
              "                  Date  positive  Total Testing\n",
              "0  Cannot specify date      2963          32131\n",
              "1             1/1/2020         0              0\n",
              "2             2/1/2020         0              0\n",
              "3             3/1/2020         0              0\n",
              "4             4/1/2020         0              2"
            ]
          },
          "metadata": {
            "tags": []
          },
          "execution_count": 10
        }
      ]
    },
    {
      "cell_type": "code",
      "metadata": {
        "id": "r9NOftSxHDU9",
        "colab": {
          "base_uri": "https://localhost:8080/",
          "height": 206
        },
        "outputId": "e3c4c691-f8b3-40ee-dd22-2149242a314d"
      },
      "source": [
        "dataN.tail() #ดูท้ายตาราง"
      ],
      "execution_count": null,
      "outputs": [
        {
          "output_type": "execute_result",
          "data": {
            "text/html": [
              "<div>\n",
              "<style scoped>\n",
              "    .dataframe tbody tr th:only-of-type {\n",
              "        vertical-align: middle;\n",
              "    }\n",
              "\n",
              "    .dataframe tbody tr th {\n",
              "        vertical-align: top;\n",
              "    }\n",
              "\n",
              "    .dataframe thead th {\n",
              "        text-align: right;\n",
              "    }\n",
              "</style>\n",
              "<table border=\"1\" class=\"dataframe\">\n",
              "  <thead>\n",
              "    <tr style=\"text-align: right;\">\n",
              "      <th></th>\n",
              "      <th>Date</th>\n",
              "      <th>positive</th>\n",
              "      <th>Total Testing</th>\n",
              "    </tr>\n",
              "  </thead>\n",
              "  <tbody>\n",
              "    <tr>\n",
              "      <th>567</th>\n",
              "      <td>20/7/2021</td>\n",
              "      <td>68403</td>\n",
              "      <td>10152</td>\n",
              "    </tr>\n",
              "    <tr>\n",
              "      <th>568</th>\n",
              "      <td>21/7/2021</td>\n",
              "      <td>82325</td>\n",
              "      <td>12210</td>\n",
              "    </tr>\n",
              "    <tr>\n",
              "      <th>569</th>\n",
              "      <td>22/7/2021</td>\n",
              "      <td>62846</td>\n",
              "      <td>10623</td>\n",
              "    </tr>\n",
              "    <tr>\n",
              "      <th>570</th>\n",
              "      <td>23/7/2021</td>\n",
              "      <td>58851</td>\n",
              "      <td>10200</td>\n",
              "    </tr>\n",
              "    <tr>\n",
              "      <th>571</th>\n",
              "      <td>24/7/2021</td>\n",
              "      <td>67283</td>\n",
              "      <td>13745</td>\n",
              "    </tr>\n",
              "  </tbody>\n",
              "</table>\n",
              "</div>"
            ],
            "text/plain": [
              "          Date  positive  Total Testing\n",
              "567  20/7/2021     68403          10152\n",
              "568  21/7/2021     82325          12210\n",
              "569  22/7/2021     62846          10623\n",
              "570  23/7/2021     58851          10200\n",
              "571  24/7/2021     67283          13745"
            ]
          },
          "metadata": {
            "tags": []
          },
          "execution_count": 11
        }
      ]
    },
    {
      "cell_type": "code",
      "metadata": {
        "id": "lTRWGij_HDS5",
        "colab": {
          "base_uri": "https://localhost:8080/",
          "height": 363
        },
        "outputId": "d90876d3-354d-4af1-dbbd-b4c12229c158"
      },
      "source": [
        "dataN.head(10) #แสดงกี่เรคคอดที่เราต้องการ"
      ],
      "execution_count": null,
      "outputs": [
        {
          "output_type": "execute_result",
          "data": {
            "text/html": [
              "<div>\n",
              "<style scoped>\n",
              "    .dataframe tbody tr th:only-of-type {\n",
              "        vertical-align: middle;\n",
              "    }\n",
              "\n",
              "    .dataframe tbody tr th {\n",
              "        vertical-align: top;\n",
              "    }\n",
              "\n",
              "    .dataframe thead th {\n",
              "        text-align: right;\n",
              "    }\n",
              "</style>\n",
              "<table border=\"1\" class=\"dataframe\">\n",
              "  <thead>\n",
              "    <tr style=\"text-align: right;\">\n",
              "      <th></th>\n",
              "      <th>Date</th>\n",
              "      <th>positive</th>\n",
              "      <th>Total Testing</th>\n",
              "    </tr>\n",
              "  </thead>\n",
              "  <tbody>\n",
              "    <tr>\n",
              "      <th>0</th>\n",
              "      <td>Cannot specify date</td>\n",
              "      <td>2963</td>\n",
              "      <td>32131</td>\n",
              "    </tr>\n",
              "    <tr>\n",
              "      <th>1</th>\n",
              "      <td>1/1/2020</td>\n",
              "      <td>0</td>\n",
              "      <td>0</td>\n",
              "    </tr>\n",
              "    <tr>\n",
              "      <th>2</th>\n",
              "      <td>2/1/2020</td>\n",
              "      <td>0</td>\n",
              "      <td>0</td>\n",
              "    </tr>\n",
              "    <tr>\n",
              "      <th>3</th>\n",
              "      <td>3/1/2020</td>\n",
              "      <td>0</td>\n",
              "      <td>0</td>\n",
              "    </tr>\n",
              "    <tr>\n",
              "      <th>4</th>\n",
              "      <td>4/1/2020</td>\n",
              "      <td>0</td>\n",
              "      <td>2</td>\n",
              "    </tr>\n",
              "    <tr>\n",
              "      <th>5</th>\n",
              "      <td>5/1/2020</td>\n",
              "      <td>0</td>\n",
              "      <td>2</td>\n",
              "    </tr>\n",
              "    <tr>\n",
              "      <th>6</th>\n",
              "      <td>6/1/2020</td>\n",
              "      <td>0</td>\n",
              "      <td>5</td>\n",
              "    </tr>\n",
              "    <tr>\n",
              "      <th>7</th>\n",
              "      <td>7/1/2020</td>\n",
              "      <td>0</td>\n",
              "      <td>0</td>\n",
              "    </tr>\n",
              "    <tr>\n",
              "      <th>8</th>\n",
              "      <td>8/1/2020</td>\n",
              "      <td>1</td>\n",
              "      <td>1</td>\n",
              "    </tr>\n",
              "    <tr>\n",
              "      <th>9</th>\n",
              "      <td>9/1/2020</td>\n",
              "      <td>4</td>\n",
              "      <td>13</td>\n",
              "    </tr>\n",
              "  </tbody>\n",
              "</table>\n",
              "</div>"
            ],
            "text/plain": [
              "                  Date  positive  Total Testing\n",
              "0  Cannot specify date      2963          32131\n",
              "1             1/1/2020         0              0\n",
              "2             2/1/2020         0              0\n",
              "3             3/1/2020         0              0\n",
              "4             4/1/2020         0              2\n",
              "5             5/1/2020         0              2\n",
              "6             6/1/2020         0              5\n",
              "7             7/1/2020         0              0\n",
              "8             8/1/2020         1              1\n",
              "9             9/1/2020         4             13"
            ]
          },
          "metadata": {
            "tags": []
          },
          "execution_count": 12
        }
      ]
    },
    {
      "cell_type": "code",
      "metadata": {
        "id": "z5q4kI_AHDQp",
        "colab": {
          "base_uri": "https://localhost:8080/",
          "height": 457
        },
        "outputId": "0431ef42-3114-4df4-8c90-8beb10b8ea2e"
      },
      "source": [
        "dataN.head(n=13) #กำหนด n ให้"
      ],
      "execution_count": null,
      "outputs": [
        {
          "output_type": "execute_result",
          "data": {
            "text/html": [
              "<div>\n",
              "<style scoped>\n",
              "    .dataframe tbody tr th:only-of-type {\n",
              "        vertical-align: middle;\n",
              "    }\n",
              "\n",
              "    .dataframe tbody tr th {\n",
              "        vertical-align: top;\n",
              "    }\n",
              "\n",
              "    .dataframe thead th {\n",
              "        text-align: right;\n",
              "    }\n",
              "</style>\n",
              "<table border=\"1\" class=\"dataframe\">\n",
              "  <thead>\n",
              "    <tr style=\"text-align: right;\">\n",
              "      <th></th>\n",
              "      <th>Date</th>\n",
              "      <th>positive</th>\n",
              "      <th>Total Testing</th>\n",
              "    </tr>\n",
              "  </thead>\n",
              "  <tbody>\n",
              "    <tr>\n",
              "      <th>0</th>\n",
              "      <td>Cannot specify date</td>\n",
              "      <td>2963</td>\n",
              "      <td>32131</td>\n",
              "    </tr>\n",
              "    <tr>\n",
              "      <th>1</th>\n",
              "      <td>1/1/2020</td>\n",
              "      <td>0</td>\n",
              "      <td>0</td>\n",
              "    </tr>\n",
              "    <tr>\n",
              "      <th>2</th>\n",
              "      <td>2/1/2020</td>\n",
              "      <td>0</td>\n",
              "      <td>0</td>\n",
              "    </tr>\n",
              "    <tr>\n",
              "      <th>3</th>\n",
              "      <td>3/1/2020</td>\n",
              "      <td>0</td>\n",
              "      <td>0</td>\n",
              "    </tr>\n",
              "    <tr>\n",
              "      <th>4</th>\n",
              "      <td>4/1/2020</td>\n",
              "      <td>0</td>\n",
              "      <td>2</td>\n",
              "    </tr>\n",
              "    <tr>\n",
              "      <th>5</th>\n",
              "      <td>5/1/2020</td>\n",
              "      <td>0</td>\n",
              "      <td>2</td>\n",
              "    </tr>\n",
              "    <tr>\n",
              "      <th>6</th>\n",
              "      <td>6/1/2020</td>\n",
              "      <td>0</td>\n",
              "      <td>5</td>\n",
              "    </tr>\n",
              "    <tr>\n",
              "      <th>7</th>\n",
              "      <td>7/1/2020</td>\n",
              "      <td>0</td>\n",
              "      <td>0</td>\n",
              "    </tr>\n",
              "    <tr>\n",
              "      <th>8</th>\n",
              "      <td>8/1/2020</td>\n",
              "      <td>1</td>\n",
              "      <td>1</td>\n",
              "    </tr>\n",
              "    <tr>\n",
              "      <th>9</th>\n",
              "      <td>9/1/2020</td>\n",
              "      <td>4</td>\n",
              "      <td>13</td>\n",
              "    </tr>\n",
              "    <tr>\n",
              "      <th>10</th>\n",
              "      <td>10/1/2020</td>\n",
              "      <td>0</td>\n",
              "      <td>18</td>\n",
              "    </tr>\n",
              "    <tr>\n",
              "      <th>11</th>\n",
              "      <td>11/1/2020</td>\n",
              "      <td>0</td>\n",
              "      <td>3</td>\n",
              "    </tr>\n",
              "    <tr>\n",
              "      <th>12</th>\n",
              "      <td>12/1/2020</td>\n",
              "      <td>2</td>\n",
              "      <td>6</td>\n",
              "    </tr>\n",
              "  </tbody>\n",
              "</table>\n",
              "</div>"
            ],
            "text/plain": [
              "                   Date  positive  Total Testing\n",
              "0   Cannot specify date      2963          32131\n",
              "1              1/1/2020         0              0\n",
              "2              2/1/2020         0              0\n",
              "3              3/1/2020         0              0\n",
              "4              4/1/2020         0              2\n",
              "5              5/1/2020         0              2\n",
              "6              6/1/2020         0              5\n",
              "7              7/1/2020         0              0\n",
              "8              8/1/2020         1              1\n",
              "9              9/1/2020         4             13\n",
              "10            10/1/2020         0             18\n",
              "11            11/1/2020         0              3\n",
              "12            12/1/2020         2              6"
            ]
          },
          "metadata": {
            "tags": []
          },
          "execution_count": 13
        }
      ]
    },
    {
      "cell_type": "code",
      "metadata": {
        "id": "1T96riLbHDOc",
        "colab": {
          "base_uri": "https://localhost:8080/",
          "height": 676
        },
        "outputId": "f16e29ab-e009-4dce-b7db-05988c83382d"
      },
      "source": [
        "dataN.tail(20) #ดูท้ายตาราง 20 ตัว"
      ],
      "execution_count": null,
      "outputs": [
        {
          "output_type": "execute_result",
          "data": {
            "text/html": [
              "<div>\n",
              "<style scoped>\n",
              "    .dataframe tbody tr th:only-of-type {\n",
              "        vertical-align: middle;\n",
              "    }\n",
              "\n",
              "    .dataframe tbody tr th {\n",
              "        vertical-align: top;\n",
              "    }\n",
              "\n",
              "    .dataframe thead th {\n",
              "        text-align: right;\n",
              "    }\n",
              "</style>\n",
              "<table border=\"1\" class=\"dataframe\">\n",
              "  <thead>\n",
              "    <tr style=\"text-align: right;\">\n",
              "      <th></th>\n",
              "      <th>Date</th>\n",
              "      <th>positive</th>\n",
              "      <th>Total Testing</th>\n",
              "    </tr>\n",
              "  </thead>\n",
              "  <tbody>\n",
              "    <tr>\n",
              "      <th>552</th>\n",
              "      <td>5/7/2021</td>\n",
              "      <td>4770</td>\n",
              "      <td>52017</td>\n",
              "    </tr>\n",
              "    <tr>\n",
              "      <th>553</th>\n",
              "      <td>6/7/2021</td>\n",
              "      <td>6066</td>\n",
              "      <td>70051</td>\n",
              "    </tr>\n",
              "    <tr>\n",
              "      <th>554</th>\n",
              "      <td>7/7/2021</td>\n",
              "      <td>6224</td>\n",
              "      <td>62695</td>\n",
              "    </tr>\n",
              "    <tr>\n",
              "      <th>555</th>\n",
              "      <td>8/7/2021</td>\n",
              "      <td>6624</td>\n",
              "      <td>66596</td>\n",
              "    </tr>\n",
              "    <tr>\n",
              "      <th>556</th>\n",
              "      <td>9/7/2021</td>\n",
              "      <td>6890</td>\n",
              "      <td>66267</td>\n",
              "    </tr>\n",
              "    <tr>\n",
              "      <th>557</th>\n",
              "      <td>10/7/2021</td>\n",
              "      <td>9045</td>\n",
              "      <td>74906</td>\n",
              "    </tr>\n",
              "    <tr>\n",
              "      <th>558</th>\n",
              "      <td>11/7/2021</td>\n",
              "      <td>8564</td>\n",
              "      <td>77848</td>\n",
              "    </tr>\n",
              "    <tr>\n",
              "      <th>559</th>\n",
              "      <td>12/7/2021</td>\n",
              "      <td>6391</td>\n",
              "      <td>56775</td>\n",
              "    </tr>\n",
              "    <tr>\n",
              "      <th>560</th>\n",
              "      <td>13/7/2021</td>\n",
              "      <td>7549</td>\n",
              "      <td>70798</td>\n",
              "    </tr>\n",
              "    <tr>\n",
              "      <th>561</th>\n",
              "      <td>14/7/2021</td>\n",
              "      <td>7877</td>\n",
              "      <td>65836</td>\n",
              "    </tr>\n",
              "    <tr>\n",
              "      <th>562</th>\n",
              "      <td>15/7/2021</td>\n",
              "      <td>8648</td>\n",
              "      <td>70403</td>\n",
              "    </tr>\n",
              "    <tr>\n",
              "      <th>563</th>\n",
              "      <td>16/7/2021</td>\n",
              "      <td>9627</td>\n",
              "      <td>73260</td>\n",
              "    </tr>\n",
              "    <tr>\n",
              "      <th>564</th>\n",
              "      <td>17/7/2021</td>\n",
              "      <td>9221</td>\n",
              "      <td>68384</td>\n",
              "    </tr>\n",
              "    <tr>\n",
              "      <th>565</th>\n",
              "      <td>18/7/2021</td>\n",
              "      <td>68326</td>\n",
              "      <td>12192</td>\n",
              "    </tr>\n",
              "    <tr>\n",
              "      <th>566</th>\n",
              "      <td>19/7/2021</td>\n",
              "      <td>64522</td>\n",
              "      <td>9466</td>\n",
              "    </tr>\n",
              "    <tr>\n",
              "      <th>567</th>\n",
              "      <td>20/7/2021</td>\n",
              "      <td>68403</td>\n",
              "      <td>10152</td>\n",
              "    </tr>\n",
              "    <tr>\n",
              "      <th>568</th>\n",
              "      <td>21/7/2021</td>\n",
              "      <td>82325</td>\n",
              "      <td>12210</td>\n",
              "    </tr>\n",
              "    <tr>\n",
              "      <th>569</th>\n",
              "      <td>22/7/2021</td>\n",
              "      <td>62846</td>\n",
              "      <td>10623</td>\n",
              "    </tr>\n",
              "    <tr>\n",
              "      <th>570</th>\n",
              "      <td>23/7/2021</td>\n",
              "      <td>58851</td>\n",
              "      <td>10200</td>\n",
              "    </tr>\n",
              "    <tr>\n",
              "      <th>571</th>\n",
              "      <td>24/7/2021</td>\n",
              "      <td>67283</td>\n",
              "      <td>13745</td>\n",
              "    </tr>\n",
              "  </tbody>\n",
              "</table>\n",
              "</div>"
            ],
            "text/plain": [
              "          Date  positive  Total Testing\n",
              "552   5/7/2021      4770          52017\n",
              "553   6/7/2021      6066          70051\n",
              "554   7/7/2021      6224          62695\n",
              "555   8/7/2021      6624          66596\n",
              "556   9/7/2021      6890          66267\n",
              "557  10/7/2021      9045          74906\n",
              "558  11/7/2021      8564          77848\n",
              "559  12/7/2021      6391          56775\n",
              "560  13/7/2021      7549          70798\n",
              "561  14/7/2021      7877          65836\n",
              "562  15/7/2021      8648          70403\n",
              "563  16/7/2021      9627          73260\n",
              "564  17/7/2021      9221          68384\n",
              "565  18/7/2021     68326          12192\n",
              "566  19/7/2021     64522           9466\n",
              "567  20/7/2021     68403          10152\n",
              "568  21/7/2021     82325          12210\n",
              "569  22/7/2021     62846          10623\n",
              "570  23/7/2021     58851          10200\n",
              "571  24/7/2021     67283          13745"
            ]
          },
          "metadata": {
            "tags": []
          },
          "execution_count": 14
        }
      ]
    },
    {
      "cell_type": "code",
      "metadata": {
        "id": "9SsXYdaAHDMd",
        "colab": {
          "base_uri": "https://localhost:8080/",
          "height": 300
        },
        "outputId": "33c9937f-3414-41bf-e41d-798206c53fe9"
      },
      "source": [
        "dataN.describe() #ดูค่าต่าง ๆ ทางสถิติ"
      ],
      "execution_count": null,
      "outputs": [
        {
          "output_type": "execute_result",
          "data": {
            "text/html": [
              "<div>\n",
              "<style scoped>\n",
              "    .dataframe tbody tr th:only-of-type {\n",
              "        vertical-align: middle;\n",
              "    }\n",
              "\n",
              "    .dataframe tbody tr th {\n",
              "        vertical-align: top;\n",
              "    }\n",
              "\n",
              "    .dataframe thead th {\n",
              "        text-align: right;\n",
              "    }\n",
              "</style>\n",
              "<table border=\"1\" class=\"dataframe\">\n",
              "  <thead>\n",
              "    <tr style=\"text-align: right;\">\n",
              "      <th></th>\n",
              "      <th>positive</th>\n",
              "      <th>Total Testing</th>\n",
              "    </tr>\n",
              "  </thead>\n",
              "  <tbody>\n",
              "    <tr>\n",
              "      <th>count</th>\n",
              "      <td>572.000000</td>\n",
              "      <td>572.000000</td>\n",
              "    </tr>\n",
              "    <tr>\n",
              "      <th>mean</th>\n",
              "      <td>1521.506993</td>\n",
              "      <td>17116.451049</td>\n",
              "    </tr>\n",
              "    <tr>\n",
              "      <th>std</th>\n",
              "      <td>7562.214501</td>\n",
              "      <td>22202.577993</td>\n",
              "    </tr>\n",
              "    <tr>\n",
              "      <th>min</th>\n",
              "      <td>0.000000</td>\n",
              "      <td>0.000000</td>\n",
              "    </tr>\n",
              "    <tr>\n",
              "      <th>25%</th>\n",
              "      <td>6.000000</td>\n",
              "      <td>3599.500000</td>\n",
              "    </tr>\n",
              "    <tr>\n",
              "      <th>50%</th>\n",
              "      <td>29.000000</td>\n",
              "      <td>5778.500000</td>\n",
              "    </tr>\n",
              "    <tr>\n",
              "      <th>75%</th>\n",
              "      <td>235.250000</td>\n",
              "      <td>19707.000000</td>\n",
              "    </tr>\n",
              "    <tr>\n",
              "      <th>max</th>\n",
              "      <td>82325.000000</td>\n",
              "      <td>82290.000000</td>\n",
              "    </tr>\n",
              "  </tbody>\n",
              "</table>\n",
              "</div>"
            ],
            "text/plain": [
              "           positive  Total Testing\n",
              "count    572.000000     572.000000\n",
              "mean    1521.506993   17116.451049\n",
              "std     7562.214501   22202.577993\n",
              "min        0.000000       0.000000\n",
              "25%        6.000000    3599.500000\n",
              "50%       29.000000    5778.500000\n",
              "75%      235.250000   19707.000000\n",
              "max    82325.000000   82290.000000"
            ]
          },
          "metadata": {
            "tags": []
          },
          "execution_count": 15
        }
      ]
    },
    {
      "cell_type": "markdown",
      "metadata": {
        "id": "yNLby7FsHWAT"
      },
      "source": [
        "#Box plot"
      ]
    },
    {
      "cell_type": "markdown",
      "metadata": {
        "id": "_7QeJOzaHbVt"
      },
      "source": [
        "![32.JPG](data:image/jpeg;base64,/9j/4AAQSkZJRgABAQEAkACQAAD/4RDgRXhpZgAATU0AKgAAAAgABAE7AAIAAAAHAAAISodpAAQAAAABAAAIUpydAAEAAAAOAAAQyuocAAcAAAgMAAAAPgAAAAAc6gAAAAgAAAAAAAAAAAAAAAAAAAAAAAAAAAAAAAAAAAAAAAAAAAAAAAAAAAAAAAAAAAAAAAAAAAAAAAAAAAAAAAAAAAAAAAAAAAAAAAAAAAAAAAAAAAAAAAAAAAAAAAAAAAAAAAAAAAAAAAAAAAAAAAAAAAAAAAAAAAAAAAAAAAAAAAAAAAAAAAAAAAAAAAAAAAAAAAAAAAAAAAAAAAAAAAAAAAAAAAAAAAAAAAAAAAAAAAAAAAAAAAAAAAAAAAAAAAAAAAAAAAAAAAAAAAAAAAAAAAAAAAAAAAAAAAAAAAAAAAAAAAAAAAAAAAAAAAAAAAAAAAAAAAAAAAAAAAAAAAAAAAAAAAAAAAAAAAAAAAAAAAAAAAAAAAAAAAAAAAAAAAAAAAAAAAAAAAAAAAAAAAAAAAAAAAAAAAAAAAAAAAAAAAAAAAAAAAAAAAAAAAAAAAAAAAAAAAAAAAAAAAAAAAAAAAAAAAAAAAAAAAAAAAAAAAAAAAAAAAAAAAAAAAAAAAAAAAAAAAAAAAAAAAAAAAAAAAAAAAAAAAAAAAAAAAAAAAAAAAAAAAAAAAAAAAAAAAAAAAAAAAAAAAAAAAAAAAAAAAAAAAAAAAAAAAAAAAAAAAAAAAAAAAAAAAAAAAAAAAAAAAAAAAAAAAAAAAAAAAAAAAAAAAAAAAAAAAAAAAAAAAAAAAAAAAAAAAAAAAAAAAAAAAAAAAAAAAAAAAAAAAAAAAAAAAAAAAAAAAAAAAAAAAAAAAAAAAAAAAAAAAAAAAAAAAAAAAAAAAAAAAAAAAAAAAAAAAAAAAAAAAAAAAAAAAAAAAAAAAAAAAAAAAAAAAAAAAAAAAAAAAAAAAAAAAAAAAAAAAAAAAAAAAAAAAAAAAAAAAAAAAAAAAAAAAAAAAAAAAAAAAAAAAAAAAAAAAAAAAAAAAAAAAAAAAAAAAAAAAAAAAAAAAAAAAAAAAAAAAAAAAAAAAAAAAAAAAAAAAAAAAAAAAAAAAAAAAAAAAAAAAAAAAAAAAAAAAAAAAAAAAAAAAAAAAAAAAAAAAAAAAAAAAAAAAAAAAAAAAAAAAAAAAAAAAAAAAAAAAAAAAAAAAAAAAAAAAAAAAAAAAAAAAAAAAAAAAAAAAAAAAAAAAAAAAAAAAAAAAAAAAAAAAAAAAAAAAAAAAAAAAAAAAAAAAAAAAAAAAAAAAAAAAAAAAAAAAAAAAAAAAAAAAAAAAAAAAAAAAAAAAAAAAAAAAAAAAAAAAAAAAAAAAAAAAAAAAAAAAAAAAAAAAAAAAAAAAAAAAAAAAAAAAAAAAAAAAAAAAAAAAAAAAAAAAAAAAAAAAAAAAAAAAAAAAAAAAAAAAAAAAAAAAAAAAAAAAAAAAAAAAAAAAAAAAAAAAAAAAAAAAAAAAAAAAAAAAAAAAAAAAAAAAAAAAAAAAAAAAAAAAAAAAAAAAAAAAAAAAAAAAAAAAAAAAAAAAAAAAAAAAAAAAAAAAAAAAAAAAAAAAAAAAAAAAAAAAAAAAAAAAAAAAAAAAAAAAAAAAAAAAAAAAAAAAAAAAAAAAAAAAAAAAAAAAAAAAAAAAAAAAAAAAAAAAAAAAAAAAAAAAAAAAAAAAAAAAAAAAAAAAAAAAAAAAAAAAAAAAAAAAAAAAAAAAAAAAAAAAAAAAAAAAAAAAAAAAAAAAAAAAAAAAAAAAAAAAAAAAAAAAAAAAAAAAAAAAAAAAAAAAAAAAAAAAAAAAAAAAAAAAAAAAAAAAAAAAAAAAAAAAAAAAAAAAAAAAAAAAAAAAAAAAAAAAAAAAAAAAAAAAAAAAAAAAAAAAAAAAAAAAAAAAAAAAAAAAAAAAAAAAAAAAAAAAAAAAAAAAAAAAAAAAAAAAAAAAAAAAAAAAAAAAAAAAAAAAAAAAAAAAAAAAAAAAAAAAAAAAAAAAAAAAAAAAAAAAAAAAAAAAAAAAAAAAAAAAAAAAAAAAAAAAAAAAAAAAAAAAAAAAAAAAAAAAAAAAAAAAAAAAAAAAAAAAAAAAAAAAAAAAAAAAAAAAAAAAAAAAAAAAAAAAAAAAAAAAAAAAAAAAAAAAAAAAAAAAAAAAAAAAAAAAAAAAAAAAAAAAAAAAAAAAAAAAAAAAAAAAAAAAAAAAAAAAAAAAAAAAAAAAAAAAAAAAAAAAAAAAAAAAAAAAAAAAAAAAAAAAAAAAAAAAAAAAAAAAAAAAAAAAAAAAAAAAAAAAAAAAAAAAAAAAAAAAAAAAAAAAAAAAAAAAAAAAAAAAAAAAAAAAAAAAAAAAAAAAAAAAAAAAAAAAAAAAAAAAAAAAAAAAAAAAAAAAAAAAAAAAAAAAAAAAAAAAAAAAAAAAAAAAAAAAAAAAAAAAAAAAAAAAAAAAAAAAAAAAAAAAAAAAAAAAAAAAAAAAAAAAAAAAAAAAAAAAAAAAAAAAAAAAAAAAAAAAAAAAAAAAAAAAAAAAAAAAAAAAAAAAAAAAAAAAAAAAAAAAAAAAAAAAAAAAAAAAAAAAAAAAAAAAAAAAAAAAAAAAAAAAAAAAAAAAAAAAAAAAAAAAAAAAAAAAAAAAAAAAAAAAAAAAAAAAAAAAAAAAAAAAAAAAAAAAAAAAAAAAAAAAAAAAAAAAAAAAAAAAAAAAAAAAAAAAAAAAAAAAAAAAAAAAAAAAAAAAAAAAAAAAAAAAAAAAAAAAAAAAAAAAAAAAAAAAAAAAAAAAAAAAAAAAAAAAAAAAAAAAAAAAAAAAAAAAAAAAAAAAAAAAAAAAAAAAAAAAAAAAAAAAAAAGtrdWxpYgAAAAWQAwACAAAAFAAAEKCQBAACAAAAFAAAELSSkQACAAAAAzE1AACSkgACAAAAAzE1AADqHAAHAAAIDAAACJQAAAAAHOoAAAAIAAAAAAAAAAAAAAAAAAAAAAAAAAAAAAAAAAAAAAAAAAAAAAAAAAAAAAAAAAAAAAAAAAAAAAAAAAAAAAAAAAAAAAAAAAAAAAAAAAAAAAAAAAAAAAAAAAAAAAAAAAAAAAAAAAAAAAAAAAAAAAAAAAAAAAAAAAAAAAAAAAAAAAAAAAAAAAAAAAAAAAAAAAAAAAAAAAAAAAAAAAAAAAAAAAAAAAAAAAAAAAAAAAAAAAAAAAAAAAAAAAAAAAAAAAAAAAAAAAAAAAAAAAAAAAAAAAAAAAAAAAAAAAAAAAAAAAAAAAAAAAAAAAAAAAAAAAAAAAAAAAAAAAAAAAAAAAAAAAAAAAAAAAAAAAAAAAAAAAAAAAAAAAAAAAAAAAAAAAAAAAAAAAAAAAAAAAAAAAAAAAAAAAAAAAAAAAAAAAAAAAAAAAAAAAAAAAAAAAAAAAAAAAAAAAAAAAAAAAAAAAAAAAAAAAAAAAAAAAAAAAAAAAAAAAAAAAAAAAAAAAAAAAAAAAAAAAAAAAAAAAAAAAAAAAAAAAAAAAAAAAAAAAAAAAAAAAAAAAAAAAAAAAAAAAAAAAAAAAAAAAAAAAAAAAAAAAAAAAAAAAAAAAAAAAAAAAAAAAAAAAAAAAAAAAAAAAAAAAAAAAAAAAAAAAAAAAAAAAAAAAAAAAAAAAAAAAAAAAAAAAAAAAAAAAAAAAAAAAAAAAAAAAAAAAAAAAAAAAAAAAAAAAAAAAAAAAAAAAAAAAAAAAAAAAAAAAAAAAAAAAAAAAAAAAAAAAAAAAAAAAAAAAAAAAAAAAAAAAAAAAAAAAAAAAAAAAAAAAAAAAAAAAAAAAAAAAAAAAAAAAAAAAAAAAAAAAAAAAAAAAAAAAAAAAAAAAAAAAAAAAAAAAAAAAAAAAAAAAAAAAAAAAAAAAAAAAAAAAAAAAAAAAAAAAAAAAAAAAAAAAAAAAAAAAAAAAAAAAAAAAAAAAAAAAAAAAAAAAAAAAAAAAAAAAAAAAAAAAAAAAAAAAAAAAAAAAAAAAAAAAAAAAAAAAAAAAAAAAAAAAAAAAAAAAAAAAAAAAAAAAAAAAAAAAAAAAAAAAAAAAAAAAAAAAAAAAAAAAAAAAAAAAAAAAAAAAAAAAAAAAAAAAAAAAAAAAAAAAAAAAAAAAAAAAAAAAAAAAAAAAAAAAAAAAAAAAAAAAAAAAAAAAAAAAAAAAAAAAAAAAAAAAAAAAAAAAAAAAAAAAAAAAAAAAAAAAAAAAAAAAAAAAAAAAAAAAAAAAAAAAAAAAAAAAAAAAAAAAAAAAAAAAAAAAAAAAAAAAAAAAAAAAAAAAAAAAAAAAAAAAAAAAAAAAAAAAAAAAAAAAAAAAAAAAAAAAAAAAAAAAAAAAAAAAAAAAAAAAAAAAAAAAAAAAAAAAAAAAAAAAAAAAAAAAAAAAAAAAAAAAAAAAAAAAAAAAAAAAAAAAAAAAAAAAAAAAAAAAAAAAAAAAAAAAAAAAAAAAAAAAAAAAAAAAAAAAAAAAAAAAAAAAAAAAAAAAAAAAAAAAAAAAAAAAAAAAAAAAAAAAAAAAAAAAAAAAAAAAAAAAAAAAAAAAAAAAAAAAAAAAAAAAAAAAAAAAAAAAAAAAAAAAAAAAAAAAAAAAAAAAAAAAAAAAAAAAAAAAAAAAAAAAAAAAAAAAAAAAAAAAAAAAAAAAAAAAAAAAAAAAAAAAAAAAAAAAAAAAAAAAAAAAAAAAAAAAAAAAAAAAAAAAAAAAAAAAAAAAAAAAAAAAAAAAAAAAAAAAAAAAAAAAAAAAAAAAAAAAAAAAAAAAAAAAAAAAAAAAAAAAAAAAAAAAAAAAAAAAAAAAAAAAAAAAAAAAAAAAAAAAAAAAAAAAAAAAAAAAAAAAAAAAAAAAAAAAAAAAAAAAAAAAAAAAAAAAAAAAAAAAAAAAAAAAAAAAAAAAAAAAAAAAAAAAAAAAAAAAAAAAAAAAAAAAAAAAAAAAAAAAAAAAAAAAAAAAAAAAAAAAAAAAAAAAAAAAAAAAAAAAAAAAAAAAAAAAAAAAAAAAAAAAAAAAAAAAAAAAAAAAAAAAAAAAAAAAAAAAAAAAAAAAAAAAAAAAAAAAAAAAAAAAAAAAAAAAAAAAAAAAAAAAAAAAAAAAAAAAAAAAAAAAAAAAAAAAAAAAAAAAAAAAAAAAAAAAAAAAAAAAAAAAAAAAAAAAAAAAAAAAAAAAAAAAAAAAAAAAAAAAAAAAAAAAAAAAAAAAAAAAAAAAAAAAAAAAAAAAAAAAAAAAAAAAAAAAAAAAAAAAAAAAAAAAAAAAAAAAAAAAAAAAAAAAAAAAAAAAAAAAAAAAAAAAAAAAAAAAAAAAAAAAAAAAAAAAAAAAAAAAAAAAAAAAAAAAAAAAAAAAAAAAAAAAAAAAAAAAAAAAAAAAAAAAAAAAAAAAAAAAAAAAAAAAAAAAAAAAAAAAAAAAAAAAAAAAAAAAAAAAAAAAAAAAAAAAAAAAAAAAAAAAAAAAAAAAAAAAAAAAAAAAAAAAAAAAAAAAAAAAAAAAAAAAAAAAAAAAAAAAAAAAAAAAAAAAAAAAAAAAAAAAAAAAAAAAAAAAAAAAAAAAAAAAAAAAAAAAAAAAAAAAAAAAAAAAAAAAAAAAAAAAAAAAAAAAAAAAAAAAAAAAAAAAAAAAAAAAAAAAAAAAAAAAAAAAAAAAAAAAAAAAAAAAAAAAAAAAAAAAAAAAAAAAAAAAAAAAAAAAAAAAAAAAAAAAAAAAAAAAAAAAAAAAAAAAAAAAAyMDIxOjA4OjAyIDIwOjQ2OjI3ADIwMjE6MDg6MDIgMjA6NDY6MjcAAABrAGsAdQBsAGkAYgAAAP/hCxlodHRwOi8vbnMuYWRvYmUuY29tL3hhcC8xLjAvADw/eHBhY2tldCBiZWdpbj0n77u/JyBpZD0nVzVNME1wQ2VoaUh6cmVTek5UY3prYzlkJz8+DQo8eDp4bXBtZXRhIHhtbG5zOng9ImFkb2JlOm5zOm1ldGEvIj48cmRmOlJERiB4bWxuczpyZGY9Imh0dHA6Ly93d3cudzMub3JnLzE5OTkvMDIvMjItcmRmLXN5bnRheC1ucyMiPjxyZGY6RGVzY3JpcHRpb24gcmRmOmFib3V0PSJ1dWlkOmZhZjViZGQ1LWJhM2QtMTFkYS1hZDMxLWQzM2Q3NTE4MmYxYiIgeG1sbnM6ZGM9Imh0dHA6Ly9wdXJsLm9yZy9kYy9lbGVtZW50cy8xLjEvIi8+PHJkZjpEZXNjcmlwdGlvbiByZGY6YWJvdXQ9InV1aWQ6ZmFmNWJkZDUtYmEzZC0xMWRhLWFkMzEtZDMzZDc1MTgyZjFiIiB4bWxuczp4bXA9Imh0dHA6Ly9ucy5hZG9iZS5jb20veGFwLzEuMC8iPjx4bXA6Q3JlYXRlRGF0ZT4yMDIxLTA4LTAyVDIwOjQ2OjI3LjE1NDwveG1wOkNyZWF0ZURhdGU+PC9yZGY6RGVzY3JpcHRpb24+PHJkZjpEZXNjcmlwdGlvbiByZGY6YWJvdXQ9InV1aWQ6ZmFmNWJkZDUtYmEzZC0xMWRhLWFkMzEtZDMzZDc1MTgyZjFiIiB4bWxuczpkYz0iaHR0cDovL3B1cmwub3JnL2RjL2VsZW1lbnRzLzEuMS8iPjxkYzpjcmVhdG9yPjxyZGY6U2VxIHhtbG5zOnJkZj0iaHR0cDovL3d3dy53My5vcmcvMTk5OS8wMi8yMi1yZGYtc3ludGF4LW5zIyI+PHJkZjpsaT5ra3VsaWI8L3JkZjpsaT48L3JkZjpTZXE+DQoJCQk8L2RjOmNyZWF0b3I+PC9yZGY6RGVzY3JpcHRpb24+PC9yZGY6UkRGPjwveDp4bXBtZXRhPg0KICAgICAgICAgICAgICAgICAgICAgICAgICAgICAgICAgICAgICAgICAgICAgICAgICAgICAgICAgICAgICAgICAgICAgICAgICAgICAgICAgICAgICAgICAgICAgICAgICAgIAogICAgICAgICAgICAgICAgICAgICAgICAgICAgICAgICAgICAgICAgICAgICAgICAgICAgICAgICAgICAgICAgICAgICAgICAgICAgICAgICAgICAgICAgICAgICAgICAgICAgCiAgICAgICAgICAgICAgICAgICAgICAgICAgICAgICAgICAgICAgICAgICAgICAgICAgICAgICAgICAgICAgICAgICAgICAgICAgICAgICAgICAgICAgICAgICAgICAgICAgICAKICAgICAgICAgICAgICAgICAgICAgICAgICAgICAgICAgICAgICAgICAgICAgICAgICAgICAgICAgICAgICAgICAgICAgICAgICAgICAgICAgICAgICAgICAgICAgICAgICAgIAogICAgICAgICAgICAgICAgICAgICAgICAgICAgICAgICAgICAgICAgICAgICAgICAgICAgICAgICAgICAgICAgICAgICAgICAgICAgICAgICAgICAgICAgICAgICAgICAgICAgCiAgICAgICAgICAgICAgICAgICAgICAgICAgICAgICAgICAgICAgICAgICAgICAgICAgICAgICAgICAgICAgICAgICAgICAgICAgICAgICAgICAgICAgICAgICAgICAgICAgICAKICAgICAgICAgICAgICAgICAgICAgICAgICAgICAgICAgICAgICAgICAgICAgICAgICAgICAgICAgICAgICAgICAgICAgICAgICAgICAgICAgICAgICAgICAgICAgICAgICAgIAogICAgICAgICAgICAgICAgICAgICAgICAgICAgICAgICAgICAgICAgICAgICAgICAgICAgICAgICAgICAgICAgICAgICAgICAgICAgICAgICAgICAgICAgICAgICAgICAgICAgCiAgICAgICAgICAgICAgICAgICAgICAgICAgICAgICAgICAgICAgICAgICAgICAgICAgICAgICAgICAgICAgICAgICAgICAgICAgICAgICAgICAgICAgICAgICAgICAgICAgICAKICAgICAgICAgICAgICAgICAgICAgICAgICAgICAgICAgICAgICAgICAgICAgICAgICAgICAgICAgICAgICAgICAgICAgICAgICAgICAgICAgICAgICAgICAgICAgICAgICAgIAogICAgICAgICAgICAgICAgICAgICAgICAgICAgICAgICAgICAgICAgICAgICAgICAgICAgICAgICAgICAgICAgICAgICAgICAgICAgICAgICAgICAgICAgICAgICAgICAgICAgCiAgICAgICAgICAgICAgICAgICAgICAgICAgICAgICAgICAgICAgICAgICAgICAgICAgICAgICAgICAgICAgICAgICAgICAgICAgICAgICAgICAgICAgICAgICAgICAgICAgICAKICAgICAgICAgICAgICAgICAgICAgICAgICAgICAgICAgICAgICAgICAgICAgICAgICAgICAgICAgICAgICAgICAgICAgICAgICAgICAgICAgICAgICAgICAgICAgICAgICAgIAogICAgICAgICAgICAgICAgICAgICAgICAgICAgICAgICAgICAgICAgICAgICAgICAgICAgICAgICAgICAgICAgICAgICAgICAgICAgICAgICAgICAgICAgICAgICAgICAgICAgCiAgICAgICAgICAgICAgICAgICAgICAgICAgICAgICAgICAgICAgICAgICAgICAgICAgICAgICAgICAgICAgICAgICAgICAgICAgICAgICAgICAgICAgICAgICAgICAgICAgICAKICAgICAgICAgICAgICAgICAgICAgICAgICAgICAgICAgICAgICAgICAgICAgICAgICAgICAgICAgICAgICAgICAgICAgICAgICAgICAgICAgICAgICAgICAgICAgICAgICAgIAogICAgICAgICAgICAgICAgICAgICAgICAgICAgICAgICAgICAgICAgICAgICAgICAgICAgICAgICAgICAgICAgICAgICAgICAgICAgICAgICAgICAgICAgICAgICAgICAgICAgCiAgICAgICAgICAgICAgICAgICAgICAgICAgICAgICAgICAgICAgICAgICAgICAgICAgICAgICAgICAgICAgICAgICAgICAgICAgICAgICAgICAgICAgICAgICAgICAgICAgICAKICAgICAgICAgICAgICAgICAgICAgICAgICAgICAgICAgICAgICAgICAgICAgICAgICAgICAgICAgICAgICAgICAgICAgICAgICAgICAgICAgICAgICAgICAgICAgICAgICAgIAogICAgICAgICAgICAgICAgICAgICAgICAgICAgICAgICAgICAgICAgICAgICAgICAgICAgICAgICAgICAgICAgICAgICAgICAgICAgICAgICAgICAgICAgICAgICAgICAgICAgCiAgICAgICAgICAgICAgICAgICAgICAgICAgICA8P3hwYWNrZXQgZW5kPSd3Jz8+/9sAQwAHBQUGBQQHBgUGCAcHCAoRCwoJCQoVDxAMERgVGhkYFRgXGx4nIRsdJR0XGCIuIiUoKSssKxogLzMvKjInKisq/9sAQwEHCAgKCQoUCwsUKhwYHCoqKioqKioqKioqKioqKioqKioqKioqKioqKioqKioqKioqKioqKioqKioqKioqKioq/8AAEQgCvwWRAwEiAAIRAQMRAf/EAB8AAAEFAQEBAQEBAAAAAAAAAAABAgMEBQYHCAkKC//EALUQAAIBAwMCBAMFBQQEAAABfQECAwAEEQUSITFBBhNRYQcicRQygZGhCCNCscEVUtHwJDNicoIJChYXGBkaJSYnKCkqNDU2Nzg5OkNERUZHSElKU1RVVldYWVpjZGVmZ2hpanN0dXZ3eHl6g4SFhoeIiYqSk5SVlpeYmZqio6Slpqeoqaqys7S1tre4ubrCw8TFxsfIycrS09TV1tfY2drh4uPk5ebn6Onq8fLz9PX29/j5+v/EAB8BAAMBAQEBAQEBAQEAAAAAAAABAgMEBQYHCAkKC//EALURAAIBAgQEAwQHBQQEAAECdwABAgMRBAUhMQYSQVEHYXETIjKBCBRCkaGxwQkjM1LwFWJy0QoWJDThJfEXGBkaJicoKSo1Njc4OTpDREVGR0hJSlNUVVZXWFlaY2RlZmdoaWpzdHV2d3h5eoKDhIWGh4iJipKTlJWWl5iZmqKjpKWmp6ipqrKztLW2t7i5usLDxMXGx8jJytLT1NXW19jZ2uLj5OXm5+jp6vLz9PX29/j5+v/aAAwDAQACEQMRAD8A+kaKKKACiignHWgAoqPz4v8Anon/AH1R58X/AD1T/vqgCSio/Pi/56p/31R58X/PVP8AvqgCSio/Pi/56p/31R58X/PVP++qAJKKj8+L/nqn/fVHnxf89U/76oAkoqPz4v8Anqn/AH1R58X/AD1T/vqgCSio/Pi/56p/31R58X/PVP8AvqgCSio/Pi/56p/31R58X/PVP++qAJKKj8+L/nqn/fVHnxf89U/76oAkoqPz4v8Anqn/AH1R58X/AD1T/vqgCSio/Pi/56p/31R58X/PVP8AvqgCSio/Pi/56p/31R58X/PVP++qAJKKj8+L/nqn/fVHnxf89U/76oAkoqPz4v8Anqn/AH1R58X/AD1T/vqgCSio/Pi/56p/31R58X/PVP8AvqgCSio/Pi/56p/31R58X/PVP++qAJKKj8+L/nqn/fVHnxf89U/76oAkoqPz4v8Anqn/AH1R58X/AD1T/vqgCSio/Pi/56p/31R58X/PVP8AvqgCSio/Pi/56p/31R58X/PVP++qAJKKj8+L/nqn/fVHnxf89U/76oAkoqPz4v8Anqn/AH1R58X/AD1T/vqgCSio/Pi/56p/31R58X/PVP8AvqgCSio/Pi/56p/31R58X/PVP++qAJKKj8+L/nqn/fVHnxf89U/76oAkoqPz4v8Anqn/AH1R58X/AD1T/vqgCSio/Pi/56p/31R58X/PVP8AvqgCSio/Pi/56p/31R58X/PVP++qAJKKj8+L/nqn/fVHnxf89U/76oAkoqPz4v8Anqn/AH1R58X/AD1T/vqgCSio/Pi/56p/31R58X/PVP8AvqgCSio/Pi/56p/31R58X/PVP++qAJKKj8+L/nqn/fVHnxf89U/76oAkoqPz4v8Anqn/AH1R58X/AD1T/vqgCSio/Pi/56p/31R58X/PVP8AvqgCSio/Pi/56p/31R58X/PVP++qAJKKj8+L/nqn/fVHnxf89U/76oAkoqPz4v8Anqn/AH1R58X/AD1T/vqgCSio/Pi/56p/31R58X/PVP8AvqgCSio/Pi/56p/31R58X/PVP++qAJKKj8+L/nqn/fVHnxf89U/76oAkoqPz4v8Anqn/AH1R58X/AD1T/vqgCSio/Pi/56p/31R58X/PVP8AvqgCSio/Pi/56p/31R58X/PVP++qAJKKj8+L/nqn/fVHnxf89U/76oAkoqPz4v8Anqn/AH1R58X/AD1T/vqgCSio/Pi/56p/31R58X/PVP8AvqgCSio/Pi/56p/31R58X/PVP++qAJKKj8+L/nqn/fVHnxf89U/76oAkoqPz4v8Anqn/AH1R58X/AD1T/vqgCSio/Pi/56p/31R58X/PVP8AvqgCSio/Pi/56p/31R58X/PVP++qAJKKj8+L/nqn/fVHnxf89U/76oAkoqPz4v8Anqn/AH1R58X/AD1T/vqgCSio/Pi/56p/31R58X/PVP8AvqgCSio/Pi/56p/31R58X/PVP++qAJKKj8+L/nqn/fVHnxf89U/76oAkoqPz4v8Anqn/AH1R58X/AD1T/vqgCSio/Pi/56p/31R58X/PVP8AvqgCSio/Pi/56p/31R58X/PVP++qAJKKj8+L/nqn/fVHnxf89U/76oAkoqPz4v8Anqn/AH1R58X/AD1T/vqgCSio/Pi/56p/31R58X/PVP8AvqgCSio/Pi/56p/31R58X/PVP++qAJKKj8+L/nqn/fVHnxf89U/76oAkoqPz4v8Anqn/AH1R58X/AD1T/vqgCSio/Pi/56p/31R58X/PVP8AvqgCSio/Pi/56p/31R58X/PVP++qAJKKj8+L/nqn/fVHnxf89U/76oAkoqPz4v8Anqn/AH1R58X/AD1T/vqgCSio/Pi/56p/31R58X/PVP8AvqgCSio/Pi/56p/31R58X/PVP++qAJKKj8+L/nqn/fVHnxf89U/76oAkoqPz4v8Anqn/AH1R58X/AD1T/vqgCSio/Pi/56p/31R58X/PVP8AvqgCSio/Pi/56p/31R58X/PVP++qAJKKj8+L/nqn/fVHnxf89U/76oAkoqPz4v8Anqn/AH1R58X/AD1T/vqgCSio/Pi/56p/31R58X/PVP8AvqgCSio/Pi/56p/31R58X/PVP++qAJKKj8+L/nqn/fVHnxf89U/76oAkoqPz4v8Anqn/AH1R58X/AD1T/vqgCSio/Pi/56p/31R58X/PVP8AvqgCSio/Pi/56p/31R58X/PVP++qAJKKj8+L/nqn/fVHnxf89U/76oAkoqPz4v8Anqn/AH1R58X/AD1T/vqgCSimrIj/AHHVvoadQAUUUUAFFFFABRRRQAVleKP+RS1b/rzl/wDQDWrWV4o/5FHVv+vOX/0E0AeeeBfhN4H1XwFot/qGgRT3VzZxySyNNIC7Fck8NW9/wpb4e/8AQtQf9/pf/iq0/hr/AMkx8O/9g+L/ANBFdPQBwv8Awpb4e/8AQtQf9/pf/iqP+FLfD3/oWoP+/wBL/wDFV3VFAHC/8KW+Hv8A0LUH/f6X/wCKo/4Ut8Pf+hag/wC/0v8A8VXdUUAcL/wpb4e/9C1B/wB/pf8A4qj/AIUt8Pf+hag/7/S//FV3VFAHC/8AClvh7/0LUH/f6X/4qj/hS3w9/wChag/7/S//ABVd1RQBwv8Awpb4e/8AQtQf9/pf/iqP+FLfD3/oWoP+/wBL/wDFV3VFAHC/8KW+Hv8A0LUH/f6X/wCKo/4Ut8Pf+hag/wC/0v8A8VXdUUAcL/wpb4e/9C1B/wB/pf8A4qj/AIUt8Pf+hag/7/S//FV3VFAHC/8AClvh7/0LUH/f6X/4qj/hS3w9/wChag/7/S//ABVd1RQBwv8Awpb4e/8AQtQf9/pf/iqP+FLfD3/oWoP+/wBL/wDFV3VFAHC/8KW+Hv8A0LUH/f6X/wCKo/4Ut8Pf+hag/wC/0v8A8VXdUUAcL/wpb4e/9C1B/wB/pf8A4qj/AIUt8Pf+hag/7/S//FV3VFAHC/8AClvh7/0LUH/f6X/4qj/hS3w9/wChag/7/S//ABVd1RQBwv8Awpb4e/8AQtQf9/pf/iqP+FLfD3/oWoP+/wBL/wDFV3VFAHC/8KW+Hv8A0LUH/f6X/wCKo/4Ut8Pf+hag/wC/0v8A8VXdUUAcL/wpb4e/9C1B/wB/pf8A4qj/AIUt8Pf+hag/7/S//FV3VFAHC/8AClvh7/0LUH/f6X/4qj/hS3w9/wChag/7/S//ABVd1RQBwv8Awpb4e/8AQtQf9/pf/iqP+FLfD3/oWoP+/wBL/wDFV3VFAHC/8KW+Hv8A0LUH/f6X/wCKo/4Ut8Pf+hag/wC/0v8A8VXdUUAcL/wpb4e/9C1B/wB/pf8A4qj/AIUt8Pf+hag/7/S//FV3VFAHC/8AClvh7/0LUH/f6X/4qj/hS3w9/wChag/7/S//ABVd1RQBwv8Awpb4e/8AQtQf9/pf/iqP+FLfD3/oWoP+/wBL/wDFV3VFAHC/8KW+Hv8A0LUH/f6X/wCKo/4Ut8Pf+hag/wC/0v8A8VXdUUAcL/wpb4e/9C1B/wB/pf8A4qj/AIUt8Pf+hag/7/S//FV3VFAHC/8AClvh7/0LUH/f6X/4qj/hS3w9/wChag/7/S//ABVd1RQBwv8Awpb4e/8AQtQf9/pf/iqP+FLfD3/oWoP+/wBL/wDFV3VFAHC/8KW+Hv8A0LUH/f6X/wCKo/4Ut8Pf+hag/wC/0v8A8VXdUUAcL/wpb4e/9C1B/wB/pf8A4qj/AIUt8Pf+hag/7/S//FV3VFAHC/8AClvh7/0LUH/f6X/4qj/hS3w9/wChag/7/S//ABVd1RQBwv8Awpb4e/8AQtQf9/pf/iqP+FLfD3/oWoP+/wBL/wDFV3VFAHC/8KW+Hv8A0LUH/f6X/wCKo/4Ut8Pf+hag/wC/0v8A8VXdUUAcL/wpb4e/9C1B/wB/pf8A4qj/AIUt8Pf+hag/7/S//FV3VFAHC/8AClvh7/0LUH/f6X/4qj/hS3w9/wChag/7/S//ABVd1RQBwv8Awpb4e/8AQtQf9/pf/iqP+FLfD3/oWoP+/wBL/wDFV3VFAHC/8KW+Hv8A0LUH/f6X/wCKo/4Ut8Pf+hag/wC/0v8A8VXdUUAcL/wpb4e/9C1B/wB/pf8A4qj/AIUt8Pf+hag/7/S//FV3VFAHC/8AClvh7/0LUH/f6X/4qj/hS3w9/wChag/7/S//ABVd1RQBwv8Awpb4e/8AQtQf9/pf/iqP+FLfD3/oWoP+/wBL/wDFV3VFAHC/8KW+Hv8A0LUH/f6X/wCKo/4Ut8Pf+hag/wC/0v8A8VXdUUAcL/wpb4e/9C1B/wB/pf8A4qj/AIUt8Pf+hag/7/S//FV3VFAHC/8AClvh7/0LUH/f6X/4qj/hS3w9/wChag/7/S//ABVd1RQBwv8Awpb4e/8AQtQf9/pf/iqP+FLfD3/oWoP+/wBL/wDFV3VFAHC/8KW+Hv8A0LUH/f6X/wCKo/4Ut8Pf+hag/wC/0v8A8VXdUUAcL/wpb4e/9C1B/wB/pf8A4qj/AIUt8Pf+hag/7/S//FV3VFAHC/8AClvh7/0LUH/f6X/4qj/hS3w9/wChag/7/S//ABVd1RQBwv8Awpb4e/8AQtQf9/pf/iqP+FLfD3/oWoP+/wBL/wDFV3VFAHC/8KW+Hv8A0LUH/f6X/wCKo/4Ut8Pf+hag/wC/0v8A8VXdUUAcL/wpb4e/9C1B/wB/pf8A4qj/AIUt8Pf+hag/7/S//FV3VFAHC/8AClvh7/0LUH/f6X/4qj/hS3w9/wChag/7/S//ABVd1RQBwv8Awpb4e/8AQtQf9/pf/iqP+FLfD3/oWoP+/wBL/wDFV3VFAHC/8KW+Hv8A0LUH/f6X/wCKo/4Ut8Pf+hag/wC/0v8A8VXdUUAcL/wpb4e/9C1B/wB/pf8A4qj/AIUt8Pf+hag/7/S//FV3VFAHC/8AClvh7/0LUH/f6X/4qj/hS3w9/wChag/7/S//ABVd1RQBwv8Awpb4e/8AQtQf9/pf/iqP+FLfD3/oWoP+/wBL/wDFV3VFAHC/8KW+Hv8A0LUH/f6X/wCKo/4Ut8Pf+hag/wC/0v8A8VXdUUAcL/wpb4e/9C1B/wB/pf8A4qj/AIUt8Pf+hag/7/S//FV3VFAHC/8AClvh7/0LUH/f6X/4qj/hS3w9/wChag/7/S//ABVd1RQBwv8Awpb4e/8AQtQf9/pf/iqP+FLfD3/oWoP+/wBL/wDFV3VFAHC/8KW+Hv8A0LUH/f6X/wCKo/4Ut8Pf+hag/wC/0v8A8VXdUUAcL/wpb4e/9C1B/wB/pf8A4qj/AIUt8Pf+hag/7/S//FV3VFAHC/8AClvh7/0LUH/f6X/4qj/hS3w9/wChag/7/S//ABVd1RQBwv8Awpb4e/8AQtQf9/pf/iqP+FLfD3/oWoP+/wBL/wDFV3VFAHC/8KW+Hv8A0LUH/f6X/wCKo/4Ut8Pf+hag/wC/0v8A8VXdUUAcL/wpb4e/9C1B/wB/pf8A4qj/AIUt8Pf+hag/7/S//FV3VFAHC/8AClvh7/0LUH/f6X/4qj/hS3w9/wChag/7/S//ABVd1RQBwv8Awpb4e/8AQtQf9/pf/iqP+FLfD3/oWoP+/wBL/wDFV3VFAHC/8KW+Hv8A0LUH/f6X/wCKo/4Ut8Pf+hag/wC/0v8A8VXdUUAcL/wpb4e/9C1B/wB/pf8A4qj/AIUt8Pf+hag/7/S//FV3VFAHC/8AClvh7/0LUH/f6X/4qj/hS3w9/wChag/7/S//ABVd1RQBwv8Awpb4e/8AQtQf9/pf/iqP+FLfD3/oWoP+/wBL/wDFV3VFAHC/8KW+Hv8A0LUH/f6X/wCKo/4Ut8Pf+hag/wC/0v8A8VXdUUAcL/wpb4e/9C1B/wB/pf8A4qj/AIUt8Pf+hag/7/S//FV3VFAHC/8AClvh7/0LUH/f6X/4qj/hS3w9/wChag/7/S//ABVd1RQBwv8Awpb4e/8AQtQf9/pf/iqP+FLfD3/oWoP+/wBL/wDFV3VFAHC/8KW+Hv8A0LUH/f6X/wCKo/4Ut8Pf+hag/wC/0v8A8VXdUUAcL/wpb4e/9C1B/wB/pf8A4qj/AIUt8Pf+hag/7/S//FV3VFAHC/8AClvh7/0LUH/f6X/4qj/hS3w9/wChag/7/S//ABVd1RQBwv8Awpb4e/8AQtQf9/pf/iqP+FLfD3/oWoP+/wBL/wDFV3VFAHC/8KW+Hv8A0LUH/f6X/wCKo/4Ut8Pf+hag/wC/0v8A8VXdUUAcL/wpb4e/9C1B/wB/pf8A4qj/AIUt8Pf+hag/7/S//FV3VFAHC/8AClvh7/0LUH/f6X/4qj/hS3w9/wChag/7/S//ABVd1RQBwv8Awpb4e/8AQtQf9/pf/iqP+FLfD3/oWoP+/wBL/wDFV3VFAHC/8KW+Hv8A0LUH/f6X/wCKo/4Ut8Pf+hag/wC/0v8A8VXdUUAcL/wpb4e/9C1B/wB/pf8A4qj/AIUt8Pf+hag/7/S//FV3VFAHC/8AClvh7/0LUH/f6X/4qj/hS3w9/wChag/7/S//ABVd1RQB5z4X8K6L4T+K99aeHrFbKCTSY3dFdmBbzCM/MTXo1chD/wAljuv+wNH/AOjWrr6ACiiigAooooAKKKKACsrxR/yKOrf9ecv/AKCa1ayvFH/Io6t/15y/+gmgDN+Gv/JMfDv/AGD4v/QRXT1zHw1/5Jj4d/7B8X/oIrp6ACiiigAooooAKKKKACiiigAooooAKKKKACiiigAooooAKKKKACiiigAooooAKKKKACiiigAooooAKKKKACiiigAooooAKKKKACiiigAooooAKKKKACiiigAooooAKKKKACiiigAooooAKKKKACiiigAooooAKKKKACiiigAooooAKKKKACiiigAooooAKKKKACiiigAooooAKKKKACiiigAooooAKKKKACiiigAooooAKKKKACiiigAooooAKKKKACiiigAooooAKKKKACiiigAooooAKKKKACiiigAooooAKKKKACiiigAooooAKKKKACiiigAooooAKKKKACiiigAooooAKKKKACiiigAooooAKKKKACiiigAooooAKKKKACiiigAooooAKKKKACiiigAooooAKKKKACiiigAooooAKKKKACiiigAooooAKKKKAOQh/wCSx3X/AGBo/wD0a1dfXIQ/8ljuv+wNH/6NauvoAKKKKACiiigAooooAKyvFH/Io6t/15y/+gmtWsrxR/yKOrf9ecv/AKCaAM34a/8AJMfDv/YPi/8AQRXT1zHw1/5Jj4d/7B8X/oIrp6ACiiigAooooAKKKKACiiigAooooAKKKKACiiigAooooAKKKKACiiigAooooAKKKKACiiigAooooAKKKKACiiigAooooAKKKKACiiigAooooAKKKKACiiigAooooAKKKKACiiigAooooAKKKKACiiigAooooAKKKKACiiigAooooAKKKKACiiigAooooAKKKKACiiigAooooAKKKKACiiigAooooAKKKKACiiigAooooAKKKKACiiigAooooAKKKKACiiigAooooAKKKKACiiigAooooAKKKKACiiigAooooAKKKKACiiigAooooAKKKKACiiigAooooAKKKKACiiigAooooAKKKKACiiigAooooAKKKKACiiigAooooAKKKKACiiigAooooAKKKKACiiigAooooAKKKKACiiigAooooAKKKKACiiigAooooAKKKKAOQh/5LHdf9gaP/wBGtXX1yEP/ACWO6/7A0f8A6NauvoAKKKKACiiigAooooAKyvFH/Io6t/15y/8AoJrVrK8Uf8ijq3/XnL/6CaAM34a/8kx8O/8AYPi/9BFdPXMfDX/kmPh3/sHxf+giunoAKKKKACiiigAooooAKKKKACiiigAooooAKKKKACiiigAooooAKKKKACiiigAooooAKKKKACiiigAooooAKKKKACiiigAooooAKKKKACiiigAooooAKKKKACiiigAooooAKKKKACiiigAooooAKKKKACiiigAooooAKKKKACiiigAooooAKKKKACiiigAooooAKKKKACiiigAooooAKKKKACiiigAooooAKKKKACiiigAooooAKKKKACiiigAooooAKKKKACiiigAooooAKKKKACiiigAooooAKKKKACiiigAooooAKKKKACiiigAooooAKKKKACiiigAooooAKKKKACiiigAooooAKKKKACiiigAooooAKKKKACiiigAooooAKKKKACiiigAooooAKKKKACiiigAooooAKKKKACiiigAooooAKKKKACiiigAooooA5CH/AJLHdf8AYGj/APRrV19chD/yWO6/7A0f/o1q6+gAooooAKKKKACiiigArK8Uf8ijq3/XnL/6Ca1ayvFH/Io6t/15y/8AoJoAzfhr/wAkx8O/9g+L/wBBFdPXMfDX/kmPh3/sHxf+giunoAKKKKACiiigAooooAKKKKACiiigAooooAKKKKACiiigAooooAKKKKACiiigAooooAKKKKACiiigAooooAKKKKACiiigAooooAKKKKACiiigAooooAKKKKACiiigAooooAKKKKACiiigAooooAKKKKACiiigAooooAKKKKACiiigAooooAKKKKACiiigAooooAKKKKACiiigAooooAKKKKACiiigAooooAKKKKACiiigAooooAKKKKACiiigAooooAKKKKACiiigAooooAKKKKACiiigAooooAKKKKACiiigAooooAKKKKACiiigAooooAKKKKACiiigAooooAKKKKACiiigAooooAKKKKACiiigAooooAKKKKACiiigAooooAKKKKACiiigAooooAKKKKACiiigAooooAKKKKACiiigAooooAKKKKACiiigAooooA5CH/ksd1/2Bo//AEa1dfXIQ/8AJY7r/sDR/wDo1q6+gAooooAKKKKACiiigArK8Uf8ijq3/XnL/wCgmtWsrxR/yKOrf9ecv/oJoAzfhr/yTHw7/wBg+L/0EV09cx8Nf+SY+Hf+wfF/6CK6egAooooAKKKKACiiigAooooAKKKKACiiigAooooAKKKKACiiigAooooAKKKKACiiigAooooAKKKKACiiigAooooAKKKKACiiigAooooAKKKKACiiigAooooAKKKKACiiigAooooAKKKKACiiigAooooAKKKKACiiigAooryvw38SNZ1b46az4QuY7UadZRs0TJGRISAvU5x3PagD1SiiigAoorgLv4jzW3xltPBIsUaKeDzTc7+RwTjH4UAd/RRRQAUUUUAFFFFABRRRQAUUUUAFFFFABRRmigAooqK6m8i0lmAyY0LY9cCgCWiuC+EvxEm+JHh291K4sks2trs24RH3ZAVWz/49Wt8RIPEdz4GvovBTtHrLbPs7K6qR843ctx93NAHT0VgeHhrFr4Ash4gdjq8diPtTlgx80Lycjg8+lcJ8AvFWteKdF1mbX9QlvZIL0xxtJj5Vx04oA9aooozQAUUUUAFFeQfGL4l+J/BvirQtH8LQWU0mqLgC5QnLl9oGdwwOaoXHiT476dbtd3PhnR7mGMbnjgYFiB6DzMn8M0Ae3UVwXws+KNn8SdJnYWzWWo2ZC3NsxzjPRlPp9eRiu9oAKKM0UAFFFGaACiiigAooooAKKKKACiiigAooooAKKKKACiiigAooooAKKKKACiiigAooooAKKKKACiiigAooooAKKKKACiiigAooooAKKKKACiiigAooooAKKKKACiiigAooooAKKKKACiiigAooooAKKKKACiiigAooooAKKKKACiiigAooooAKKKKACiiigAooooA5CH/ksd1/2Bo//RrV19chD/yWO6/7A0f/AKNauvoAKKKKACiiigAooooAKyvFH/Io6t/15y/+gmtWsrxR/wAijq3/AF5y/wDoJoAzfhr/AMkx8O/9g+L/ANBFdPXMfDX/AJJj4d/7B8X/AKCK6egAooooAKKKKACiiigAooooAKKKKACiiigAooooAKKKKACiiigAooooAKKKKACiiigAooooAKKKKACiiigAooooAKKKKACiiigAooooAKKKKACiiigAooooAKKKKACiiigAooooAKKKKACiiigAooooAKKKKACiiigAr5+8D/8AJ2nib/rhJ/JK+ga+fvA//J2nib/rhJ/JKANT49+MPEHhXxN4P/4R66nQTzyGW1icqLna0eEb65I/Gprr4W/EDX7NtT1L4iXtjqkq70tbMulvCeoThhn0zj86p/HUA/FL4Zg8g6l/7Vhr3MdKAPJfgb451nxFa6voPimTztV0WfyXnI5dckc+pBU815fqng3xEP2hrXR/+EyuzqM0Bkj1PyzvjXBO0Dd07da7L4Kf8lk+If8A1+N/6Nen6tx+15pee9lx/wB8tQB33gnwf4h8K3l3deIfGV34gheHakVxGVERBzuHzHtxXnUOs+MPjX4o1KDwvrsnhzwzpsvlfaLfPm3DfUEdevXgEda9u1uOWbQL+O2OJnt5Ah9DtOK+Xfgj4L8QeJfD+orofjm68PNbXZE1lFbl8kqMOTvXrgjGP4aAOx8T6L48+D1qnibTPFl54g0mGRRe2WoMzEKSBkZJ9eowRx1r0rxJ4o/tD4NX3iTQp5IDNppuYJFOGjJXP4EVxGpfA7xhq+ny2Op/FG8ubWYYkiksiVYe482uh1nwwfBv7PWpaCbv7b9j06ZfP8vZvzk/dycdfWgDzv4eWvxJ+Kng+GSfxdcaPpcDuguo9zXF2+ecsCCFHTrXb+KPEN98F/hDFDdanLr2stK0Nrc3OSzs7MwLZJJCjjrzgdKsfs7KF+C2mYGMyzH/AMiGuZ/aZVo7XwxdS5+yw337044HQ/yBoAdofwt+IOtaXHresfEXU7HU7pROlvCzGKHPIUruAPuAMD3rK8H+MvG03x/tfDXii/kH2SJobiGJyIZ2VCRIB7jB/wA4r6CspY5rCCSEgxvGrKR6EcV4NJc29x+2NEtuQWhttkuP73lE/wAiKAN344eJtZ0DxJ4Mh0bUbizivL1kuFifAlXdHwfXqfzr2MdBXg/7RrCHxF4FuJflij1BtznoPmjP9DXu4OFyemKAPHfhl4m1nVfjZ470vUdSuLixsZ2W2gkfKxDzWHA7cV0/jzwl4u8U6pbRaD4rbw/paxHz/s6EyyPnsRjAx7/hXAfBueO5+PnxEmgcPG87FWByCPOarHjbXPEnjf4yj4feH9Zk0OytoPOurmDiR/lDHBBB7gdaAIPEvw+8b+CNHuPEXhv4g6lfyafGZ5rO+kZ1lRRluCxHQHjH416l8OPFw8ceA9P1zyxHLMpWZB0DqdrY9sivMvGPwX0vQvBGsareeLPEMz21nLJ++vhskcKcKRjkE4GM962P2Zzn4Qxe15Nj86AOG0jxL8Q/FHxS8TeFdA1uSCP7S/8ApdwS62UKuQdi/wB45AH0/Edovwm8W6bpWpE/ErVJ3nh+/KrsUIOTgFz1HFZHwWUf8Lo8fNjkXBGf+2jV7hqIzpd0B/zyb+VAHy98DvBPiXxJ4U1C50LxteaBDHfNG8EERYSNsU7/ALw5wQPwr1j4ivrvgn4C3rJr1zdaraLGP7S+5I5MqgnqccHHWsH9lj/kQNY/7Crf+i0rp/2gf+SJ63/2x/8ARyUAbfge/utU+EOkX2oTvcXVxpaySyucs7FOSTXnf7MX/Iva/wD9hA/yrvPhx/yRHQv+wQn/AKBXB/syf8i74gx/0ED/ACoAk8T+KfFnxA+JF34J8B6iNIstNGNQ1JQS6t0KgjpzxgEEkHmq2vfDzx/4H0iXxB4b8e6lqs1ihmns71mdZlUZbALEdB0/WuN8E+Fdc174reN9P0zxfceGr5L6SV0jh3m5XzX+b7y8DI9fvV6JL8G/HE8LxTfFe/eORSrKbM4IPUf62gDvvh34vTxz4GsNdWPypJ1KzR5+5IpKsPpkZHsRXT1xnwv8AN8OPCr6M2pf2lvuGn83yfKxkAYxuPp6967OgD55+P08Vt8XvAk9xIsUUciO7ucBQJgSSa9X1L4oeC9M02S4uPEVg6qh+WKZZGbjoAuTXkn7Q1lBqXxV8E2V4m+C4ZYpFzjKtMAR+VdhrX7Onge/0eaLTrOaxuyhMM6TMdrY4yD1HtQBzH7OGm3l14j8UeKfsslvpuoSbbfeuN53ljj1xnGa9W8faH4m1/TrWz8J66uhsZSbq52bn8vHRR659x9a4P4F+Nb9pr/wF4nwNV0UlImxgyRqcY9yD39CKl+Mni7Xk8UaF4J8LXv9m3OrsPOvAPmRScAD07n8qAKmofB/xlYWbXeifE3VpdSiBdUupn8uUjsRuOPxzXUfBjx9eeOPC1wmtKq6vpc5trvaMbj2bHbOCPqDWIfgNaraNPrHjXxJcTIhaWb7bsU4HJwQcD8a5v8AZc8oX3jUWsjywC5g8t5DlmXM2CT6kUAJ4u8X+No/2jLrw14X1BytxbpHBbzOfJgLRKzSle+BuNXfFHw08faFoNz4h074japealZobiSB2ZYpAOSqruIHHYgj6UyBQ37aF3kZxYAj2/cJXsvir/kUNW/685f/AEA0AYHwo8aS+Ofh7aateqq3ilornaMAup6j6jBrzFdY8W/Gzxzqdl4Z1+fQPDWlPsNxbEh5znA5BBOcE9cAVufs5I8nwjvEjOHa7mCn0OBWf+y3cRQ+HPEGlS/Jf2+omSWNuGClQo/VWoAy/iLbfED4UeELiSy8WXmr6deMsQuJ2IuLJ9wIIYk5BAK9utet+Btef/hUGka5rdy8rjTEuLieQ5ZsJkk+9c7+0VeW9t8GdShnYCS5khjhB6lhIrH9FNVraCa5/ZShitQWlbQBgDqfk5oA5vQz44+N9zdaxbeI7jwz4bimaK2hsywllx6kEdj19e1JrcnjT4H6nZapd+IrrxJ4YuJliuY7ti0sOfQkntnHOM8Ed6wvg/4E8SeJvAEN5oHxEutHgWaRGsYrbcI2B658wdcg9K6zWfgL4p8QaebHWvibd3tqWDGKaxJXI6H/AFtAHtlrcxXtnDdW7bop41kRh3UjIP5Gpao6Jpx0fQbDTTL5xtLeODzNu3ftUDOOcdKvUAFFFFABRRRQAUUUUAFFFFABRRRQAUUUUAFFFFABRRRQAUUUUAFFFFABRRRQAUUUUAFFFFABRRRQAUUUUAFFFFABRRRQAUUUUAFFFFABRRRQAUUUUAFFFFABRRRQAUUUUAFFFFABRRRQAUUUUAFFFFABRRRQAUUUUAFFFFAHIQ/8ljuv+wNH/wCjWrr65CH/AJLHdf8AYGj/APRrV19ABRRRQAUUUUAFFFFABWV4o/5FHVv+vOX/ANBNatZXij/kUdW/685f/QTQBm/DX/kmPh3/ALB8X/oIrp65j4a/8kx8O/8AYPi/9BFdPQAUUUUAFFFFABRRRQAUUUUAFFFFABRRRQAUUUUAFFFFABRRRQAUUUUAFFFFABRRRQAUUUUAFFFFABRRRQAUUUUAFFFFABRRRQAUUUUAFFFFABRRRQAUUUUAFFFFABRRRQAUUUUAFFFFABRRRQAUUUUAFFFFABRRRQAV5l4e+Gmo6R8bNX8ZTXUD2d9GypEud65C9fyr02igDzv4i/D2/wDGHjHwjq9lcQxRaHd+fMsmcuN8bYH/AHwa9EoooA84+H/w61Dwn488Ua5eXMMsGsTmWFI87kBdm5/76qH4jfC/UvEnirTfFXhXWF0rWdPTyw0ke5XGSQf1I5BzXptFAHE+B9N8f2V9cnx1rVlqVs0QEKW8CoVfPU4A7Vyeu/CPX9F8X3Xif4W6zHptzeHdcWNwuYXbPOOoweuCOD0NexUUAeOvpPxx1lfs19rGiaRCww81mm5yPxHH4Yru9Y8M3mofDGbw2b3z7yTTxatdS5/ePs2lz16nmunooA5D4XeEbrwP4Bs9Cv5o5p4HkZni+6dzE/1q7468GWHjzwnc6JqeUWXDRTKPmikH3WH+HcV0VFAHiWj+FvjT4bsV0LTNZ0e402IeXBd3K7pYk7YGO3oc1ynhfwu/hP8Aae06xub6TULyW2ee6upOssrKxY47CvpivP7j4bzTfGe38cDUEEUMHlG18vk/KRndn3oAtfFL4dw/Efwuunm4+y3dvJ51rOVyFfGMH2INchY+H/jXcWKaNqWu6TbWQXy3v4k33BTp6dcd+vvXstFAHlPwr+El38O/GGu373iXNlfKEtwSTIAGJy2e+DUPj/4Wa9d+O4fG/gDU4bPWUjEckVwPkkAGM556jggivXKKAPFtS8AfEvx9p0tl471rT7OyEbFLTTlOJpMHYXbrjdgkV2Pwl8EXngDwOui6hPFPMs7y74s4wx967iigDzfwB8OdQ8J+PfE2uXlzDLBq8peJI87kG4nn869HZQylT0IwaWigDxHT/hF448EalqH/AArrxRbWunXsxl+z3UAfZ6dQeg4zxnFdb4o8HeIvFvwem8OavqFtLrVwqebchNsZKyBugHoK9BooA5/wroE+hfD3TdBuJEee0sVtmdfulguMiub+EPw9v/h9pep22pXEM7Xd0ZkMWcAY6HNeiUUAeVeO/hHe6p4tTxf4I1c6PrqLiTK5jmx0z6ccHgg1SFl8eLqMWs2o+H7RejXUSbnx64Ix+lexUUAYng/SdS0Pwta2Guam2qX8ZdprthjeWct+QBx+FbdFFAHl3xK+Guq+MPH3hnW9Pnt47fSZFaZZGIZsSBuOPQV6iBhQKKKAPKPF/wALtVuPitpnjfwhcW9rcxFRexykqJgOCePVTg/QVd+KvwvuvGs+nazoGoDT9c0tt0EjD5X5BAJ7YI969KooA8bbwr8XfFdmNH8Xa3pmn6XINtzJp6ZmnTuucDGfbFa3wg+F118NrvxD59xDLb6jNG1ssZJKIhfAOe+GH5V6dRQB5tF8ONQT4+T+OTcw/YZLUQiHneD5arn81rvNZsn1HQ72yiIV7iB4lJ6AlSKu0UAcL8JPA174A8HyaTqU8U8rXDS7os4wcetc34j+D+r23jefxZ8OddXR7675ubeSPdG5PU+nPBwR15r16vNvFHw58T3/AIpuNb8L+NrrSTcAB7Ux74hgYyATjt6UAeX/ABg8J69aeBLjWPiL4mXU9Q3JDptpbxiONHLgs2BjJ2hh0r274b2DQfCjw9ZXkfP9mxJJGw9UGQa4W3+BV9rOvW2p/ELxZda8ts4dLUJsjJ9MZ4HrgDNeyIixoqRqFVRgADAAoA8Vl+E3i7wTr13qPwp1uCC0u33yaZfDMan0B549Oh96tNoHxp8QMLfWNf0nRrUkbzp8e5yPY4yPzFew0UANiQxwojNuKqAWPf3p1FFABRRRQAUUUUAFFFFABRRRQAUUUUAFFFFABRRRQAUUUUAFFFFABRRRQAUUUUAFFFFABRRRQAUUUUAFFFFABRRRQAUUUUAFFFFABRRRQAUUUUAFFFFABRRRQAUUUUAFFFFABRRRQAUUUUAFFFFABRRRQAUUUUAFFFFABRRRQByEP/JY7r/sDR/+jWrr65CH/ksd1/2Bo/8A0a1dfQAUUUUAFFFFABRRRQAVleKP+RR1b/rzl/8AQTWrWV4o/wCRR1b/AK85f/QTQBm/DX/kmPh3/sHxf+giunrmPhr/AMkx8O/9g+L/ANBFdPQAUUUUAFFFFABRRRQAUUUUAFFFFABRRRQAUUUUAFFFFABRRRQAUUUUAFFFFABRRRQAUUUUAFFFFABRRRQAUUUUAFFFFABRRRQAUUUUAFFFFABRRRQAUUUUAFFFFABRRRQAUUUUAFFFFABRRRQAUUUUAFFFFABRRRQAUUUUAFFFFABRRRQAUUUUAFFFFABRRRQAUUUUAFFFFABRRVXVL1NN0i8vpPuW0DzN9FUn+lAHnF9431jW/jfa+EvDVwINP02Iz6rMEDGTofLyQcdhxzya2vi344vPh94GbW9OtobmYXMcPlzE7cNnnj6Vw37Ntu2pWPiLxZe/Pe6rfsGc9gPmOPxc/kK0v2mf+SPv/wBf8P8A7NQB6N4S1iXxB4R0vVriNY5by2SZ0TopZQcCvOvGXxourfxZ/wAIp8PtIGvawhInOT5cRHUcdSO54ArW03V5dA/Z0g1W3OJbTQxKh/2hHxXKfsx6DAnhPUPEcyiS+1C6ZDMwywQYOM+5OaAJJ/Enxx0W3bUL7w5pt/Ag3NbwPlwPoDk/hXa/DP4o6b8R9MlMETWepWuBdWbnJQ+oPcV3PXrXzrrkaeAf2rtLl0391a68im4iXgEyFk/9CUNQB33xm+Jep/Dmy0iTSLG3u5L+d4is5IxgDGMfWsJvHXxlhtftR8B2MsYXdtjmJJHsA1Zf7UZC2fhQk4Av3JP4LXraeMfDen6NFPe65p8MaRDcz3CjHH1oA534W/Fi2+Icd3ZXdmdM1qxOLizYk8ZxkZ54PBB6VrfE2fxDZeBb3UPCV15F/Yr9o2+Wr+ai8suCD2549K8l+ER/4Sb9oDxN4p0WJ10bbIgm24WRmIx+J2lq+hpY1mheOQbkcFWB7igDnvAPiuLxr4J0/XIQFa4jxKg/gkU7WH5g10deG/AK4fR/FXjLwixzDZ3zTQr2UZKnH5L+Ve5UAFFFFABRRRQAUUUUAFFFFABRRRQAUUUUAFFFFABRRRQAUUUUAFFFFABRRRQAUUUUAFFFFABRRRQAUUUUAFFFFABRRRQAUUUUAFFFFABRRRQAUUUUAFFFFABRRRQAUUUUAFFFFABRRRQAUUUUAFFFFABRRRQAUUUUAFFFFABRRRQAUUUUAFFFFABRRRQAUUUUAFFFFABRRRQAUUUUAchD/wAljuv+wNH/AOjWrr65CH/ksd1/2Bo//RrV19ABRRRQAUUUUAFFFFABWV4o/wCRR1b/AK85f/QTWrWV4o/5FHVv+vOX/wBBNAGb8Nf+SY+Hf+wfF/6CK6euY+Gv/JMfDv8A2D4v/QRXT0AFFFFABRRRQAUUUUAFFFFABRRRQAUUUUAFFFFABRRRQAUUUUAFFFFABRRRQAUUUUAFFFFABRRRQAUUUUAFFFFABRRRQAUUUUAFFFFABRRRQAUUUUAFFFFABRRRQAUUUUAFFFFABRRRQAUUUUAFFFFABRRRQAUUUUAFFFFABRRRQAUUUUAFFFFABRRRQAUUUUAFFFFABRRRQAVkeLbd7vwXrVvCCZJbCdFA7kxsAK16RlDKVbkEYNAHjP7MEyv8L54B9+G/kVx9Qp/rVn9pn/kj7/8AX/D/AOzVk/DWM/D342+IfBs48ux1X/TdPz0HU7R+BI/4DXcfGPwXqXj3wC2jaM8CXJuo5czsVXC5zyAfWgClY6VLrf7N8Wm24zLdaEI0A7sY+K5r9mHWoZ/A99ojMFu9Pu2LRk87W74+oIr1TwfpM+g+DdK0q8KNPZ2scMhQ5UsqgHHtXmviv4OatY+LJPFnwt1RNH1KbJuLZx+6lJ5OOCOT2Ixn0oA9kr518Tsnjb9rHRbXTz5kOion2iReQrRlpD+rKtVvH3jb42+H/DbSaxYWWm2hbynv7EB3Ge/3m2/XAr0L4IeCtB0Tw0Ne0zUP7Xv9VUPcX7dfUoB1GD1zzn8KAOS/amjWXT/C0bjKvfOpHsQtdFcfs7eBdR0IJbWc9lcSRArPHcOxVsdcMSDVr42fD3WfH0GhJoZgBsLppZfOcr8pA6ce1em2sZhtIo2+8iAH8qAPEfgpr934W8T6j8MfESxrc2TM9lOqhfOTr+ORgg9eo7V7nXk3xQ+GWsaz4y0bxf4Klgg1eycCcTMVWVFOV6D6g+oNd34n8Rp4X8D3ut6ntie1tTIyBs5kxwgPfLcCgDyT4RL9r+PPjq+i5hWRkyOhJf8A+tXvNeU/s/eG5tL8Dz65qClb7XrlruQMMFUydo/Hlv8AgVerUAFFFFABRRRQAUUUUAFFFFABRRRQAUUUUAFFFFABRRRQAUUUUAFFFFABRRRQAUUUUAFFFFABRRRQAUUUUAFFFFABRRRQAUUUUAFFFFABRRRQAUUUUAFFFFABRRRQAUUUUAFFFFABRRRQAUUUUAFFFFABRRRQAUUUUAFFFFABRRRQAUUUUAFFFFABRRRQAUUUUAFFFFABRRRQAUUUUAchD/yWO6/7A0f/AKNauvrkIf8Aksd1/wBgaP8A9GtXX0AFFFFABRRRQAUUUUAFZXij/kUdW/685f8A0E1q1leKP+RR1b/rzl/9BNAGb8Nf+SY+Hf8AsHxf+giunrmPhr/yTHw7/wBg+L/0EV09ABRRRQAUUUUAFFFFABRRRQAUUUUAFFFcB8QfjBoPgGZLGVJdS1WQApY2vLc9Mntn8/agDv6K8Qk+PHiexh+26r8MdVt9PHLy72yi+pzGP1xXpHgf4gaF4/0przQrgloyBNbyDbJEfQj+vSgDp6KKKACiiuW1f4g6PovjjTfCt5539oaigeHamUwSw5Pb7poA6miivOfCXxA1PXviz4k8MXUNulnpSgwuikO3IHJzjv6UAejUV574r8Z+JNH+KGgaFpelfadJvwv2q6+zu3lZYg/MOBwO9ehUAFFFFABRRRQAUUUUAFFFFABRRRQAUUUUAFFFFABRRRQAUUUUAFFFFABRRRQAUUUUAFFFFABRRRQAUUUUAFFFFABRRRQAUUUUAFFFFABRRRQAUUUUAFFFFABQTgE+lFI/3G+lAGD4R8WW3i/T726tLeSBbS+lsmEhBLNGR8wx2Oa3681+CH/Is69/2MF5/Na9KoAKKKKACiiigAooooAKKKKAMfVfCmja1rGn6rqFmHvtNffazq5VkPGRkEZHHQ8VsUUUAFFFFAFe+sbXU7Gay1C3jubaZSkkUqhlcHsQayfC/gvQfBlvNb+G7I2cMzbnjEzupPqAxOD9K3qKACiiigArI8SeFtJ8W6aun6/bG6tBIJPK8xlBYdM4IzWvRQAyGGO3gjhgRY4o1CoijAUDgAU+iigAooooAKKKKACiiigDD8XeKbfwhoi6leQSTxtcRQBIyAcu2M8+nWttW3KGHcZrzv44f8k/h/7Cdr/6Mr0OL/Up/uigB1FFFABRRRQAUUUUAFFFFABRRRQAUUUUAFFFFABRRRQAUUUUAFFFFABRRRQAUUUUAFFFFABRRRQAUUUUAFFFFABRRRQAUUUUAFFFFABRRWL4q8WaR4N0STVNeult7dOAOrO3ZVHc0AbVFeIx/HzXtXDXPhj4carqGngkJcl2HmY9MIR+RNdD4I+N+jeK9Y/sTVLK40DWd20Wd5/E3oGIHPsQKAPTaKKKACiisXxb4psPBnhm51zV/M+yWxUP5S7m+Zgo4+pFAG1RVLR9Ug1vQ7LVbPd9nvYEuItwwdrqGGR9DXD/ABK+IGp+DvFnhDTNOht5Idcvfs9w0qksq741yuCOcOaAPRaK5j4ia9qvhrwLfar4fsvt2oQbPKg8ppN2XAPyryeCTWj4V1G81fwnpuoapB9nvLm3SSaHYV2MRkjB5H40Aa1FFFABRRRQAUUUUAFFFFABRRRQAUUUUAFFFFABRRRQAUUUUAFFFFAHIQ/8ljuv+wNH/wCjWrr65CH/AJLHdf8AYGj/APRrV19ABRRRQAUUUUAFFFFABWV4o/5FHVv+vOX/ANBNatZXij/kUdW/685f/QTQBm/DX/kmPh3/ALB8X/oIrp65j4a/8kx8O/8AYPi/9BFdPQAUUUUAFFFFABRRRQAUUUUAFFFFAFHW9RXSNAv9RYbhaW0k2PXapOP0rwj9nfQx4n1XWfH3iD/TNQluTHA0gz5Z6sw/MAegBr2vxlZSaj4I1q0hBaSaxmVFHUnYcCvJ/wBlrUYZPAuo6ZuAubS9LPH3CsBg/mD+VAHuLIroVdQykYII4NfOms2i/Cz9pXSJ9GH2fS/EOEmtl4Qbm2tgexww+pFfRlfPPxhkXXf2gvBOjWX7ye2dGmCc7A0gbn0wq5+lAHd/Fb4gav4L1rwva6Qts0erXZhn86MsQuUHy4IwfmNelKcqD6ivDP2gxjxN4BHpqB/9Cjr3JP8AVr9BQB5t4O8f6xr3xh8V+GL1bYWOkrm3McZDn5lHzHPPX0ryT4hyeOf+GhtGLRab/agH/EqGT5bRbn2+Zz1+9XZ/DEhv2lfiCQcjZ/7OtQ/ET/k6bwX/ANey/wDoUtAHe+CZfia+tSDx3Bo8en+SdhsSd/mZGM5PTGf0ri/ht/ych47/ANwf+hCvcK8P+G3/ACch47/3B/6EKAOg8a/EPWNA+MXhrwxYpbGw1QIZzJGS4y5HBzxwPSus8d+NtO8A+Fp9Z1TLhSEhgU/NM56KPy615R8UP+TlvA3+7H/6MaoP2npLtr3wpbW2wo87kCX7hfKgbvbmgDRstT+Ovie0XV9Nj0nSLSYeZBazopcoemcgkcfT6Cuj+GnxPv8AX9cvPCnjOwXTfEliCzonCTqMcr+YPU5HIrNik+Oywosdv4VCBQFAZ+lZmieAfiNd/GLTfGPipdHiWBfLn+wysCybSOhHJ59aAND4q/F3Vvh/8RNH0u2t4Z9NubUTTp5RaVjuddqnPGdo7VNpF58adU12w1C9ttL07RZZ0aay+UzJCWGQSed233Fc58VrdLn9pnwLHKMr5cTY9xLIR+or6A7UAeJ6t8R/HPi7x1qfhz4X2tnDDpLmO6vrwA5YEjjPGMg9j07Vq6A/xnsPEVmniT+yNR0qSQLcSQKqvGv94AY/rWLrPw18deD/ABxqfif4X3trNHqchludPusDcSc4GeCMk45BFWNE+Nmuab4osvD/AMSvDL6PNeSCKK7jJ8t2JwMA8EZI5BPWgD2miiigAooooAKKKKACiiigAooooAKKKKACiiigAooooAKKKKACiiigAooooAKKKKACiiigAooooAKKKKACiiigAooooAKKKKACiiigApH+430paR/9W30oA81+CLKvhrXssB/xUF51Putek+Yn95fzrwn4bfDXQ/Fmn67qOqTakk41y6ixbX0kK4BBHyqQM89a7L/hR/hX/n41v/wbTf8AxVAHonmJ/eX86PMT+8v5153/AMKP8K/8/Gt/+Dab/wCKo/4Uf4V/5+Nb/wDBtN/8VQB6J5if3l/OjzE/vL+ded/8KP8ACv8Az8a3/wCDab/4qj/hR/hX/n41v/wbTf8AxVAHonmJ/eX86PMT+8v5153/AMKP8K/8/Gt/+Dab/wCKo/4Uf4V/5+Nb/wDBtN/8VQB6J5if3l/OjzE/vL+ded/8KP8ACv8Az8a3/wCDab/4qj/hR/hX/n41v/wbTf8AxVAHonmJ/eX86PMT+8v5153/AMKP8K/8/Gt/+Dab/wCKo/4Uf4V/5+Nb/wDBtN/8VQB6J5if3l/OjzE/vL+ded/8KP8ACv8Az8a3/wCDab/4qj/hR/hX/n41v/wbTf8AxVAHonmJ/eX86PMT+8v5153/AMKP8K/8/Gt/+Dab/wCKo/4Uf4V/5+Nb/wDBtN/8VQB6J5if3l/OjzE/vL+ded/8KP8ACv8Az8a3/wCDab/4qj/hR/hX/n41v/wbTf8AxVAHonmJ/eX86PMT+8v5153/AMKP8K/8/Gt/+Dab/wCKo/4Uf4V/5+Nb/wDBtN/8VQB6J5if3l/OjzE/vL+ded/8KP8ACv8Az8a3/wCDab/4qj/hR/hX/n41v/wbTf8AxVAHonmJ/eX86PMT+8v5153/AMKP8K/8/Gt/+Dab/wCKo/4Uf4V/5+Nb/wDBtN/8VQB6J5if3l/OjzE/vL+ded/8KP8ACv8Az8a3/wCDab/4qj/hR/hX/n41v/wbTf8AxVAHonmJ/eX86PMT+8v5153/AMKP8K/8/Gt/+Dab/wCKo/4Uf4V/5+Nb/wDBtN/8VQAfG91Pw/hAYH/iZ2vf/ppXokX+pT/dFeF/E34YaF4X8L22pabNqbTpqNsoFxfyypgvz8rHFe6Rf6lP90UAOooooAKKKKACiiigAooooAKKKKACiiigAooooAKKKKACiiigAooooAKKKKACiiigAooooAKKKKACiiigAooooAKKKKACiiigAooooAK+dPG8J+JH7S9h4Wu5GfSNLiWSWEN8r4G98j1JIX6Cvouvne0K+Hf2xbgXx2JqNuRCzcBi6AgD8VI+tAH0Ha2sFlax21pEkMMShUjRcBQOwFeMftH+EbefwinizT1FvqulTIzTxjDNGTjqO4JBB7c17ZXmH7QmqQad8HtSimdRJeMkESnqzFgTj8ATQBc0vxxfXXwCj8XRBDfppjTHzFyrSJlSSPQlSa1fhf4nvvGPw+0/WtVES3VwG3iFSq8MRwMn0riNDs5rH9kcw3CFJDpEz7T6MzMP0INbvwDOfg3o+PR//QzQBX+LPxD1nwTrXhu00dLZo9TufKn8+MsQMqOMEY61jftJN4lHgG5WwSzOgFY/trSZ84P5q7dvtnGazf2iWH/CVeCFzz9uzj/gSV1/7Qv/ACRDWv8Aeg/9HJQBy/gWb4yDwn4fGn23h86R9ktxC0hPmeRtXGefvbf1p/x1z/wsX4Zbuv8AanP/AH9gr0z4b/8AJLvDH/YJtv8A0UteafHf/ko/wz/7Cv8A7VgoA9A+Kfii+8G/DfUdc0lYWu7by9gmUsvzSKpyAR2JrS8I65LrHgTS9b1Roo5LmzS4mZRtRSVyevQVynx//wCSJa19YP8A0clZ9xLLB+yo0luSJB4fGCvUfuxQBkN8S/HnxD1q7tvhVYWttpdm/lvqV8oPmN/sg8fhgn1xTofiP48+H3iKxs/ivbWc+lahJ5UWp2agCJv9rHGPbAPcZxXMfCEfFOL4eWp8Fw+Hm015HYG6ZvNLbiDux9PyxWv408HfGPx5oi6VrkHhsQLKsoaCRlYEehIPrQB6X8VfFl94N+G9/r2jCF7mAx+X5y7kIZ1U8Ajsa880n4gfFH4iaHbXPgXT7CyiiiVbq+vFAE02PnEanPyg/X61sfGSzudP/Zvns74hrmCC1jlKnILCRAee9dd8JreK2+EfhpIUCK2nxOQB1LLkn8STQBx/i74leKfCGg+H9Daxgv8Axpqo2MBjykbON2BgHP4e9VfJ/aAhjFx9r0KduptiiD8M4H863vix8Mr/AMZXOma34a1BbDXNKbMDyfdcZBAJ7YI9D1rk7j4l/FXwHCJPHXhWDUbKP/WXtk2MD1JXIH4gUAey+HLjVLrw7ZzeILZLXUnjBuYYzlUfuByePxrTrH8KeJ7Dxh4ZtNb0lmNtcrkBhgqQcFT7ggitigAooooAKKKKACiiigAooooAKKKKACiiigDkIf8Aksd1/wBgaP8A9GtXX1yEP/JY7r/sDR/+jWrr6ACiiigAooooAKKKKACsrxR/yKOrf9ecv/oJrVrK8Uf8ijq3/XnL/wCgmgDN+Gv/ACTHw7/2D4v/AEEV09cx8Nf+SY+Hf+wfF/6CK6egAooooAKKKKACiiigAooooAKKKKAA89a8H8UfDjxT4D8eTeNfhfEt3HdMxvNL6btxycDuCefUHpXvFFAHhk3xf+JN5bmz074aXUN+w2+bIXKKfXG0fzrW+E/wt1TRtdu/GXjmdLnxDfA4QHcIA3Xnpu4A46DivXcUUAeY/HDwDqHjTwxa3Ogc6tpU3n26Zx5g7qPfgEfSue0/4o/Ey/tI9Ji+Hc8eqbRG13MzJCp6biCOB+Ne30UAeF/BnwV4m8M/FbxRdeI7eaRLiHAv2TEdw5cMSvt1/KtH4xeC/El14u0Hxp4OtFvr3Svlkti2C6gkjA79SD35r2OigDzzwF428Z+Itcks/FHgqXQrZIC4uXZiGcEDbyPQk/hWL4C8N6xp3x38Y6tfadPBYXigW9w64SXkdDXrtFAHjPxD8Ma3qXx88IavYaZcT6faBPtFyiZSPDk8n6V13xW+HkfxE8JGxjlFvf27+daTHorgdD7Gu4ooA8J0z4l/EzwpYx6T4i8AXWqTWwES3dqxAlA4B4Ug/UV1ngnxb8QPE/iZX1rwoNB0RI23GZsyO38OM4OPwr0rFFAHjPxB8Ma3qX7Qng/WLDTLifTrOJBcXKJlIyHkPJ+hH517Kc7TjrjilooA8ZvPiV8SvDup3dtqngCXVLZJW8i5tGI3Jn5c4DDpWDqFl42+M/i3Q21bwxJ4c0XSp/tDyXBO+TkEgZAJztxwO9fQlFACAYUAdqWiigAooooAKKKKACiiigAooooAKKKKACiiigAooooAKKKKACiiigAooooAKKKKACiiigAooooAKKKKACiiigAooooAKKKKACiiigApH+430paRhlSPagDzb4If8izr3/YwXn81r0quF+FGhajoGhaxBq1s1tJPrVzcRqxHzRsV2tx2OK7qgAooooAKKKKACiiigAooooAKKKKACiiigAooooAKKKKACiiigAooooAKKKKACiiigAooooA86+OH/JP4f+wna/8AoyvQ4v8AUp/uiuL+K+iahr/g2Oz0m3a4nW/t5SikA7VfJPPoK7SMERqD1AFADqKKKACiiigAooooAKKKKACiiigAooooAKKKKACiiigAooooAKKKKACiiigAooooAKKKKACiiigAooooAKKKKACiiigAooooAKKKKACvMvi/8K38d29rqmiTrZ+INO5tpidocA5Ckjpg8g9iT616bRQB4TZfFP4n6Bapp/iD4e3Oo3cQ2faoCwWXHfhSPyqlF4I8bfGLxXaar8Q7T+xdBsjmLTsne/qMdee7H6CvoPFFAGdqui22qeG7rRnXy7a4tmtyEGNqlccV4L4R1r4hfCO2n8L3Hgy512zinY2lzbEgEE+oB4788jNfRdFAHzJ408MfEbxl4p8PeJdY0WSNftShNPthv+xwhgdzn+8efwAr3H4leFpfGfw81TQ7ZlWe4jBiLHA3qwZQfxUCuqooA8I8J+L/AIo+F9K03w5e/D6W6islS1F3G5x5a4UHjIOBWz8YfDms6545+H93pWmz3UFhqPm3UkS5EK+ZEct6DCn8q9eooA4L406RqGu/CXVtO0e0lvLyXyvLhiXLNiVScD6A1peDtDZvhVpeia3bNGW05Le5gkGCPkwQa6uigD570rTviD8EdSvLLRdFbxR4buJTLCIifMi+uASD+BB61s/8LR+Jmv7bbw98OprGSQ4+03rnanvyFFe10UAeffGvR9S174R6np+k2ct5eymHbDCuWbEik4H0Brd+Hdjc6Z8NvD9lfwPb3NvYRRyxOMMjBQCDXSUUAee/ELxP448M6xaTeFvDY13THi/fohIdHz2xz09q4TxD8QviD420C88PaX8Obuye/ja3lnuGJVFYYPVQBwete+0YoA5D4XeD5fAvw+sNDupVluIt0kzKeN7MWIHsM4rr6KKACiiigAooooAKKKKACiiigAooooAKKKKAOQh/5LHdf9gaP/0a1dfXIQ/8ljuv+wNH/wCjWrr6ACiiigAooooAKKKKACsrxR/yKOrf9ecv/oJrVrK8Uf8AIo6t/wBecv8A6CaAM34a/wDJMfDv/YPi/wDQRXT1zHw1/wCSY+Hf+wfF/wCgiunoAKKKKACiiigAooooAKKKKACiiigAooooAKKKKACiiigAooooAK8/8GfFa08YeO9d8NQ2ElvJpLuomZgRKEfYxx256V37fdP0r5x+A6+Z8cfG03pJOPznP+FAH0fRRRQAUUUUAFFFFABRRRQAUUUUAFFFFABRRRQAUUUUAFFFFABRRRQAUUUUAFFFFABRRRQAUUUUAFFFFABRRRQAUUUUAFFFFABRRRQAUUUUAFFFFABRRRQAUUUUAFFFI3Cn6UALRXkV14x8THVbi2sZXlERycBBgEnHUe1N/wCEq8Z/3ZPzjqHUinZs6o4StOPNGOh6/RXkH/CVeM/7sn5x0f8ACVeM/wC7J+cdL2kO5X1LEfynr9FeQf8ACVeM/wC7J+cdH/CVeM/7sn5x0e0h3D6liP5T1+ivIP8AhKvGf92T846P+Eq8Z/3ZPzjo9pDuH1LEfynr9FeQf8JV4z/uyfnHR/wlXjP+7J+cdHtIdw+pYj+U9foryD/hKvGf92T846P+Eq8Z/wB2T846PaQ7h9SxH8p6/RXkH/CVeM/7sn5x0f8ACVeM/wC7J+cdHtIdw+pYj+U9forgPCuu6/eSXI1YsoVQUzsPP4VhTeKfGSzOEWTaGOOY+lcVLMaNXE1MMr3ha/bXsL6nX2UdT1yivIP+Eq8Z/wB2T846P+Eq8Z/3ZPzjrt9pDuP6liP5T1+ivIP+Eq8Z/wB2T846P+Eq8Z/3ZPzjo9pDuH1LEfynr9FeQf8ACVeM/wC7J+cdH/CVeM/7sn5x0e0h3D6liP5T1+ivIP8AhKvGf92T846P+Eq8Z/3ZPzjo9pDuH1LEfynr9FeQf8JV4z/uyfnHR/wlXjP+7J+cdHtIdw+pYj+U9foryD/hKvGf92T846P+Eq8Z/wB2T846PaQ7h9SxH8p6/RXkH/CVeM/7sn5x1r+C/FGs6p4kNnqczYQENGQvXGeoFNTi3ZGdTDVaceaasj0iiiirOcKKKKACiiigAooooAKKKKACiiigAooooAKKKKACiiigAooooAKKKKACiiigAooooAKKKKACiiigAooooAKKKKACiiigAooooAKKKKACiiigAooooAKKKKACuB+JPxUtfhzfaJbXVhJd/wBqSspZHC+WqlQT7n5hxXfV85/tR/8AIf8ABg/25/8A0KKgD6LVt6Bh0IzS0yH/AI94/wDdH8qfQAUUUUAFFFFABRRRQAUUUUAFFFFABRRRQAUUUUAFFFFABRRRQAUUUUAchD/yWO6/7A0f/o1q6+uQh/5LHdf9gaP/ANGtXX0AFFFFABRRRQAUUUUAFZXij/kUdW/685f/AEE1q1leKP8AkUdW/wCvOX/0E0AZvw1/5Jj4d/7B8X/oIrp65j4a/wDJMfDv/YPi/wDQRXT0AFFFFABRRRQAUUUUAFFFFABRRRQAUUUUAFFFFABRRRQAUUUUANfiNvoa+df2dz53xR8bzf3pSfzlc19Ey/6l/wDdNfOn7MoMnjLxlKf70f6vJ/hQB9HUUUUAFFFFABRRRQAUUUUAFFFFABRRRQAUUUUAFFFFABRRRQAUUUUAFFFFABRRRQAUUUUAFFFFABRRRQAUUUUAFFFFABRRRQAUUUUAFFFFABRRRQAUUUUAFFFFABSN90/SlpG+6fpQB4vYf8jNqX0X+ZrYrHsP+Rm1L6L/ADNbFcFT42fX4L/d4hRRRWZ1hRRRQAUUUUAFFFFABRRRQAUUUUAa2hffm+grLk/1jfU1qaF9+b6CsuT/AFjfU189gv8Aka4r0h+Rzw/jT+Q2iiivoToCiiigAooooAKKKKACiiigAooooAKr+B/+Sg3P1P8A6DViq/gf/koNz9T/AOg1tR+M83M/93PWaKKK7T5cKKKKACiiigAooooAKKKKACiiigAooooAKKKKACiiigAooooAKKKKACiiigAooooAKKKKACiiigAooooAKKKKACiiigAooooAKKKKACiiigAooooAKKKKACvnP9qDnxJ4MH+3N/6FFX0ZXzl+09z4q8Gj/bl/9CjoA+iof9RH/uj+VPpkP+oT/dH8qfQAUUUUAFFFFABRRRQAUUUUAFFFFABRRRQAUUUUAFFFFABRRRQAUUUUAchD/wAljuv+wNH/AOjWrr65CH/ksd1/2Bo//RrV19ABRRRQAUUUUAFFFFABWV4o/wCRR1b/AK85f/QTWrWV4o/5FHVv+vOX/wBBNAGb8Nf+SY+Hf+wfF/6CK6euY+Gv/JMfDv8A2D4v/QRXT0AFFFFABRRRQAUUUUAFFFFABRRRQAUUUUAFFFFABRRRQAUUUUAMn4t5P9w/yr52/Zb+bXPGT/7cH/oUtfQ90dtnMfSNv5V88/srDN74vb1kt/5y0AfRdFFFABRRRQAUUUUAFFFFABRRRQAUUUUAFFFFABRRRQAUUUUAFFFFABRRRQAUUUUAFFFFABRRRQAUUUUAFFFFABRRRQAUUUUAFFFFABRRRQAUUUUAFFFFABRRRQAUjfdP0paRvun6UAeL2H/Izal9F/ma2Kx7D/kZtS+i/wAzWxXBU+Nn1+C/3eIUUUVmdYUUUUAFFFFABRRRQAUUUUAFFFFAGtoX35voKy5P9Y31Namhffm+grLk/wBY31NfPYL/AJGuK9Ifkc8P40/kNooor6E6AooooAKKKKACiiigAooooAKKKKACq/gf/koNz9T/AOg1Yqv4H/5KDc/U/wDoNbUfjPNzP/dz1miiiu0+XCiiigAooooAKKKKACiiigAooooAKKKKACiiigAooooAKKKKACiiigAooooAKKKKACiiigAooooAKKKKACiiigAooooAKKKKACiiigAooooAKKKKACiiigAr5x/ac58X+DR/tSf+hx19HV84ftM8+NPBo/2n/wDQ0oA+jIv9Sn+6P5U+mRf6lP8AdFPoAKKKKACiiigAooooAKKKKACiiigAooooAKKKKACiiigAooooAKKKKAOQh/5LHdf9gaP/ANGtXX1yEP8AyWO6/wCwNH/6NauvoAKKKKACiiigAooooAKyvFH/ACKOrf8AXnL/AOgmtWsrxR/yKOrf9ecv/oJoAzfhr/yTHw7/ANg+L/0EV09cx8Nf+SY+Hf8AsHxf+giunoAKKKKACiiigAooooAKKKKACiiigAooooAKKKKACiiigAooooAraidul3R9IXP/AI6a8B/ZUX/ka3/vSwD/ANGV73rDbdDvm9LaQ/8Ajprwv9lVP+JV4kk/vXUY/IN/jQB9AUUUUAFFFFABRRXzxoOvavL+1tf6ZLql69gsswW0a4cxDERI+TOOvtQB9D0UUUAFFFFABRRRQAUUUUAFFFFABRRRQAUUUUAFFFFABRRRQAUUUUAFFFFABRRRQAUUUUAFFFFABRRRQAUUUUAFFFFABRRRQAUUUUAFFFFABSN90/SlpG+6fpQB4vYf8jNqX0X+ZrYrHsP+Rm1L6L/M1sVwVPjZ9fgv93iFFFFZnWFFFFABRRRQAUUUUAFFFFABRRRQBraF9+b6CsuT/WN9TWpoX35voKy5P9Y31NfPYL/ka4r0h+Rzw/jT+Q2iiivoToCiiigAooooAKKKKACiiigAooooAKr+B/8AkoNz9T/6DViq/gf/AJKDc/U/+g1tR+M83M/93PWaKKK7T5cKKKKACiiigAooooAKKKKACiiigAooooAKKKKACiiigAooooAKKKKACiiigAooooAKKKKACiiigAooooAKKKKACiiigAooooAKKKKACiiigAorzP4/aje6X8J7y60y7ns7hZYwJbeUxsMsM8g5rZ+EN3c3/wAI/D11fXEtzcS2uXlmcuznceSTyaAOzooooAK+b/2l+fHXg4e7f+hpX0hXzf8AtKc/EDwcP9o/+jEoA+jov9Sn+6KdTYv9Sn+6KdQAUUUUAFFFFABRRRQAUUUUAFFFFABRRRQAUUUUAFFFFABRRRQAUUUUAchD/wAljuv+wNH/AOjWrr65CH/ksd1/2Bo//RrV19ABRRRQAUUUUAFFFFABWV4o/wCRR1b/AK85f/QTWrWV4o/5FHVv+vOX/wBBNAGb8Nf+SY+Hf+wfF/6CK6euY+Gv/JMfDv8A2D4v/QRXT0AFFFFABRRRQAUUUUAFFFFABRRRQAUUUUAFFFFABRRRQAUUUhG5SPUYoAyteuon8M6wYZUdorSYOFYHaQh4PpXjH7Kn/Is6854zdr/6DXH3moXXwi+LviXSL6d30nXLSZlZ2z99WMbfUNlT+PtXH+HvHb+G/g/qmiaZKy6lrF9s+Q/MkQVd355wPxoA+3FZXXcjBge4OaWuJ+EPhq68KfDHS9O1B5GuWQzyLIcmMud238M4rtqACiiigAr5o8O/8nl6j/12n/8ARRr6Xr5o8O/8nl6j/wBdp/8A0UaAPpeiiigAooooAKKKKACiiigAooooAKKKKACiiigAooooAKKKKACiiigAooooAKKKKACiiigAooooAKKKKACiiigAooooAKKKKACiiigAooooAKRvun6UtI33T9KAPF7D/kZtS+i/zNbFY9h/yM2pfRf5mtiuCp8bPr8F/u8QooorM6wooooAKKKKACiiigAooooAKKKKANbQvvzfQVlyf6xvqa1NC+/N9BWXJ/rG+pr57Bf8jXFekPyOeH8afyG0UUV9CdAUUUUAFFFFABRRRQAUUUUAFFFFABVfwP8A8lBufqf/AEGrFV/A/wDyUG5+p/8AQa2o/Gebmf8Au56zRRRXafLhRRRQAUUUUAFFFFABRRRQAUUUUAFFFFABRRRQAUUUUAFFFFABRRRQAUUUUAFFFFABRRRQAUUUUAFFFFABRRRQAUUUUAFFFFABRRRQAUUUUAeV/tG/8kcvv+u0X/oQrb+C3/JGfDX/AF6f+zNWJ+0b/wAkcvv+u0X/AKEK2/gt/wAkZ8Nf9en/ALM1AHc0UUUAMkljhUGV1QEgAscZPpXzn+0fz8R/Bg/2v/aiV3f7Qnhe78QfDd7vTpJVudJl+1hEY/MoHzceoHP4V4B4m8eL4xbwJeX0w+16e3kXjMecrImHP1HP50AfZ6SoojjZ1DsvCk8mpK+ZvAl7qHxX/aFfxGJZU0nRsmEKxACgFUX/AIEcsfXmvpmgAooooAKKKKACiiigAooooAKKKKACiiigAooooAKKKKACiiigAooooA5CH/ksd1/2Bo//AEa1dfXIQ/8AJY7r/sDR/wDo1q6+gAooooAKKKKACiiigArK8Uf8ijq3/XnL/wCgmtWsrxR/yKOrf9ecv/oJoAzfhr/yTHw7/wBg+L/0EV09cx8Nf+SY+Hf+wfF/6CK6egAooooAKKKKACiiigAooooAKKKKACiiigAooooAKKKKACiiigDxb9pLwMNf8Fpr9lHm+0k5faOZIT1H4dfzrx/9nzwF/wAJb46XUr2Hfpuk4mcsOGl/gX8xn8Pevr/UHsTZyQ6k0PkTKUdJiNrqRgg568Vl+FNC8NeHdOey8J29rbW7OZHSB92WPckkmgDe6UUUUAFFFRT3UFqm+5mjiX1dgKAJa+aPDv8AyeXqP/Xaf/0Ua+j7e/tLvP2W5ilx1CODXzh4d/5PL1H/AK7T/wDoo0AfS9FFFABRRRQAUUUUAFFFFABRRRQAUUUUAFFFFABRRRQAUUUUAFFFFABRRRQAUUUUAFFFFABRRRQAUUUUAFFFFABRRRQAUUUUAFFFFABRRRQAUjfdP0paRvun6UAeL2H/ACM2pfRf5mtisew/5GbUvov8zWxXBU+Nn1+C/wB3iFFFFZnWFFFFABRRRQAUUUUAFFFFABRRRQBraF9+b6CsuT/WN9TWpoX35voKy5P9Y31NfPYL/ka4r0h+Rzw/jT+Q2iiivoToCiiigAooooAKKKKACiiigAooooAKr+B/+Sg3P1P/AKDViq/gf/koNz9T/wCg1tR+M83M/wDdz1miiiu0+XCiiigAooooAKKKKACiiigAooooAKKKKACiiigAooooAKKKKACiiigAooooAKKKKACiiigAooooAKKKKACiiigAooooAKKKKACiiigAooooA8r/AGjf+SOX3/XaL/0IVt/Bb/kjPhr/AK9P/ZmrE/aN/wCSOX3/AF2i/wDQhW38Fv8AkjPhr/r0/wDZmoA7miiq0+pWVq+25u4Ym/us4BoAmnhjubeSCdFeKRSjowyGBGCDXwn8UvBMngn4hXukxRt9mkbzbTvmNjwPfHT8K+7Ipop4w8EiSKejI2RWPrfg7w/4i1Gx1DW9Lgu7rT3320sgOYzkH8RkA4ORQBzfwZ8DR+Bvh/awSRhb+8AuLtiOdxHC/gOPz9a7+qbarp8cnlNe26v02mQcVbVgygqQQehBoAWiiigAooooAKKKKACiiigAooooAKKKKACiiigAooooAKKKKACiiigDkIf+Sx3X/YGj/wDRrV19chD/AMljuv8AsDR/+jWrr6ACiiigAooooAKKKKACsrxR/wAijq3/AF5y/wDoJrVrK8Uf8ijq3/XnL/6CaAM34a/8kx8O/wDYPi/9BFdPXMfDX/kmPh3/ALB8X/oIrp6ACiiigAooooAKKKKACiiigAooooAKKKKACiiigAooooAKoa3qiaPo1xfSDPlL8o9T0A/Or9c746tJbvwncCAFmiKybR3APNJ7CexwjRS6o5u9ZY3M8nOx+VQegFAsRbMJtLY2dwnKPF8oz7gdRU8EyzwJLGcqwyKezBVLMcADJJrz+aV7nl88r3ud14W1hta0OOeYAToxjmA/vDrWzXKfD6Fxoc9ywIS5uGdM916Zrq69CN2tT04ttJspaxqKaTpFxfS8rChbHqewrzB45tVkN3rLm4mk5EbHKRj0ArvvGtpLeeEb2OAbnCBwo74INcPbypPbpJGcqygiuevJqyRzYiTVkiv9gS3YTaafsdwnKPD8vPuB1rzT4f3k17+1ZNc3uFmdp9/YZ8o16sxCqSxwB1JrxnwhaDXv2lp4o5PJWR5iG256RmnhvenyydkTh5Su0fW/mx/31/OjzY/76/nXH/8ACAt/0Ej/AN+v/r0f8IC3/QSP/fr/AOvXr+ww3/P38Gdd5djsPNj/AL6/nR5sf99fzrj/APhAW/6CR/79f/Xo/wCEBb/oJH/v1/8AXo9hhv8An7+DC8ux2Hmx/wB9fzo82P8Avr+dcf8A8IC3/QSP/fr/AOvR/wAIC3/QSP8A36/+vR7DDf8AP38GF5djsPNj/vr+dHmx/wB9fzrj/wDhAW/6CR/79f8A16P+EBb/AKCR/wC/X/16PYYb/n7+DC8ux2Hmx/31/OjzY/76/nXH/wDCAt/0Ej/36/8Ar0f8IC3/AEEj/wB+v/r0eww3/P38GF5djsPNj/vr+dHmx/31/OuP/wCEBb/oJH/v1/8AXo/4QFv+gkf+/X/16PYYb/n7+DC8ux2Hmx/31/OjzY/76/nXH/8ACAt/0Ej/AN+v/r0f8IC3/QSP/fr/AOvR7DDf8/fwYXl2Ow82P++v50ebH/fX864//hAW/wCgkf8Av1/9ej/hAW/6CR/79f8A16PYYb/n7+DC8ux2Hmx/31/OjzY/76/nXH/8IC3/AEEj/wB+v/r0f8IC3/QSP/fr/wCvR7DDf8/fwYXl2Ow82P8Avr+dHmx/31/OuP8A+EBb/oJH/v1/9ej/AIQFv+gkf+/X/wBej2GG/wCfv4MLy7HYebH/AH1/OjzY/wC+v51x/wDwgLf9BI/9+v8A69H/AAgLf9BI/wDfr/69HsMN/wA/fwYXl2Ow82P++v50ebH/AH1/OuP/AOEBb/oJH/v1/wDXo/4QFv8AoJH/AL9f/Xo9hhv+fv4MLy7HYebH/fX86PNj/vr+dcf/AMIC3/QSP/fr/wCvR/wgLf8AQSP/AH6/+vR7DDf8/fwYXl2Ow82P++v50ebH/fX864//AIQFv+gkf+/X/wBej/hAW/6CR/79f/Xo9hhv+fv4MLy7HYebH/fX86PNj/vr+dcf/wAIC3/QSP8A36/+vR/wgLf9BI/9+v8A69HsMN/z9/BheXY7DzY/76/nR5sf99fzrj/+EBb/AKCR/wC/X/16P+EBb/oJH/v1/wDXo9hhv+fv4MLy7HYebH/fX86PNj/vr+dcf/wgLf8AQSP/AH6/+vR/wgLf9BI/9+v/AK9HsMN/z9/BheXY7DzY/wC+v50ebH/fX864/wD4QFv+gkf+/X/16P8AhAW/6CR/79f/AF6PYYb/AJ+/gwvLsdh5sf8AfX86PNj/AL6/nXH/APCAt/0Ej/36/wDr0f8ACAt/0Ej/AN+v/r0eww3/AD9/BheXY7DzY/76/nR5sf8AfX864/8A4QFv+gkf+/X/ANej/hAW/wCgkf8Av1/9ej2GG/5+/gwvLsdh5sf99fzpGlj2n516etch/wAIC3/QSP8A36/+vSN4Cbaf+Jien/PP/wCvR7DDf8/fwYXl2OI08g+JtTwQeF6fU1s1zHhzTTp3iLVEMvmZC84x3aunrw66SqNRd0fYYH/d4hRRRWJ2BRRRQAUUUUAFFFFABRRRQAUUUUAa2hffm+grLk/1jfU1qaF9+b6CsuT/AFjfU189gv8Aka4r0h+Rzw/jT+Q2iiivoToCiiigAooooAKKKKACiiigAooooAKreCGVfiDc5YDk9T/s1ZrnPD/h46r8QrvF15WWP8Of4frXVhYwlUtN2R5maX+rnuXmx/31/OjzY/76/nXH/wDCAt/0Ej/36/8Ar0f8IC3/AEEj/wB+v/r17HsMN/z9/Bny15djsPNj/vr+dHmx/wB9fzrj/wDhAW/6CR/79f8A16P+EBb/AKCR/wC/X/16PYYb/n7+DC8ux2Hmx/31/OjzY/76/nXH/wDCAt/0Ej/36/8Ar0f8IC3/AEEj/wB+v/r0eww3/P38GF5djsPNj/vr+dHmx/31/OuP/wCEBb/oJH/v1/8AXo/4QFv+gkf+/X/16PYYb/n7+DC8ux2Hmx/31/OjzY/76/nXH/8ACAt/0Ej/AN+v/r0f8IC3/QSP/fr/AOvR7DDf8/fwYXl2Ow82P++v50ebH/fX864//hAW/wCgkf8Av1/9ej/hAW/6CR/79f8A16PYYb/n7+DC8ux2Hmx/31/OjzY/76/nXH/8IC3/AEEj/wB+v/r0f8IC3/QSP/fr/wCvR7DDf8/fwYXl2Ow82P8Avr+dHmx/31/OuP8A+EBb/oJH/v1/9ej/AIQFv+gkf+/X/wBej2GG/wCfv4MLy7HYebH/AH1/OjzY/wC+v51x/wDwgLf9BI/9+v8A69H/AAgLf9BI/wDfr/69HsMN/wA/fwYXl2Ow82P++v50ebH/AH1/OuP/AOEBb/oJH/v1/wDXo/4QFv8AoJH/AL9f/Xo9hhv+fv4MLy7HYebH/fX86PNj/vr+dcf/AMIC3/QSP/fr/wCvR/wgLf8AQSP/AH6/+vR7DDf8/fwYXl2Ow82P++v50ebH/fX864//AIQFv+gkf+/X/wBej/hAW/6CR/79f/Xo9hhv+fv4MLy7HYebH/fX86PNj/vr+dcf/wAIC3/QSP8A36/+vR/wgLf9BI/9+v8A69HsMN/z9/BheXY7DzY/76/nR5sf99fzrj/+EBb/AKCR/wC/X/16P+EBb/oJH/v1/wDXo9hhv+fv4MLy7HYebH/fX86PNj/vr+dcf/wgLf8AQSP/AH6/+vR/wgLf9BI/9+v/AK9HsMN/z9/BheXY7DzY/wC+v50ebH/fX864/wD4QFv+gkf+/X/16P8AhAW/6CR/79f/AF6PYYb/AJ+/gwvLsdh5sf8AfX86PNj/AL6/nXH/APCAt/0Ej/36/wDr0f8ACAt/0Ej/AN+v/r0eww3/AD9/BheXY7DzY/76/nR5sf8AfX864/8A4QFv+gkf+/X/ANej/hAW/wCgkf8Av1/9ej2GG/5+/gwvLsdh5sf99fzo82P++v51x/8AwgLf9BI/9+v/AK9H/CAt/wBBI/8Afr/69HsMN/z9/BheXY7DzY/76/nR5sf99fzrj/8AhAW/6CR/79f/AF6P+EBb/oJH/v1/9ej2GG/5+/gwvLsdh5sf99fzo82P++v51x//AAgLf9BI/wDfr/69H/CAt/0Ej/36/wDr0eww3/P38GF5djm/2jHVvg7fBWUnzouh/wBoVu/Bb/kjPhr/AK9P/ZmrgPjr4TOlfC28ujemXbLGNuzGcsPeu/8Agt/yRnw1/wBen/szVy1YwjK0JXX3DV+ppeNNcuNNtYLPT223d4xVX/uKOpriBpdq2WuIxcSE5aSb5iT+NdH4+iaDVtNvXH7khoWbspPIrIrzq0nzWOLESlzWILa5n8O3CXunSOsCsPPt93yMvc47EVteKvEM2pXkemaZM0VuYVluJEOCwYcLntWFqThbCVOrSr5ajuSeBSy2Muj64ba7BDTW0TIT3IXBH4URlL2bFCcvZsYNKscc2sbH+8y5P51qeHdVuND1m2tGmeTTrp/LCO2fKY9Me1V6h2Ndatp9nCN0slwrcfwqOSainJ8yM6UpKasesUUDgCiu89MKKKKACiiigAooooAKKKKACiiigAooooAKKKKACiiigAooooA5CH/ksd1/2Bo//RrV19chD/yWO6/7A0f/AKNauvoAKKKKACiiigAooooAKyvFH/Io6t/15y/+gmtWsrxR/wAijq3/AF5y/wDoJoAzfhr/AMkx8O/9g+L/ANBFdPXMfDX/AJJj4d/7B8X/AKCK6egAooooAKKKKACiiigAooooAKKKKACiiigAooooAKKKKACkZQylWGQRgg0tFAHF6l4CcXUk+hXgtRIctBIu5M+3pUVp4AubiVTrl+skSnJggXaG+p613NFRyRvexHs4XvYZDDHbwpDAgSNBhVA4Ap9FFWWBAIIIyD1FcZqXgM/apLjQ7wWvmHLQSLuTPt6V2dFJpNWZMoqSszhbXwDd3Ei/23qCvCpyYbdNof6mvH/C0Edt+2JfQwIEjSSdVUdAPKNfTVfNHh3/AJPL1H/rtP8A+ijSUVHYIxUVZH0vRRRVFBRRRQAUUUUAFFFFABRRRQAUUUUAFFFFABRRRQAUUUUAFFFFABRRRQAUUUUAFFFFABRRRQAUUUUAFFFFABRRRQAUUUUAFFFFABRRRQAUjfdP0paRvun6UAeL2H/Izal9F/ma2Kx7D/kZtS+i/wAzWxXBU+Nn1+C/3eIUUUVmdYUUUUAFFFFABRRRQAUUUUAFFFFAGtoX35voKy5P9Y31Namhffm+grLk/wBY31r5/Bf8jXFekPyOeH8afyG0UUV9AdAUUUUAFFFFABRRRQAUUUUAFFFFABVfwP8A8lBufqf/AEGrFV/A/wDyUG5+p/8AQa2o/Gebmf8Au56zRRRXafLhRRRQAUUUUAFFFFABRRRQAUUUUAFFFFABRRRQAUUUUAFFFFABRRRQAUUUUAFFFFABRRRQAUUUUAFFFFABRRRQAUUUUAFFFFABRRRQAUUUUAeV/tG/8kcvv+u0X/oQrb+C3/JGfDX/AF6f+zNWJ+0b/wAkcvv+u0X/AKEK2/gt/wAkZ8Nf9en/ALM1AHYahp9tqdlJa3kYkikGCD/OuLm8B6pbtt03U43hz8q3CZZR9R1rvaKmUVLcmUIy3Rymi+CI7K9S+1S5N7cpzGNu1Iz6gVr67oFpr1mIrkFJEOY5U4ZD6itSimkkrIaikrI4BvA2trJsj1S3aL++8XzY+nSuh8PeFLbQmadpGuryQYad+w9AOwreopKEY7ImNOMXdIKKKKosKKKKACiiigAooooAKKKKACiiigAooooAKKKKACiiigAooooA5CH/AJLHdf8AYGj/APRrV19chD/yWO6/7A0f/o1q6+gAooooAKKKKACiiigArK8Uf8ijq3/XnL/6Ca1ayvFH/Io6t/15y/8AoJoAzfhr/wAkx8O/9g+L/wBBFdPXMfDX/kmPh3/sHxf+giunoAKKKKACiiigAooooAKKKKACiiigAooooAKKKKACiiigAooooAKKKKACiiigAooooAK+aPDv/J5eo/8AXaf/ANFGvpevmjw7/wAnl6j/ANdp/wD0UaAPpeiiigAooooAKKKKACiiigAooooAKKKKACiiigAooooAKKKKACiiigAooooAKKKKACiiigAooooAKKKKACiiigAooooAKKKKACiiigAooooAKRvun6UtI33T9KAPF7D/AJGbUvov8zWxWPYf8jNqX0X+ZrYrgqfGz6/Bf7vEKKKKzOsKKKKACiiigAooooAKKKKACiiigDW0L7830FZcn+sb61qaF9+b6CsuT/WN9a+fwX/I1xXpD8jnh/Gn8htFFFfQHQFFFFABRRRQAUUUUAFFFFABRRRQAVX8D/8AJQbn6n/0GrFV/A//ACUG5+p/9Braj8Z5uZ/7ues0UUV2ny4UUUUAFFFFABRRRQAUUUUAFFFFABRRRQAUUUUAFFFFABRRRQAUUUUAFFFFABRRRQAUUUUAFFFFABRRRQAUUUUAFFFFABRRRQAUUUUAFFFFAHlf7Rv/ACRy+/67Rf8AoQrb+C3/ACRnw1/16f8AszViftG/8kcvv+u0X/oQrb+C3/JGfDX/AF6f+zNQB3NFFFABRRRQAUUUUAFFFFABRRRQAUUUUAFFFFABRRRQAUUUUAFFFFABRRRQAUUUUAFFFFAHIQ/8ljuv+wNH/wCjWrr65CH/AJLHdf8AYGj/APRrV19ABRRRQAUUUUAFFFFABWV4o/5FHVv+vOX/ANBNatZXij/kUdW/685f/QTQBm/DX/kmPh3/ALB8X/oIrp65j4a/8kx8O/8AYPi/9BFdPQAUUUUAFFFFABRRRQAUUUUAFFFFABRRRQAUUUUAFFFFABRRRQAUUUUAFFFFABRRRQAV80eHf+Ty9R/67T/+ijX0vXE2fwr0Ox+JM3jaKa7OpzM7MjOPLyy7TxjPT3oA7aiiigAooooAKKKKACiiigAooooAKKKKACiiigAooooAKKKKACiiigAooooAKKKKACiiigAooooAKKKKACiiigAooooAKKKKACiiigAooooAKRvun6UtI33T9KAPF7D/AJGbUvov8zWxWPYf8jNqX0X+ZrYrgqfGz6/Bf7vEKKKKzOsKKKKACiiigAooooAKKKKACiiigDW0L7830FZcn+sb61qaF9+b6CsuT/WN9a+fwX/I1xXpD8jnh/Gn8htFFFfQHQFFFFABRRRQAUUUUAFFFFABRRRQAVX8D/8AJQbn6n/0GrFV/A//ACUG5+p/9Braj8Z5uZ/7ues0UUV2ny4UUUUAFFFFABRRRQAUUUUAFFFFABRRRQAUUUUAFFFFABRRRQAUUUUAFFFFABRRRQAUUUUAFFFFABRRRQAUUUUAFFFFABRRRQAUUUUAFFFFAHlf7Rv/ACRy+/67Rf8AoQrb+C3/ACRnw1/16f8AszVt+M/CGn+OPDcui6s8yW0rKzGFgGyDkckGrXhnw/aeFfDVlomnNI1tZR+XGZTliMk8n8aANSiiigAooooAKKKKACiiigAooooAKKKKACiiigAooooAKKKKACiiigAooooAKKKKACiiigDkIf8Aksd1/wBgaP8A9GtXX1yEP/JY7r/sDR/+jWrr6ACiiigAooooAKKKKACsrxR/yKOrf9ecv/oJrVrK8Uf8ijq3/XnL/wCgmgDN+Gv/ACTHw7/2D4v/AEEV09cx8Nf+SY+Hf+wfF/6CK6egAooooAKKKKACiiigAooooAKKKKACiiigAooooAKKzPEWv2Xhfw/dazqpdbS0TfIY13NjOOBWBq3xT8N6N4N0zxPeyXI07U3VLcrDlySCRkZ4+6aAOyoqhrWs2mg6Dd6vflxa2kRmkKLk7QOwrm/BHxV8M/EG8ubXw9PO01sgd1ni2ZBOMj1oA7OiivPofjZ4PuPGf/CMQXFzJqH2o2vywfuy4OD82emR1oA9BormPiD42g+H/hN9curOW8jSVIvKiYKx3d8mtrRtSXWdEs9SjjaJLqFZgjHJUMM4/WgC7RRRQAUVi+MPEsXhDwjf69cW73MdkgdooyAzZYDgn607wn4hj8V+FNP1yCB7eO+hEqxOQWQHsSKANiiiigAooooAKKKKACiiigAooooAKKK5/wAYeNdI8DaXFqGutMsEswhXyo953Hpx+FAHQUVzGr/EDRNE17Q9IvnnF1rhAswkeQckAbj2+8K6egAooooAKKKKACiiigAooooAKKKKACiiigAooooAKKKKACiiigAooooAKKKKACiiigAooooAKRvun6UtI33T9KAPF7D/AJGbUvov8zWxWPYf8jNqX0X+ZrYrgqfGz6/Bf7vEKKKKzOsKKKKACiiigAooooAKKKKACiiigDW0L7830FZcn+sb61qaF9+b6CsuT/WN9a+fwX/I1xXpD8jnh/Gn8htFFFfQHQFFFFABRRRQAUUUUAFFFFABRRRQAVX8D/8AJQbn6n/0GrFV/A//ACUG5+p/9Braj8Z5uZ/7ues0UUV2ny4UUUUAFFFFABRRRQAUUUUAFFFFABRRRQAUUUUAFFFFABRRRQAUUUUAFFFFABRRRQAUUUUAFFIzBFLHoBk1yeifErw/4g8P6prOnvcG00ouLkvFhhtGTgd+KAOtorK8M+I7DxZ4ft9Z0hpGtLgEoZF2twcdK5PTfjZ4O1TxiPDNvcXKag1w1sPMh2oZFJGN2e5GB68UAeg0UVwvjP4weFPAmsR6Zrs9wLp4xJtgh37QTgZ546UAd1RVfT76HU9Ntr61LGG5iWWPcMHawyMj8asUAFFFFABRRRQAUVxl/wDEe2sPipYeCG0+Z7i9gMy3QcbFGGOCOv8AB+tdnQAUUUUAFFFFABRRRQAUUUUAFFFFABRRXO6V440fWfE+r6DZPMb3RwDdBo8KM+h79KAOiornfB/jjR/HFnc3OhNM0drMYZPNj2HcPSuioAKKKKACiiigAooooAKKKKACiiigAooooAKKKKAOQh/5LHdf9gaP/wBGtXX1yEP/ACWO6/7A0f8A6NauvoAKKKKACiiigAooooAKyvFH/Io6t/15y/8AoJrVrK8Uf8ijq3/XnL/6CaAM34a/8kx8O/8AYPi/9BFdPXMfDX/kmPh3/sHxf+giunoAKKKKACiiigAooooAKKKKACiiigAooooAKKKKAOJ+MVpcX/wl122soJLieS3wkcSlmY7h0AryXx9oOrXP7OPgmxt9Mu5buC5iMsCQsXjGyTquMjqK+kKKAOP+KPHwh8Q5/wCgc/8AKvnP4fSP4DufA/jFBtsNUM2n3wX+I+a4DH8Cp/4BX0d8Vf8Akk/iT/rwk/lXk3hnwoPF37JsVrEv+l2xmurZh1DpIxx+IyPxoA9e+I3iiPwl8PdU1jeN6QlIMHrI3yrj8SK+Y/DvhyTQPiL8PpLpSLvUgl7MW6ne5K5/4Diugk8XTfGCHwJ4NUt5kbiTVh6mLjJ+qgn/AIFXRfEyJIP2kPBMUShUSOJVA7AO1AHqPxT8VWXg3wPJq2paVHq0Czxxm2kxgkk4PIPStiw1qJ/BMOtQ2oiiNkLlbdTjaNm7b/SvP/2lf+SOXH/X5D/M11Glf8kYt/8AsDD/ANFUAcRpX7QMviOwSPw14TvNR1d5GDWkUmViQdHd8YGTVvR/jdew+M7Xw5458LzaBcXjBIJjLvRienOORnjINU/2YbC3h+Hl7eJGonuL9w745IUDA/U1S/akiSLw94e1CMbbmHUdiSDqoKknn6qKAPVfHuu23hvwJqesXtiuoQWsYZ7Z8YkBYDHII75pfBmu2+u+AtO1mzsVsYLi285LZMYjHPHArB+NX/JEfEH/AF7J/wCjEp/wm/5IjoP/AGDh/I0Aclp/7Qo1f7RZ6P4Xu73V1uDFDZQybtyjq7Nj5RViy+N+oaZ4stNF+IHhWXw8t6dsN0Zt6Z9zjGM4HB4zWJ+zPYW4l8U3/lj7QbwRb8cheTj86uftSW0UvgLSpnQGRNTRFbHIDI2R+g/KgDWvPjBr+oSXM3gfwRd61plsxX7c0nlrNjqYxjLDjtXQ/DL4n2XxGsLrZaSafqNi+y5s5Tkr6EHuOD9K6rQtPt9K8P2NjZRiOC3t0jRQOgCgV4l8NQLX9pjxjbwAJE6OxUDAzuU/1NAHomrfEdNL+K2leCzp7SPqMRlF0JMBPvcbcc/d/Wu3Y4Un0FeGeLv+Ts/Cf/Xof5SV7k/+rb6GgDifhh8SE+JGm6hdx6c1iLK58gq0m/dwDnoPWsDxB8dbHw7451Lw3daRcTTWiL5Bgbc1zI2MIq4469fasH9lv/kWfEP/AGE//ZBVfRLG3u/2vdZluI1dre38yPcM7W2KM/kTQBpan8cPE/hsQX3ij4f3VhpMzgef5+5kB6ZGOD7HFbmqfF+e7vY7P4feHrjxNIYEmkmjfy4Yg43BSxGN2O1bXxgt4rr4R+IUnQOotGcA9ivIP5gVifs72MFp8GtNlhQB7mWWSRu7HeV/kooAXwL8YW8R+LZ/C3iTQ5tB1qNS6QyPuWTHJAOB25HY1S/aK0y+1TwNYw6bZz3ci6hGxSCMuQMHnArB+IKrbftR+D5oQEkmgUOw/i5cc/hXvVAHiHxC0jUbr4q/DC4trG4lhtXTz5EiJWL50+8e3TvXt9FFABRRRQAUUUUAFFFFABRRRQAUUUUAFFFFABRRRQAUUUUAFFFFABRRRQAUUUUAFFFFABRRRQAUjfdP0paRvun6UAeL2H/Izal9F/ma2Kx7D/kZtS+i/wAzWxXBU+Nn1+C/3eIUUUVmdYUUUUAFFFFABRRRQAUUUUAFFFFAGtoX35voKy5P9Y31rU0L7830FZcn+sb618/gv+RrivSH5HPD+NP5DaKKK+gOgKKKKACiiigAooooAKKKKACiiigAqv4H/wCSg3P1P/oNWKr+B/8AkoNz9T/6DW1H4zzcz/3c9ZooortPlwooooAKKKKACiiigAooooAKKKKACiiigAooooAKKKKACiiigAooooAKKKKACiiigAooooAZOM28gHJ2n+VeA/DLRNUtPhJ46trrTrqGe4e48qKSFlaTMfGARzX0DRQBwPwTsrnT/hJpFtfW8ttOivujlQqy/MeoNfMw0Wa51Lxtr+n7hfaBqovIynUKJn3flwfwr7Xr50+CFhDqnjj4jWF0oaC6nlikUjqrSSA/zoA9w8N+JLXXfBdjr6yKtvPbCZ2zwuB835EH8q+SvG8cvi/R/EXxCvAwWfV47KyU9FiCt/RV/X1roYvGN54J+HXiz4dys51NL77Jp6jr5cpO4j8Mke7ium+LfhiLwf8As26Jo8Y+eG8haZv70jK7MfzJ/CgD2vwjJ5Xw/wBGkwW26dCcDv8AuxXnsHxY8davGZ9C+Gl41sBkPd3HlFh7AgZrudC1W00P4W6bqepSiK1tdLillcjoojFefaV8V/HvjPzbrwR4Iik0sMViub25EfmAd+cD8s0AbngX4wJ4l8TSeGvEGi3Gga0qF0t7g5EuOTtyB259+a3/AIieMrzwL4dGs22jPqttG4FyI5drRKejYwcj19K8R8V3/i9/jR4Ju/F2j2ek3X2pY4mtJxIZELgEEg+5/M19LXVrBe2kttdxLLDMhSRHGQwIwQaAMnw54s0rxN4Vg8QafcKLKWLzHLkDysD5g3oR3rnPAnxO/wCE/wDEGpwaPpMg0iwcx/2k8nyyt2Crjv168DHrXzr4suJfBfi7Vvh54c8QpF4e1K6iFw75P2TcfmUt7A4PqAM96+qvBXhfTPCHhOz0nRQDbxoG80YJlY8lyfegDnNT8b6fZ/GvTPCkmhxy3t1bGVNRO3dGMOcdM/wnv3qf4ofEuL4a6dYXc2ntereT+TgSbNnGc9DXCeI/+TwPDn/YPP8A6BLUf7U6CXw1oKHo1+Qf++TQBt3Hxi8R6kk974M8CXmraTCTtvXk8vzwOpRcZI61Jpnx/wBH1Hwob2PTbptaFx9lGixjdM8mM8cfd6847V6dpVlb6fo1pZ2cSxW8MKpHGowFAHSvB/hZpNn/AMNL+NX8lSbQSPDkfcZnXJH5mgDbv/jj4h8NXlq/jPwJc6Xp1y4VblZ9+3PrxjOO2Qa9au9Wig8Oz6vAPOhjtWuUAON6hSw/OuE/aCgjm+CetNIoLRGF0JH3T5yDI/AmrfhqRpf2ebJ5CWY+HeSe/wC4oA0fhr47T4ieERrkdk1kDO8PlM+/7uOc4HrVf4l/EVPh1ptjdyae18Ly5EAVZNm3IJz0PpXLfsyf8kgX/r+m/pWd+07/AMixoP8A2E1/9BNAHp/jTxUvg/wTe+IXtTcraxq5hDbS2SB1/GvPrP446j4ks7f/AIQnwfdavdGIPdfvdkVux6IXIwTjBrd+Nn/JDta/64R/+hrS/AnTrfT/AIOaL9mjVWuEeaVgOXYueT68YH0FAGHoPx/sHutSsPGukz+HtRsIjKYHJfzcfwrwDuORgd6r6l8afFun6f8A2zL8ObyPRR8xmlmxIE/vFduQPrWN8RNKtLv9qPwgk8KOs0avICMhypbGfyFe6avbQ3eh3ttcIHhlgdHQ9CCpBFAFHwh4qsPGfhe01vSyfIuFyUb7yMOCp9wa848B6Xf23xu+Id3cWU8VvcqvkyvGQsnJ+6eh/Cqv7LMjt8NNRRmJVNVkCg9v3cde2UAePfs8aXf6X4f1tNSs57RpNRZkWeMoWGByM9q9hoooAKKKKACiiigAooooAKKKKACiiigAooooAKKKKAOQh/5LHdf9gaP/ANGtXX1yEP8AyWO6/wCwNH/6NauvoAKKKKACiiigAooooAKyvFH/ACKOrf8AXnL/AOgmtWsrxR/yKOrf9ecv/oJoAzfhr/yTHw7/ANg+L/0EV09cx8Nf+SY+Hf8AsHxf+giunoAKKKKACiiigAooooAKKKKACiiigAooooAKKKKACiiigDk/ijG83wr8RRxIzu1jIFVRkk4rA+ANrJD8GdMguomjbdMGR1wcGRuxr0sgEYIyKQKFGFAA9hQBxfhT4UeGPBviS71vRbeVLy6VlYySbggZskKO1ed/E2zuZv2jvB08VvI8SLHudUJVfnbqa95pCqk5Kgn1xQB5X+0bbTXXwhnjtonmf7ZCdqKSep7Cum0uKQfB23iKMJP7IA2kc58rpiuuKhhhgCPQilwMYxx6UAeR/s3W09r8MpkuYZIX+3yHa6kHGF9azf2n7S4u/BuirawSTMupAkRqWIHlt6V7aFC/dAH0FDKrfeUH6igDhPjLDJP8F9fihjaSRrZAEUZJ+de1P+FUMkPwW0KKWNkkXTwCjDBBwe1dwQCMEAj0NAAAwAAPSgDxP9m+0uLWz8TfaYJId2oZXepGRz61Y/aYtbi7+H+mpawyTMNUjJWNSxA2PzxXsgVV+6APoKCob7wB+ooAitBiyhB6+Wv8q8Q8AWdzF+014snkgkWF4n2yFCFPK9DXutIFUNkKAfXFAHiHxq07VvD3jzw78QtHsJL6HTAUvI41JITJ5OOgwWGauSfHSHxdYtpfw90fUbzWrhNgM0OyK2zwXdgTwK9jKhlwwBB6gimR28MOfJhjjz12qBmgDxH9l6zurLwrrqXsEkLnUM4dSM/IOeaf4dtLhf2rvEFw0Egha0wJCp2nhO9e3Kqr91QPoKNq7s7Rn1xQByXxUieb4V+IY4kZ3aykAVRknisn4DwS23wa0aK4jaKRfNyrrgj963avRCARgjIpAAowoAHtQB4d8RbS5l/aU8GzxwSPEkK7pFQlV+Z+pr3KkKqTkqCfXFLQAUUUUAFFFFABRRRQAUUUUAFFFFABRRRQAUUUUAFFFFABRRRQAUUUUAFFFFABRRRQAUUUUAFFFFABSN90/SloPNAHhn9owab4jv2utwEmAu1c9Catf8JPp396X/v2a9Qfwnosjl3sULMck5NJ/wAIhof/AD4J+ZrCVFSd7nq0cylSgoKOx5h/wk+nf3pf+/Zo/wCEn07+9L/37Nen/wDCIaH/AM+CfmaP+EQ0P/nwT8zS9gu5p/a0/wCU8w/4SfTv70v/AH7NH/CT6d/el/79mvT/APhEND/58E/M0f8ACIaH/wA+CfmaPYLuH9rT/lPMP+En07+9L/37NH/CT6d/el/79mvT/wDhEND/AOfBPzNH/CIaH/z4J+Zo9gu4f2tP+U8w/wCEn07+9L/37NH/AAk+nf3pf+/Zr0//AIRDQ/8AnwT8zR/wiGh/8+CfmaPYLuH9rT/lPMP+En07+9L/AN+zR/wk+nf3pf8Av2a9P/4RDQ/+fBPzNH/CIaH/AM+CfmaPYLuH9rT/AJTzD/hJ9O/vS/8Afs0f8JPp396X/v2a9P8A+EQ0P/nwT8zR/wAIhof/AD4J+Zo9gu4f2tP+U5HwpqttqMlyLYsdigncuKwZvEunLM6lpMhiD+7Neq2mgaZYlja2qxlxhsE81XbwjojMSbBCTyeTXlYfLJ0sdWxEn7s+W3fRdSVmclJyUdWeX/8ACT6d/el/79mj/hJ9O/vS/wDfs16f/wAIhof/AD4J+Zo/4RDQ/wDnwT8zXq+wXcr+1p/ynmH/AAk+nf3pf+/Zo/4SfTv70v8A37Nen/8ACIaH/wA+CfmaP+EQ0P8A58E/M0ewXcP7Wn/KeYf8JPp396X/AL9mj/hJ9O/vS/8Afs16f/wiGh/8+CfmaP8AhEND/wCfBPzNHsF3D+1p/wAp5h/wk+nf3pf+/Zo/4SfTv70v/fs16f8A8Ihof/Pgn5mj/hEND/58E/M0ewXcP7Wn/KeYf8JPp396X/v2aP8AhJ9O/vS/9+zXp/8AwiGh/wDPgn5mj/hEND/58E/M0ewXcP7Wn/KeYf8ACT6d/el/79mj/hJ9O/vS/wDfs16f/wAIhof/AD4J+Zo/4RDQ/wDnwT8zR7Bdw/taf8p5h/wk+nf3pf8Av2aufD+dLnxxNPFnY+SuRj+GvQ/+EQ0P/nwT8zViy8PaXp9yJ7O1WKUDAYE1UKSi7mGIx8q8ORo0qKKK2PNCiiigAooooAKKKKACiiigAooooAKKKKACiiigAooooAKKKKACiiigAooooAKKKKACiiigAooooAK8E+Atnc23xI8dPcW8sSSXbFGdCA371+le90gRVJKqBnrgUAcVq/wm8L6345g8V31tIdSheN/lfCOU+6WXv0A/CuW/aWtZ7r4WwR2sMkzjUYjtjUk42v6V6/SMoYYYAj3FAHn+r+HbzxJ8ARolkNt3caRCsatxlgqnafTOMV5x8PPjVpvgPwlb+FfGOkajZalpmYQkdvu80ZyOCQQefp719EAY6VE1tA8gd4Y2cdGKAmgD5i8Rah4o8YfGDwlr+o6JcadpbXkaWMEiHzBGHBMjjHGc/p+J9f8Ai946vfCnh9LHw9azXeuakfJtliQt5QPBc/nx716FsXj5Rx046UFFY5ZQT7igDx7wz8CdOHwxu9K8SfvdZ1Ui4urz7zxS8lcE9dpJz65NHwc8Q61ol/dfD3xjDKLvTiRY3ZUlJoh0XPsMEe30r2Kk2Lu3bRn1xQB4j4htLhv2tvD1ysEhgWwIaQKdoOyXvSftNWlxd6DoAtYJJit/kiNC2Bt9q9v2ruztGfXFDKrfeUH6igBlvxaxZ/uD+VeI/DCzuYf2jPHk8sEiRSIdjspCt869DXuVIFUMSFAJ6nFAHnvx3glufgtrsVvG0sjCHCIuSf3ydq0PAentd/BTRdOnDRNPo0cDgjBXdFjp+NdkQGGGAI9DSgADAGBQB81fDzx6fgn/AGh4Q8d6ZewwpcNLaXMEW9ZAeD6ZBwCCKzvi/wCJNe+IdtpGpafod3aeHYLoLbtPGRLcuwyX2jOFAGAff8vqKS3hmx50UcmOm5Qad5aYA2rgdBjpQBwHxngln+CmsxQRtJIYI8IoyT869qtfByGSD4Q6BHMjRutucqwwR8x7V2xAIwQCPSlAAGAMD2oA8Q8c2lxJ+094NnjgkaFIfmkCkqvL9TXtF8M6fcAcny2/lUxVSwJUEjocUtAHi37MFpcWnw71JLqCSFzqjkLIpUkeXHzzXtNIqqv3QB9BS0AFFFFABRRRQAUUUUAFFFFABRRRQAUUUUAFFFFABRRRQByEP/JY7r/sDR/+jWrr65CH/ksd1/2Bo/8A0a1dfQAUUUUAFFFFABRRRQAVleKP+RR1b/rzl/8AQTWrWV4o/wCRR1b/AK85f/QTQBm/DX/kmPh3/sHxf+giunrmPhr/AMkx8O/9g+L/ANBFdPQAUUUUAFFFFABRRRQAUUUUAFFFFABRRRQAVzniHxrYeHdd0jR5oZ7m+1aUxwQ24BIA6s2SMKPWujrxjwBdHxp8dvFHiG4/eQaOo0+yz0jGfmI9yVJz7mgD2YsFXLHAAySe1cDrnxu8CaDfPZ3OtLPcRnDpaxtLsPuQMfrXP/tCeKNS0zw9pvh7Q3aK71648gyKcEJwCB6ZLDn0zXX+B/hr4e8GeH4LOzsIJrgoPtF1LGGeZu5JPb27UAXfC3j/AMM+M0Y+HdWhu5EGXh5WRfqrAH8a3bu7t7Czlur2ZILeFS8ksjYVAOpJ7V4Z8b/CMHg9bP4geDkGl6jZXKi5+zjasqnjJXp14PqDzXremzWPjrwHbTX0AlstWs1aWHcQCrryMg5oAw2+NHgD+04bCLxHbz3E0ixoIUdwWJwBuAx1PrXdV84/Gbwd4e8Ja74Dj8OaTbaeJNTxIYV+Z8PHjcx5PXvX0cOlABRRRQAUUUUAc94h8feFvCknleIdctLGbbvEMj5cj1CjJNO8KeOPD/ja3nn8NX4vI7dgkjCNk2k8/wAQFV9c+HnhPX9WbWNa0S2vr5YvLEk+5gFGcDaTt7+leafs2RpDH4sjiUIialhVUYAHPFAHuVFFFAHBan8a/AWj6pc6dqGuCK6tpDHLH9nlO1gcEZC4q74a+Kng/wAX6wNM8P6sLq7MbSeX5Mi/KOpyygd68W8La54I0T4qePn8eGz2yX4FsLm3MvR5N2AAcds17R4LvPAOsSve+CRpTzRrtd7WIJIoPYjAIFAHY1l6L4isNfa+GnOzGwuntZ9y4xIvUD1HvXJfEu5t9JktdWh8UT6NqsSGO2tkXzlu8nOww4JbnuMEeteQ+BfEGp6je6vp3inV5vClhfanLJPLBCVaeZj80XmnIjx+B96APoXxR4u0Xwbpsd/4ivBaW0kgiVyjNliCcYUE9jWvBNHcW8c8Lbo5FDKfUGvEf2k4ooPhVo8VvI0sSX0So7PvLARtglj1+tdR8RvF9x4L+C41CwO29lt4re3bH3WYAbvwGT9cUAa/if4seDfCN2bTWNYjF2o5t4VaRx9QoOPxpfC/xW8HeL7oWuj6xE12eltMpjkP0DAZ/DNc58G/htpej+D7PWtWtY77XNTjFzcXVyu913DIQZ6Y7+ppnxl+Gul6t4Uute0i1Sx1zTI/tEN1bDy2YJ8xBx14HB6igD1SaZLeCSaU7Y41LMfQDk155/wvv4c5I/4SAcHH/HtL/wDE0/4e+K5/GXwWTVb5/Mu/sssM74xvdAQWx79a5X9nLR9Mv/hjLJfWFtcP9vmG6WJWOOOMmgD0/wANeNvDni+N38Oavb32z76Rkhl+qnBH5VJ4t8TQeEPDdzrV5a3Fzb22DKtsoLKucbsEjgV4dr2nWHhf9qPw3D4MiS1a8C/b7e2+5hiQ2V6D5RnHtmvoLUrC31TS7mxvEEkFxG0cinupGDQAthfW2p6db31jKs1tcRiSKRTkMpGQasV5D+z7q1yNB1jwrqMm648PXz26j0Qk4/UNXr1ABRRRQAUUUUAFFFFABRRRQAUUUUAFFFFABRRRQAUUUUAFFFFABRRRQAUUUUAFFFFABRRRQAUUUUAFFFFABRRRQAUUUUAcv4p+I/hbwXewWniTUxZzXC741MTtkZxn5Qa6SCeO5t454HDxSKHRh0YHkGvnn48aIniP4v8AhjSJDgXds8YPoTnH64rvvgX4gn1L4fjS9TY/2hoUzWM6t1VU4XP4cfhQB0viv4jeFvBNxbweJdUWzluFLxp5buSB3+UHH410NpdQ31lBd2r74Z41kjbGNysMg/ka+S/ilu8bS+LvGLktZaXdQaZYNn5WIYhyPyz/AMCr6X0bVLPRfhppupalMsFrbaXDJLIx4UCMUAdHRXjEHxY8e+J1e/8AAvgP7VpAYiO4vJgjTAHqBkf1rrvh38SofGzXun31hJpOuaccXVhMeQP7y+1AHc1z/jXxjYeBfDj6zqsU8tukioVgALZY4HUiuU8dfFW80bxNF4W8GaM2va86b5It2EhX/aPr+grzT4ueO/EV54Bm0Lx14abRL+aaOS1kikEkUwVhuGQTgjrQB7zqviyy0jwTJ4nuIpms47dbgogBfaccYzjPPrVrw7rlv4l8O2Os2SSR297CssaygBgD64rmdU1aHQvgkup3NlFfxW2mxu1tMPlkG0cGtPwlrsd/8NbDW7XTlt0ex+0JZW44X5c7F/lQB01FePyeP/ixeA3WlfDhEtCMqt1cgSEfTcP5V1Pw5+I8PjmG8tbuxk0vWdOfZeWMvVD6j1HB/wA4oA7eivMPGXxhXwf8QovDk+lvdrLZiaIwkmSWQkhY1X3I61h6n8XfHvhfy9U8WeAxaaG7gPLFOHkjB6ZwSAfrigD2uiq+n39vqmm21/ZSCS3uYllicfxKwyD+RqxQAUUUUAFFFFABRRRQAUUUUAFFFFABRRRQAUUUUAFFFFABRRRQAUUUUAFFFFABRRRQAUUUUAFFFFABRRRQAUUUUAFc3r3jfT9C8S6RoDw3F3qOquRFDbqCUUdXbJGFHPPsa6MnCk+grxf4YM/i/wCMni/xVeAuli40+yDf8s1BOcfgP/HqAPaGZUQs5CqoySewrz7WPjl4C0a9a0m1pbiZG2uLWNpAp92Ax+tc7+0F4nv7PTdI8LaNO0FxrtyIZpE+8IsgYH1J59h713XhD4deHPB2iRWOn6bbs4QCa4kQM8zY5Yk/y6CgCz4X8eeGvGUTN4c1aC8ZBl4hlXT6qcGtPWNZ0/w/pU2pazdR2lnAAZJpOi5OB+prxL40eFIPAVxYfEPwbEunXlrdIt3FCNsc6se6jjnofXNexxR6b4y8J2r6haRXVjfwRTtBMu5TkBgCO+Dj8qAOLP7QXw7F0If7YcqTjzvs0mwf+O5/Su/0jWdO17TY7/RryG8tJRlJYW3Ka5/U7PwDZ6TPZapDokNnGpWWFxGAo9MdRXnP7OFtNE/imWwWVfD8l9/xL/MzggFuRn220Ae50UUUAFFeafHXXdU8P+BrS60W+msp21GGNpIWwSpzkfSvRLJ2ksYHc5Zo1JJ78UAT0UUUAcr4g+Jvg7wvdSWuua/aW1zFjfb7i8i5GRlVBPQ1qeG/E+k+LtIXU9AuhdWbOUEgRl5HXggGuZ8ZfDvwlc2Oua9daFa3GqS2ru1xMC53KmAQCSBgAdAKwv2buPhJFj/n7m/nQB6zSMwVSx6AZNLUc/8Ax7yf7h/lQB5/N8d/h3bzyQy6+FeNirD7NLwR/wABrd8KfEbwx42ubiDw1qQvJLZA8q+U6bQTgfeArwr4U+JPhzouj6xD44On/bn1eZo/tNqZW8vagHIU4GQ3617x4Pfwfe2r6h4KXTWik+WSWyRVJx2bAz+dAHRswRSx6KMms3w/r9j4m0SHVdKdntZs7GddpODg8fhXn3xH1D/hHdabUdB8SXCa3cRhBoe0zx3YA4Gwcof9oEVwPwn1WfVtH0rRvE3iC48P2UUhe0s4EMP28788zfXjaCDQB7xrvi/RPDV7p9prN4LebUpRDarsZvMfIGOAcdR1rayMZPSvEvjr/wAjr8Psf9BRf/Q0rW+P/iu+0DwNb6ZosjR3+szi1R1OGVMfNg+p4H40Abev/GnwL4dvXs7zWkmuYzh4rZGlKH3IGB9M1q+FfiL4W8aMyeHtXhuZkGWgIKSKPXawBx71n/D/AOGWgeDPD1vDFYwXF88YN1dyoGeVzyeT0HoK4X44+C7bw/psPj3wjEul6vpk6PNLbDaJEJx8y9DyR25HBzQB7JrGr2Wg6Rc6nqk3kWlqm+WTaTtHrgc1ww+Pnw4P/Mwr9fs0v/xNV/F+vDxP+zffa0FCm90sSso7E4yPzqP4L6Bo9/8ABnRGv9Ms7hpIX3tLCrFvnbrkUAd74f8AFGi+KbE3fh7UoL+AHDNC2dp9COoP1ql4w8aWHgm1s7vV4bg2lzcrbvcRKCsBY8M/OQvuM15B4LtLXw9+1LqmkeEgI9Iks2e7t4mzHE+3PTthsfTcRXsHj3w7F4q8C6rpEqgtPbt5RP8ADIBlD+eKAN9HWSNXjYMrAFSOhFOrzf4EeJJvEfwttPtjl7nT5GspSf8AYxt/8dK16RQAUUUUAFFFFABRRRQAUUUUAFFFFABRRRQByEP/ACWO6/7A0f8A6NauvrkIf+Sx3X/YGj/9GtXX0AFFFFABRRRQAUUUUAFZXij/AJFHVv8Arzl/9BNatZXij/kUdW/685f/AEE0AZvw1/5Jj4d/7B8X/oIrp65j4a/8kx8O/wDYPi/9BFdPQAUUUUAFFFFABRRRQAUUUUAFFFFABRRRQAjcqcdcV4h+zl+7uvG8UgxMurfMD16vXuFeOaJbL4C/aH1Gzl/d6f4qh+0WjfwidfvJ9Sdx/ECgDM/aJP8AZ/iDwVrM4ItLW+IlfHC/MrfyB/Kvc4ZFlt45I2DIyggg5BFY3jDwlpvjbw1caNrEe6GYZVx96Jx0ZT2Iry3TNI+MngC0GkaL/ZfiTTIRtt5LolZI1HQfeHHtzQBtftF6jDZ/CG9tZCPNvpY4YlzySHDcfgtdZ8NLGbTfhh4es7lSssVhEHU9jtrxbwdDe/Fr4lSr8T75ILrQ3zFoCxmNGIP3uScj8STx2r6G1MXi6PcjSdgvBCwt94+UPj5c+2aAPF/2if8AkYvh/wD9hQ/+hRV7mOlfOPivwF8ZPGV3pdxrR0hpNLm8+28tguGyDz6/dFep/D8fEYXt3/wsFtPNvsX7P9kAB3Z5z+FAHd1wfjrVviLYatBH4G0Ow1GzaHMslzJtZXyeB8w4xiu8ooA5PwFqHjPULK7bx5pVpp06yAW62r7g645J+Y966yiigBk3+pf/AHT/ACrxL9nDr4v/AOwmf611/wAQF+Jj6vCPALacLA2+JvtYBbzNxzj2xtrzTwj4E+Mngtr7+xTpCi/m86fzGDZb29KAPoyisPV7fWrvwPcW9nMsOtSWhVZEbaFm29Qe3NZ/w603xJpfgmK08Y3hu9WDuXmMm/gn5eaALDfDvwfJeXF3P4b02e4uZGkmlmt1kZ2PJOWzXj/jnQNP+Gfxl8Har4NiXThqtz9mu7SHhHQugOF7ZDfmBW20vx50dmt7eDRdXiDEJPLw2Pf5lqTwr8MvFet+PLXxh8Ub63nnsRmzsIOUibOQ3oMHn1zj0oA9Yk0jTp9Vi1Sayhe+ijMcdwyAuik5IB7Vz+g+A7XTrTXbTVTDqdtrF/LdvDJD8qhz9wgk5x68V1tFAHiH7TFtDZ/DDSra1jWKGK/jSONBgKoRgAKl+O9lNdfAmynhUsto9vLJjsuNufzIrovjb4I1bx54QtNO0IRGeK8WZvNfaNoVh1/Gu1GjQXvhddH1WFJoZLYQTxtyGG3BoAo+AtSg1b4f6Je2rBo5bOPGD0IXBH4EU34hajBpfw7125unCxixlTJ7llKgfmRXmdl4J+JPwyuJ7X4fXNlrOhSSGSKy1AkNBnsDkfmDg+lcnqN/4p+InxHtvBXxRvYfDtopWYWNspCXh6hd+SCeO569s0Adz8DbGay/Z/YzqV88XMqZ7qcgH9K4v4KfD268T+Apb638Ya9o4+2Sx/Z7C62RZGPmx6819Cf2Pb2XhltI0qFIIEtjBBGvAUbcCuR+DXgzU/Avgh9K1oxG4a7kmHlNuG1sY/lQB5r4FsE+Fnxuk0TxXFHfT6uCdP1yXJkfP8JJPBJ4PfOOxr6KPSvPPi/8PJ/Hfh63bR3SDWtPmWW0mY4xzyue3Y/UCugn1u48NfDs6t4m8tbqxst90EbKtIF5wfc/zoA8z+DYaT4y/EeaI/6OLzacdC29/wDA17fXl3wF8OXGk+BZNX1IN9u12dr6Vn+8VP3c/Uc/jXqNABRRRQAUUUUAFFFFABRRRQAUUUUAFFFFABRRRQAUUUUAFFFFABRRRQAUUUUAFFFU9W1GHR9GvNRujiG0heZyPRRk/wAqAMvxX458O+CrVJ/EepR2nmZ8uM5Z3x1wo5ri7f8AaL8AzXPlSXl1AhOBLJbMFP5Vwvwg8Nr8WPFGr+O/G8K38Uc/kWltN80akfNjB/hUMMD1Jr3K+8F+GtS077Be6HYS2wUqsZt1wg/2eOPwoA0NJ1fT9c02K/0i7iu7WYZSWJsg/wCfSodc8RaT4asPtuvX8Njb7tokmbAJ64HqeK8G8JyT/CH4/SeDIrh5NA1gCS3ic58otnafrldp9Rg17h4n8IaL4xtILXxFZreW8EvmpGxIG7BHOOvBNAHO6b8afA2sa9b6RpmsfaLu5kEcQSF9rMfcjFd7XzT4u8O6R4Z/aY8H2Wg6fBYWxWFzHCuAW8x+T78CvpagAooooAKKKKAPDPiZ/wAnGeBf8/xGsX4javefCj4ka5daYjJaeKtObZsHC3QBG4e+Wz/wKu/8aeA9Y1z4veGPEdisJsdM/wBeWfDdSeB3rv8AUtD0rWGgbVtNtb1rdt0JuIVfyzxyuRx0H5UAeC+O/C3/AAiP7Kdtp8qbbl5oJ7nPXzHbcQfpnH4VrfGieeH9mnSVgZlWVLJJcd18vOD+IFdx8YvCOpeNfh1Po2iCM3TzxOokbaMKcnmtW58H2uufDaDwvr0YZDYxQS7T9x1UDcp9QRkUAefeHZ/i9beG9Oh0nS/DYsktoxB87/c2jHf0qXwf4P8AHSfGCTxf4nt9Ntknsmtp1snPz9CDg+6j8qqaXpHxj8A2o0bRF0vxFpcPy20tyxWRF7D7w4H412PgeP4j3GtTX3jyXTbez8gpFY2SnhyykOSSegBHXvQBxvwhVbj42/Ea7vQDfJciKMt1EW9v0+VKv/tKwW0nwtWWdVMsV5GYSeoJyDj8Kd4x8AeKdH8fP42+Gclsb27j8u/sbrhJunOcj0HGRyOtc74y8BfFH4l6KG8RnTrBrZ1a1062chWbPzO7EnoOgoA7Hxx/ybfd/wDYJj/ktTeDfEFv4V/Z70rWrtS8VnpaSFAeWO3gfia1PE3hfUNV+D0/hu1Ef2+SwS3AZsLuAGefwqDT/Act18FLfwbrDrFP/Z4t5HQ7gjgcEeuDigDlvDl98WvHWkw67aajo2hWF2N9vA8DSPs7E/X61kfDmLV7L9pDX7bXb+3vr3+z18+a2j2I5wmOPUVZ8P6d8avCukReGtPtNFurO2HlW+oTMSUTtxuGcduK0fh58L/EPhX4qahr+sXqahFeWuJLkt8zzNgt8vZQcge2KAKmsW0Vx+11o/nIH8rSTImR0Yb8H9a7f4xIsnwe8Sb1BxZMRnsRis688E6tP8fbLxcgi/syDTjbuS/z7/m7enIro/iDol34k+H2s6PpwU3V5atFFvOBuPqaAKfwndn+Enhsscn7Cg/LiuvrnvAOi3Xh3wDo+kagFFzZ2yxS7DkZHoa6GgAooooAK5Pxb8TfCngmRYte1SOK4YZFvGC8hHrgdPxqx8QfEreEfAWq6zGAZreA+SG6bzwv6kV5R8Dfh1Z6/pMnjjxpCuranqUrNF9rUOqKDjdg9yfyAGKAOs079oTwFf3SwSX89mWOFe5gZVP49q9LtrmG8to7i1lSaGRQySI2VYHoQa5/xF8P/DHifS5LLVNHtXVo9iSrEFeL0KtjIxXkfwN1TUvCnxE134batcNLBab5rPzG+7gjhfZlYNj2NAHqvjD4l+GPAs0UHiK/8ieZPMjiWNnZlzjPA9RXL2X7RPgG7uhDJfXFqGOBJPbsF/MZrvNU8KaBrd/He6zo9nfXEUflpJcwhyq5zgZ965X4ieEfBK+A9Vk1XS9NtY4rZ2SdYkR42x8u0jnOccd6AO7tLy3v7OK6spknglUNHJG2VYHuDU1eO/syHUT8K5Pt/meQL6QWnmZ/1e1fu+27d+Oa9ioAKKKKACiiigAooooAKKKKACiiigAooooAKKKKACiiigAooooAKKKKACiiigBsv+pfHXaa8b/Zx/d6L4nt5jm6j1qXzT3+6o/mDXsxGRg14x4SgbwF+0Brei3A8ux8SR/bLE9FLgksv1HzfpQBmfH1X03x94I1yVc2sV2I3Y9Ad6nn8K95RldAyEMrDII71g+NPB2m+OfDM+j6umUf5opQPmhcdGHv/TIrzGwsvjV4IshpemppXiSxgXbBPcsRIFHQHLD9c/WgDS/aTv4bb4Sy2rsPOu7qJIk7sQcn9BXf+CrKXTvAui2lwCssVlErqeoOwZFeF+AIrr4sfEiS8+JOoqt/oUmYdA8oxqjA/ewc5AIGRyTxnivbPHNp4mufDgXwRdw2mpxTK6mcZR0Gcqfrx+VAHP8AiL4HeC/Et5d3l5ZTRXl25kkuIpmDbj3weP0rnvgx4i1W18W+IfAWr3Zv00Q/6JcFQD5YO3acexX9aglvfj9cxtZ/2foVtuG37Wh5HuMuf5V1Pwq+GcngWC+v9Xvv7R1zVJPMu7gA4HJO0Z5PJJJoA9DrlPH2keLdY0y1i8D63Bo90kxaaSddwdMdPunvXV0UAfLvxb8M/EvTPCdvN4u8W2ep2TXsapDDGQRIc7W+4OBzXbWngr41NaQtH4/05UKAqphPAx/1zrr/AIv+ENT8a+EbbTtGEZnjvop28x9o2rnP867i0jaGzhjf7yIFP5UARaXDd2+j2cOpTLcXkcCLPMowJJAo3MPqcmrVFFAGR4s/5E7V/wDrzl/9BNee/s3f8kli/wCvub+dP8fWXxY1DWtRs/CzaX/YVxGI4xOB5mCgD5P+9urlvAvhD4xeCrG30mwOkrpqz+ZIHIZsE/Ng0Ae/0hAZSDyCMGub8e2Gv6n4Ku7XwpdG11Z1XyZQ+zacjPP0zTtL0/X4/hzFYXd5/wAT4WJja5Zt2JtpwxPfnFAESfDTwVHG6DwtpTCQkuXtVZmJ9SQSa8is9Ng+G37T1jpHhctBpes2u64slbKrw+MD0BUEfjW19s+Ptkn2VbDQ73sLluD9fvD+Vafw7+F2s2Pi+fxr8QNQTUNelQpCkfK2wIwcfgSABwMn1oA9I/sPTU1G51GGygS/uYxHLchBvZQOAT6VheGfAFhpHgiz8O6wlvq0dq5kDSwAAtu3A7STgj611tFAHiXx1GPGvw+A6DVF/wDQ0qL9pGN7W38Kay6k2tlqAEpHbOGH6Ia6n4oeB9X8WeJfCd7pQiMWlXwnuPMfadoZTx69DXZeJ/DWn+LvDV1omsRl7a5Ta2OGU9QwPYg0AaNnPHdWME8DB45I1dWU5BBGRXnfx/1GCx+DmrQzMA95sgiHq28H+QNc1pmg/F/4eW/9k+HZNN8R6TFxb/ayVkiXsv3hj6ZPtXM+HP7U+LPxQfS/ineR2b6K3mxaFGhRJmHfknd19SSOnGaAOvlsZdO/ZHNvcqVkGjhmU9snP9awfhp8Lr7xF8KtMvbbxx4h037TC221guiII/mIwF9Pxr2Dx5oFx4g+Huq6JpYjWe6tjFCGOFB4/KoPhl4cvfCfw60rRdT2farWNlk8s5XJYng/jQB5j8E1h8D+OtZ8D69Zwx62376HUFzm9j5PU+3IH19K92mIELk9NpzXmfxS+Hmra/4g0PxP4Qkih1nTJhv81tolj64J/MfRjW18T/FLeF/hfqF/J+6vZoPIhRWyRM42jHrgnP4UAcf+zcd/hjxFLH/qJNamMf0wv9CK9lrifhF4Ubwf8NdOsLhNl1KpuLjI53vzg/QYH4V21ABRRRQAUUUUAFFFFABRRRQAUUUUAFFFFAHIQ/8AJY7r/sDR/wDo1q6+uQh/5LHdf9gaP/0a1dfQAUUUUAFFFFABRRRQAVleKP8AkUdW/wCvOX/0E1q1leKP+RR1b/rzl/8AQTQBm/DX/kmPh3/sHxf+giunrmPhr/yTHw7/ANg+L/0EV09ABRRRQAUUUUAFFFFABRRRQAUUUUAFFFFABVDUdD0zV57WbU7GG5ls5PNt3kXJif1U9jV+igAooooAyZvCuhXGvR63NpVq2pxABLvyx5gx7/jWtRRQAUUUUAFFFFABRRRQAUUUUAFFFFABRRRQAUUUUAFFFFABWTrHhXQtfuIJ9Z0q1vZrY5hkmjBaM+x7dK1qKAAAAADoKKKKACqWq6Pp+uae1jq9pFeWrkFoZl3KSOmRV2igBERY41SNQqqMBQMACloooAKKKKACiiigAooooAKKKKACiiigAooooAKKKKACiiigAooooAKKKKACiiigArlfidBLcfC3xFHb58w2EhGPYZP6CuqpksSTwvFKoZHUqykZBBoA8g/ZkuIZfhS8cWA8N/IsnucKc/kRXsVfN9vb69+z944v5bbS7nVfCWpNvzbgs0OCcZ9CAcc4BHf06vU/2m/Blvphl06K/u7xl+S3NuUw3ux4/LNAHM/Fki7/AGlPCVraj/SEWBmI9PMJ/oa+i68M+E3g3W/Enje5+JnjeFobmcEafauMeWpGA2OwCnA/E16j438Z2XgXQP7W1K2urmHzVi2WqBnyc84JHHFAHjvxK/5Oo8H/APXKD/0Y9fQlfI/i74mafr3xo0HxdaaZqaWOmpGssckAEjbWYnAzj+L1r6A8BfFTSviDeXVvpdhqFq1qgdjdxBAQTjjBNAHcUUUUAFFFFABRRRQAUUUUAFFFFABRRRQAUUUUAFFFFABRRRQAUUUUAFFFFAHmP7QsEs/wY1QQgkrJC7Y9A4zWp8F5op/hBoJhIIWDacdiCc11Ov6La+I/D97pF+M295C0T46jI6j3HWvn7wp4i8QfATUrvw74s0y7vvDhlMltfW0ZYRg9x2weMrng5oA+kq+drEG+/bSvJbP50t4szMvQAW6qc/8AAiBW54h/aW8Orp5g8I215qWqz/JBG8BRQx4Gc8n6Ac1e+B/w61PQGv8AxX4s41vV8koxy0SM24g+5ODjtgUAep6xp/8Aa2jXdgLiS2+0xNH50Rw6ZGMg+teHeKv2e9TfTjdaV4qvNTuLXMsdpqv72OQjtycD8RXaeMfjJZ+BfFT6brui6gbLy1dL+3j3oSeqnOOnsa5nXf2kdGudPltfBel6jqmpyoViVrcqqkjqRyT9MfjQB0nwP8ep408GtBLZQ2N7pbCCaGBNkeMcMq9s4PHtXpdeS/s/+BdS8JeE7u+15Ghv9WlEzQt96NB93d6E5J/EV61QAUUUUAFFFFABRRRQAUUUUAFFFFABRRRQAUUUUAFFFFABRRRQAUUUUAFFFFABVDUNC0vVbq0udRsILmezfzLeSRMtE3qp7VfooAKKKKAMh/CmhPr6642lWv8AaijAuxGBJ+da9FFABRRRQAUUUUAFFFFABRRRQAUUUUAFFFFABRRRQAUUUUAFFFFABWTdeFtCvtbh1i70q1l1KDHlXTRjzEx6N1rWooAKKKKACqGp6HpmstbnVbGG7NrKJYfOTd5bjow96v0UAHTpRRRQAUUUUAFFFFABRRRQAUUUUAFFFFABRRRQByEP/JY7r/sDR/8Ao1q6+uQh/wCSx3X/AGBo/wD0a1dfQAUUUUAFFFFABRRRQAVleKP+RR1b/rzl/wDQTWrWV4o/5FHVv+vOX/0E0AZvw1/5Jj4d/wCwfF/6CK6euY+Gv/JMfDv/AGD4v/QRXT0AFFFFABRRRQAUUUUAFFFFABRRRQAUUUUAFFFFABRRRQAUUUUAFFFFABRRRQAUUUUAFFFFABRRRQAUUUUAFFFFABRRRQAUUUUAFFFFABRRRQAUUUUAFFFFABRRRQAUUUUAFFFFABRRRQAUUUUAFFFFABRRRQAUUUUAFFFFABRRRQAUUUUAIyq6lXUMp6gjINcl43+G+g+NvD02nXdpDbyn5obmGMK8T9jkdfcV11FAHF/DLw54l8J+Hv7G8S6jBqUVvxaToW3hP7rZHQdufauykiSVdsqK49GGadRQBB9itf8An2h/79inxwRQkmKJEJ67VAqSigAooooAKKKKACiiigAooooAKKKKACiiigAooooAKKKKACiiigAooooAKKKKACmyRRzIUmRZFPVWGRTqKAPPviT8JtL8c6Kq2SRaZqtsd9pdwxhdrejYxwf0610Xguy8Q6b4chsvFd1b3t7ANguYM/vFHQsCOv8AOt+igCOaCG4XbPEkq+jqCP1qKDTrK2bdb2dvE3rHEqn9BVmigAooooAKKKKACiiigAooooAKKKKACiiigAooooAKKKKACiiigAooooAKKKKACiiigAooooAKKKKACiiigAooooAKKKKACiiigAooooAKKKKACiiigAooooAKKKKACiiigAooooAKKKKACiiigAooooAKKKKACiiigAooooAKKKKACiiigAooooA5CH/ksd1/2Bo//RrV19chD/yWO6/7A0f/AKNauvoAKKKKACiiigAooooAKyvFH/Io6t/15y/+gmtWsrxR/wAijq3/AF5y/wDoJoAzfhr/AMkx8O/9g+L/ANBFdPXMfDX/AJJj4d/7B8X/AKCK6egAooooAKKKKACiiigAooooAKKKKACiiigAooooAKKKKACiiigAooooAKKKKACiiigAooooAKKKKACiiigAooooAKKKKACiiigAooooAKKKKACiiigAooooAKKKKACiiigAooooAKKKKACiiigAooooA53xx4qTwf4Zl1EQ/abp3WG0ts4M8zHCr/n0o17xBqehaFZzxaJcavqNwyxG2seiuVJJLN0Xjqa4z4lStd/Fr4faVLk2xu5LllPRmUYX8ufzr1XgD6UAeZH4qatoV9aJ498JT6HZ3kwhivEuEnRWPQPtPFdF488aP4MstPkg02TUp7+7W1hgSQISxBxyeO1cT47um+KXia08GeHP3tjp90lxq2ogfJCV6Rqe7f4/Wut+I/g3UvGFnpKaNfw2Fxp98t2JpUL42g4wO/JHWgB2j+KfFl9qsFvqXge50+2c4kuXvIXEY9cK2T+FaWq+MLPSfF+keHp4ZWuNVWRonXG1dgBOfzrhbjxB44+Hmv6Qni/UbTXdG1S6W0N1HAIZbeRvu5A4IP8AT8874jeEtJ1T45+E0vIpmGow3H2jbcSJnYq7cYYbevbGe9AHoXjrxZP4TstLntraO4N7qUFkwdiNqyNgsMdxXTh1JxkZx0zXkHxa8OwaH4B0LSfDzSWv/E9tvIeSVpSjs5+bLkk8nNUviH4JtvAXhe38W6DqGoJrFjdQtPcS3Tv9qDOFYMpO3nPYCgD26uL8deP5vCOsaJpVjo0uq3usNIkEUcqpygB6tx3/AErr7WUz2cMp6yRqx/EZryD4x6hLpfxO+Hl7b2NxqEkM9yy2tsAZJPlThQcDNAHRWvxSls/EVho/jHw5e+H5dSfy7SaV0kikf+7uUnB/xr0EsFGWIA9TXjPiC38T/FLxJ4egfwte6DpWl3y3txdagVV329FVQT19azfEPiLRvFPxS1jTvGWo38GjaIVggsbOOcieT+J3aIE+wGR/OgD3gEMMg5HtQSAMkgV4x8PNVtdM+KEmieFbnUbvw1fWhlWO7imAtJ1OSFaRQcEfWqngvwcPGvibxk3iHU7+XTbXXLiOCxiuWjTduOWJUgnAwAM4HPrQB7kSAMkjHrQrBhlSCPavHb3SJvGfxRl8Gz311b+G/DlhAWt4JirXLsoxvcckYHr2967Gw8JaR8O7HVdW0U3axLbNI9rLcvKmUBORuJIP40AdiXVSAzAE9Mmlr5x0Cfwd4n0d9Z8e6xrF1rN+Wk/cxXYjtASdqx7F2nAx6it/Sdf1O++A/i6C6uLuU6X51vZ306NHJPCMFHOQDnB+tAHtxdQQCwBPQZrG8XeJ7Xwf4ZuNav4pJYIGjVkixuO91QdfdhXmGlfC211v4V2mrarqmoza5LpyTw3v2p18ghMooUHbgcZyMnnms/xm48Xfsw6brmsl5r6NLZhIJGXLNMiMSAcHIz1+tAHt1xdTHR5bnT4RNP5JeGJjje2MhSe2TXJ674x1rw58K28R6rpMMGqxIpmsTLuRGLAY3DOeDUEPgzRvCngnVrzRY7iGefTHDs93LJ0QngMxxz6VxF9NLcfsj28s8jSSNbRlndsk/vB3oA9xt5TNaxSkYLoGI9Minh1b7rA/Q15H8WvE7afb+F/DjX9xptprJY3l3aozSrDGqkqoUE5bdjIFclql74a8LXOl6r8M7rWG1KG6jS5tZYrpkuoScPu8xcA/TFAHsfiLxZJ4b8T6Ja3tun9l6pIbU3WTmK4PKKR0wwB59a6evNfjsof4P3t+BtnspILqBj1Rw6jP5MR+Neg6bK0+lWsr/ekhRj9SooAs0UUUAFcr4z8XyeHrjSdN023S71XVroQ28DkgBBgyOcdlWuqrzCYi/wD2mreKdQV03Qmmhz2Z32k/kTQB13ifW9e0g2w0Lw1NrfmBvNMVxHF5WMY++RnOT09K5KT4qa3Y+KdH0PWfBdzYz6tN5cObuKT5QRubCk8KDmvTq8l8Kxnxn8c9d8TnL6focY0yzJ+6ZP8AloR9Dn/voUAdL4z8fXPhnxJpGh6Zocur32qpI8Uccyx42cnlsDp/KrvhvxD4j1XUng1zwlPo1usRZbiS6ikDNkfLhST0JOfasfx54E1zxH4w0PXfD2sQaXPpUMyCSSHzCTJgcKeOmetZuj+K/FXhb4g6f4T8dT22pxaqjGx1K3j8ti46q6jj8vagDsbfxjZXHxAufCawyi7t7MXjSnGwqWC49c81T8R+MJ9E8eeF9Bito5YtbedZJWYho/LTcMDvmvN18C6Fq37SOtWV7BcNA+lfayEu5UPmNIuTkMDjk8dParnxL8Pk+PfhzoejXc2npvuoUnRy0kaeWN2GbJyVyMnkZzQB7QGViQrA464NLXivijwzb/DTxb4U1XwrcXcC3uoLZXsEty8qTo/chief/rV7VQBwPib4kXmj+OofC2j+HptXvpbb7SBHOkfy85+8QO1P0D4mpfeLF8M+IdFvNB1eSMywRXJVkmUddrKSD/8AWNcT4u1m40L9paxvLTSLzV5BpDL9mslBkOc88kcCtO1sPE3jn4saP4l1Tw/PoGk6HDL5Qu2Xzp3cYI2gnA6UAeusyr94gfU0uc9K+dNP17w5438Q6zqfxC1LUmigvJLWw062jufKijQ435iXliff+ldT8MtVlivfE+hWN7fX+hW0Qn025vIpEdAy/NHlwCcGgD2EsB1IFDMFGWIA9zXhXwe8DxeKvBdvrHibUtQvDHcSfY4RdOiQhXPOARuJOeueK0tJ0c/Ffxx4iuvEd5dNoui3p0+z0+GdolLqBudtpBPX1oA9kBBGQcj2pN6htu4Z9M15z4gt7X4QfDPXtS0B7l1UBoYbiZpRE7lYxtLZOASDgntXnFpaeCLvwsLvU/EGvTeJpovObURDdgpNjOFUJt2546UAfR1JuXdt3DPpmvBvE/iTW9a/Zntr+9kmttWW8ggeUqY2dlmChyOOowT+NXfH/gCHwz8P5/FVlq2pHxHYBLltQa5bMrbhkFM7QvPQCgD03xR4vs/Cs2lR3sMsh1S9jsovLx8rOcAnParniO81Sy8PXdz4fsU1DUY0zBbO4QSNnoSTxXkHxV0yy8R2nw+1bUI3NxqN7ZRTbJnUbJMMwABwDknkc+9dD8QvDWneDPgv4mXw8Li2MkAdma6kkYEEDgsxI/CgDoPGfjO98Kad4fm+wxSTapqMNlNG7nEW9WJII6kFa7EH5QTxxXkXxQYt4U8AMxJJ1qyJJ7/u3qj8TPE0GofEix8JavqV5p2hwWn2q9+xRyNJcsThUygLBfy/lQB7WrBhlSCPY1y0vi6Wx+JMXhrUreOK3v7Yy6fcqxzK653xkdiByPavLdO1LRvDXxD0Fvh3c6rNYahcC11GwniuDGqsMLKGlXgg4zzXT/G9jYf8Ijq8HFzaa3EqEdSHHI/SgD1WiiigAooooAKKKKACiiigAooooAKKKKACiiigAooooAKKKKACiiigAooooAKKKKACiiigAooooAKKKKACiiigAooooAKKKKACiiigAooooAKKKKACiiigAooooAKKKKACiiigAooooAKKKKACiiigAooooA5CH/ksd1/2Bo//AEa1dfXIQ/8AJY7r/sDR/wDo1q6+gAooooAKKKKACiiigArK8Uf8ijq3/XnL/wCgmtWsrxR/yKOrf9ecv/oJoAzfhr/yTHw7/wBg+L/0EV09cx8Nf+SY+Hf+wfF/6CK6egAooooAKKKKACiiigAooooAKKKKACiiigAooooAKKKKACiiigAooooAKKKKACiiigAooooAKKKKACiiigAooooAKKKKACiiigAooooAKKKKACiiigAooooAKKKKACiiigAooooAKKKKACiiigAooooA81+L1hJaHw/4wt0Zz4evlluABn/R24c4744P51pfE0+LNQ8ELD8PVWW7vGCvMsqoUiKklkYkDPQZ967WeCK5geG4jWWKRSro4yGB7EUkEEVrbxwW0aRQxqFSNFwqgdAB2FAHkXhE+PPCOjW2kaX8O7WG2QjzJDqSFnJ6ux7mu78W6n4r037FL4V0SDV1YsLqGScRMoxwVJ465rpqKAPI77Q/G/xG8R6R/wAJNpFv4f0PS7pb1ovtImlnkX7oyvAA/Dr3ra+IvhrXrrxJ4e8UeFreC9u9HaVXs5pPL85JABw3QEY7+tehUUAea+KNK8UeMvCugtd6MljqFtrUFzcWouFcJEjnLbuh45xWt8V/D2o+KPhzd6Vo0Imu5ZIWVCwXIWRWPJ46A12lFAENnG0NjbxuMMkSqR7gVw3jbwvqus/ErwRq1hAJLPSZ53u3LgbAyqBweT0PSu/ooAK8y1bw54m8J+Pr7xL4N0+DWLTWAv2/TpZRE6yKOHRjxz3B/wD1em0UAcj4Y1XxfqmsyHXvDVtomnJCdn+lCaV5MjH3eAMZ/Sq3w68OaloF74ok1OERLqGsz3VuQ4O6NjkHjp9K7eigDzTxL4Z8S6H8RG8aeDLeHUzeQLbX+myy+WXC/ddGPGeO/wCua3dDvPEviRL+28VeHYtGsJYfLRPtQmkkLcHOOAMV11FAHkugW3j/AOH9k2gW3hy38SaZbu32G7S8WF1jJJCuGHUZxxW/qdn4o8TfCzWrPVtLtrLVL2F0gtIJQwAPQMx4z+ld3RQBz+haXdWXw5sNKuI9t3DpqQOmQcOI8EZ6da46D4fare/s9Q+ELny7TVEtkwHbcokSQSAEjPBKgZ969RooA8/0mbxprHhjVNJ8R+HYdOf+z2hgliu1kE8hUrjH8P41jzeB9df9nWDwqtqv9rJAiGHzFxkPk/NnHSvWKKAOC8d+DdS1i10TV/D7Qrrugt5lsk/+rlBADxn0yAOahtvEPxEvJ7a3Pga0sMyKJ7qe/V0Vc/MQq8/SvQ6KAPNvjAkmu2Gj+DbP5rjWr6Pz1A+7bxnc7n0AIWvRoYhBbxxL92NQo/AYqM2Vq18t6beM3SxmNZtg3hCclc9cZA4qegAooooAK8z8ZI/hr4ueG/FbLiwu430q8kA+4X5jJ9i2Pyr0yoLyytdQtjb39vFcwsQTHKgZSQcjg+9AFPxFJqMfhu/bQoBcaiYGFshYAGQjCkk8YB5rD+F/hSfwd4Bs9Nv8G+YvPdNnOZXbc3PfGcZ9q68DAwOlFAHIeKNa8Z6VrcY8O+GoNa01oQXP2pYZEkyeOeCMY7VzWk+F/Ffi34j2HivxrZ2+kWujowsdPilErs7fxMw44/wr1SigDzHxL4f8VaL8Uv8AhMfCenW2rpdWH2K4tZZ/KZMMGDAnjsKs6xoOv67448B69Ppy24043D6hGJlbyC8e0AH+Ln0r0WigDhfiX4a1PxFN4abSoBKLDVo7mfLhdsa9Tz1+ld1RRQB57ceFdWk+P1n4mW3B0uLTGt2m3jIc54xnNehdaKKAPJrHw/4v+HGvaovhnR4PEOhanctdrAbgQy20jfeGW4IP+cV1mgXfivV7XUj4j0O10hGj2WsEdwJZGJByWI49K62igDifhL4c1Lwt8PbXS9ahEN3HLKzIHDYDOSORx0NYUmgeLfAnjbVtV8I6bDrmk63J9onsTcCGSCbGCyk8EH/PSvU6KAOHk0zWfiB4J1jSfGekx6Mt58kEUc4mZQMMrsRxkMAce1Yej6h8SvDekxaNc+ELXWntFEMWoQ3yRLKoGAzKwzn8q9UooA838daB4n8XfCeGxnsbZdakuoJpbe3kxGgWUMQGb0UfnW38SdCv/EPwz1TSNKiEt5cQBI0LBcnIPU8dq62igDzTxf4J1rVPh/4Yj0hYf7Y0F7W5WCZ8JI8SjKZHuPpSeIrbxj42+FfiDS9T8PRabqU0QjtoUulkEvIJOeg6d69MooA868c+E9W1rw/4QtdPtxJLpup2txcguBsREYMeTzyR0pPGnhDXIfGNj418GJBcajbwfZrqwuG2rdRZzw3ZgfX+nPo1FAHDaPrnjnUtctIr/wAH22kafuJuZ5b1ZXxg4CBR1zjr2rJ8e258W/E3wv4agG6HTZTql+eoRBxGD7lhj9a9PqvFYWkF5Ndw20SXM4AlmVAGkx0yepxQBYooooAKKKKACiiigAooooAKKKKACiiigAooooAKKKKACiiigAooooAKKKKACiiigAooooAKKKKACiiigAooooAKKKKACiiigAooooAKKKKACiiigAooooAKKKKACiiigAooooAKKKKACiiigAooooAKKKKAOQh/5LHdf9gaP/0a1dfXIQ/8ljuv+wNH/wCjWrr6ACiiigAooooAKKKKACsrxR/yKOrf9ecv/oJrVrK8Uf8AIo6t/wBecv8A6CaAM34a/wDJMfDv/YPi/wDQRXT1zHw1/wCSY+Hf+wfF/wCgiunoAKKKKACiiigAooooAKKKKACiiigAooooAKKKKACiiigAooooAKKKKACiiigAooooAKKKKACiiigAooooAKKKKACiiigAooooAKKKKACiiigAooooAKKKKACiiigAooooAKKKKACiiigAooooAKKKKACiiigAooooAKKKKACiiigAooooAKKKKACiiigAooooAKKKKACiiigAooooAKKKKACiiigAooooAKKKKACiiigAooooAKKKKACiiigAooooAKKKKACiiigAooooAKKKKACiiigAooooAKKKKACiiigAooooAKKKKACiiigAooooAKKKKACiiigAooooAKKKKACiiigAooooAKKKKACiiigAooooAKKKKACiiigAooooAKKKKACiiigAooooAKKKKACiiigAooooAKKKKACiiigAooooAKKKKACiiigAooooA5CH/ksd1/2Bo/8A0a1dfXIQ/wDJY7r/ALA0f/o1q6+gAooooAKKKKACiiigArK8Uf8AIo6t/wBecv8A6Ca1ayvFH/Io6t/15y/+gmgDN+Gv/JMfDv8A2D4v/QRXT1zHw1/5Jj4d/wCwfF/6CK6egAooooAKKKKACiiigAooooAKKKKACiiigAooooAKKKKACiiigAooooAKKKKACiiigAooooAKKKKACiiigAooooAKKKKACiiigAooooAKKKKACiiigAooooAKKKKACiiigAooooAKKKKACiiigAooooAKKKKACiiigAooooAKKKKACiiigAooooAKKKKACiiigAooooAKKKKACiiigAooooAKKKKACiiigAooooAKKKKACiiigAooooAKKKKACiiigAooooAKKKKACiiigAooooAKKKKACiiigAooooAKKKKACiiigAooooAKKKKACiiigAooooAKKKKACiiigAooooAKKKKACiiigAooooAKKKKACiiigAooooAKKKKACiiigAooooAKKKKACiiigAooooAKKKKACiiigAooooAKKKKACiiigAooooAKKKKACiiigDkIf+Sx3X/YGj/9GtXX1yEP/JY7r/sDR/8Ao1q6+gAooooAKKKKACiiigArK8Uf8ijq3/XnL/6Ca1ayvFH/ACKOrf8AXnL/AOgmgDN+Gv8AyTHw7/2D4v8A0EV09cx8Nf8AkmPh3/sHxf8AoIrp6ACiiigAooooAKKKKACiiigAooooAKKKKACiiigAooooAKKKKACiiigAooooAKKKKACiiigAooooAKKKKACiiigAooooAKKKKACiiigAooooAKKKKACiiigAooooAKKKKACiiigAooooAKKKKACiiigAooooAKKKKACiiigAooooAKKKKACiiigAooooAKKKKACiiigAooooAKKKKACiiigAooooAKKKKACiiigAooooAKKKKACiiigAooooAKKKKACiiigAooooAKKKKACiiigAooooAKKKKACiiigAooooAKKKKACiiigAooooAKKKKACiiigAooooAKKKKACiiigAooooAKKKKACiiigAooooAKKKKACiiigAooooAKKKKACiiigAooooAKKKKACiiigAooooAKKKKACiiigAooooAKKKKACiiigAooooAKKKKAOQh/5LHdf9gaP/ANGtXX1yEP8AyWO6/wCwNH/6NauvoAKKKKACiiigAooooAKyvFH/ACKOrf8AXnL/AOgmtWsrxR/yKOrf9ecv/oJoAzfhr/yTHw7/ANg+L/0EV09cx8Nf+SY+Hf8AsHxf+giunoAKKKKACiiigAooooAKKKKACiiigAooooAKKKKACiiigAooooAKKKKACiiigAooooAKKKKACiiigAooooAKKKKACiiigAooooAKKKKACiiigAooooAKKKKACiiigAooooAKKKKACiiigAooooAKKKKACiiigAooooAKKKKACiiigAooooAKKKKACiiigAooooAKKKKACiiigAooooAKKKKACiiigAooooAKKKKACiiigAooooAKKKKACiiigAooooAKKKKACiiigAooooAKKKKACiiigAooooAKKKKACiiigAooooAKKKKACiiigAooooAKKKKACiiigAooooAKKKKACiiigAooooAKKKKACiiigAooooAKKKKACiiigAooooAKKKKACiiigAooooAKKKKACiiigAooooAKKKKACiiigAooooAKKKKACiiigAooooA5CH/ksd1/2Bo//RrV19chD/yWO6/7A0f/AKNauvoAKKKKACiiigAooooAKyvFH/Io6t/15y/+gmtWsrxR/wAijq3/AF5y/wDoJoAzfhr/AMkx8O/9g+L/ANBFdPXMfDX/AJJj4d/7B8X/AKCK6egAooooAKKKKACiiigAooooAKKKKACiiigAooooAKKKKACiiigAooooAKKKKACiiigAooooAKKKKACiiigAooooAKKKKACiiigAooooAKKKKACiiigAooooAKKKKACiiigAooooAKKKKACiiigAooooAKKKKACiiigAooooAKKKKACiiigAooooAKKKKACiiigAooooAKKKKACiiigAooooAKKKKACiiigAooooAKKKKACiiigAooooAKKKKACiiigAooooAKKKKACiiigAooooAKKKKACiiigAooooAKKKKACiiigAooooAKKKKACiiigAooooAKKKKACiiigAooooAKKKKACiiigAooooAKKKKACiiigAooooAKKKKACiiigAooooAKKKKACiiigAooooAKKKKACiiigAooooAKKKKACiiigAooooAKKKKACiiigDkIf+Sx3X/YGj/wDRrV19chD/AMljuv8AsDR/+jWrr6ACiiigAooooAKKKKACsrxR/wAijq3/AF5y/wDoJrVrK8Uf8ijq3/XnL/6CaAM34a/8kx8O/wDYPi/9BFdPXMfDX/kmPh3/ALB8X/oIrp6ACiiigAooooAKKKKACiiigAooooAKKKKACiiigAooooAKKKKACiiigAooooAKKKKACiiigAooooAKKKKACiiigAooooAKKKKACiiigAooooAKKKKACiiigAooooAKKKKACiiigAooooAKKKKACiiigAooooAKKKKACiiigAooooAKKKKACiiigAooooAKKKKACiiigAooooAKKKKACiiigAooooAKKKKACiiigAooooAKKKKACiiigAooooAKKKKACiiigAooooAKKKKACiiigAooooAKKKKACiiigAooooAKKKKACiiigAooooAKKKKACiiigAooooAKKKKACiiigAooooAKKKKACiiigAooooAKKKKACiiigAooooAKKKKACiiigAooooAKKKKACiiigAooooAKKKKACiiigAooooAKKKKACiiigAooooAKKKKAOQh/5LHdf9gaP/0a1dfXIQ/8ljuv+wNH/wCjWrr6ACiiigAooooAKKKKACsrxR/yKOrf9ecv/oJrVrK8Uf8AIo6t/wBecv8A6CaAM34a/wDJMfDv/YPi/wDQRXT1zHw1/wCSY+Hf+wfF/wCgiunoAKKKKACiiigAooooAKKKKACiiigAooooAKKKKACiiigAooooAKKKKACiiigAooooAKKKKACiiigAooooAKKKKACiiigAooooAKKKKACiiigAooooAKKKKACiiigAooooAKKKKACiiigAooooAKKKKACiiigAooooAKKKKACiiigAooooAKKKKACiiigAooooAKKKKACiiigAooooAKKKKACiiigAooooAKKKKACiiigAooooAKKKKACiiigAooooAKKKKACiiigAooooAKKKKACiiigAooooAKKKKACiiigAooooAKKKKACiiigAooooAKKKKACiiigAooooAKKKKACiiigAooooAKKKKACiiigAooooAKKKKACiiigAooooAKKKKACiiigAooooAKKKKACiiigAooooAKKKKACiiigAooooAKKKKACiiigAooooA5CH/ksd1/2Bo/8A0a1dfXIQ/wDJY7r/ALA0f/o1q6+gAooooAKKKKACiiigArK8U/8AIo6t/wBecv8A6Aa1aiubaK8tZba4TfFMhR1z1BGCKAPK/Avhfxbc+AdEms/Hd1aW8lnG0duun27CNdvC5K5OPU1v/wDCIeNf+ii3f/gttv8A4mux07T7XSdNt9P0+IQ21tGI4owSdqgYA5qzQBwv/CIeNf8Aoot3/wCC22/+Jo/4RDxr/wBFFu//AAW23/xNd1RQBwv/AAiHjX/oot3/AOC22/8AiaP+EQ8a/wDRRbv/AMFtt/8AE13VFAHC/wDCIeNf+ii3f/gttv8A4mj/AIRDxr/0UW7/APBbbf8AxNd1RQBwv/CIeNf+ii3f/gttv/iaP+EQ8a/9FFu//Bbbf/E13VFAHC/8Ih41/wCii3f/AILbb/4mj/hEPGv/AEUW7/8ABbbf/E13VFAHC/8ACIeNf+ii3f8A4Lbb/wCJo/4RDxr/ANFFu/8AwW23/wATXdUUAcL/AMIh41/6KLd/+C22/wDiaP8AhEPGv/RRbv8A8Ftt/wDE13VFAHC/8Ih41/6KLd/+C22/+Jo/4RDxr/0UW7/8Ftt/8TXdUUAcL/wiHjX/AKKLd/8Agttv/iaP+EQ8a/8ARRbv/wAFtt/8TXdUUAcL/wAIh41/6KLd/wDgttv/AImsDQrPxzq/iDXdOfx9cxrpc6RK4063Jk3IGyfl969ZqlZaPY6ffXt5aQCOe+cPcOCTvYDAPtwO1AHJf8Ih41/6KLd/+C22/wDiaP8AhEPGv/RRbv8A8Ftt/wDE13WaKAOF/wCEQ8a/9FFu/wDwW23/AMTR/wAIh41/6KLd/wDgttv/AImu6ooA4X/hEPGv/RRbv/wW23/xNH/CIeNf+ii3f/gttv8A4mu6ooA4X/hEPGv/AEUW7/8ABbbf/E0f8Ih41/6KLd/+C22/+JruqKAOF/4RDxr/ANFFu/8AwW23/wATR/wiHjX/AKKLd/8Agttv/ia7qigDhf8AhEPGv/RRbv8A8Ftt/wDE0f8ACIeNf+ii3f8A4Lbb/wCJruqKAOF/4RDxr/0UW7/8Ftt/8TR/wiHjX/oot3/4Lbb/AOJruqKAOF/4RDxr/wBFFu//AAW23/xNH/CIeNf+ii3f/gttv/ia7qigDhf+EQ8a/wDRRbv/AMFtt/8AE0f8Ih41/wCii3f/AILbb/4mu6ooA4X/AIRDxr/0UW7/APBbbf8AxNH/AAiHjX/oot3/AOC22/8Aia7qigDyTXrXxzo/ibQNLTx9cyLq08kTOdOtwY9qbsj5ea6H/hEPGv8A0UW7/wDBbbf/ABNdZe6NYahqFjfXcAkuLB2e2ckjyyRgn349avUAcL/wiHjX/oot3/4Lbb/4mj/hEPGv/RRbv/wW23/xNd1RQBwv/CIeNf8Aoot3/wCC22/+Jo/4RDxr/wBFFu//AAW23/xNd1RQBwv/AAiHjX/oot3/AOC22/8AiaP+EQ8a/wDRRbv/AMFtt/8AE13VFAHC/wDCIeNf+ii3f/gttv8A4mj/AIRDxr/0UW7/APBbbf8AxNd1RQBwv/CIeNf+ii3f/gttv/iaP+EQ8a/9FFu//Bbbf/E13VFAHC/8Ih41/wCii3f/AILbb/4mj/hEPGv/AEUW7/8ABbbf/E13VFAHC/8ACIeNf+ii3f8A4Lbb/wCJo/4RDxr/ANFFu/8AwW23/wATXdUUAcL/AMIh41/6KLd/+C22/wDiaP8AhEPGv/RRbv8A8Ftt/wDE13VFAHC/8Ih41/6KLd/+C22/+Jo/4RDxr/0UW7/8Ftt/8TXdUUAcL/wiHjX/AKKLd/8Agttv/iayvFGkeOPD/hTU9Xj+IF1M9lbSTrG2m2wDFVJx932r0+q2o6fa6tptxp+oRCa2uY2iljJI3KRgjigDgtH8PeN9T0Oxv3+Id0jXVtHMVGm2xCllBx933q5/wiHjX/oot3/4Lbb/AOJrtbW2isrOG1tk2QwRrHGufuqowB+QqWgDhf8AhEPGv/RRbv8A8Ftt/wDE0f8ACIeNf+ii3f8A4Lbb/wCJruqKAOF/4RDxr/0UW7/8Ftt/8TR/wiHjX/oot3/4Lbb/AOJruqKAOF/4RDxr/wBFFu//AAW23/xNH/CIeNf+ii3f/gttv/ia7qigDhf+EQ8a/wDRRbv/AMFtt/8AE0f8Ih41/wCii3f/AILbb/4mu6ooA4X/AIRDxr/0UW7/APBbbf8AxNH/AAiHjX/oot3/AOC22/8Aia7qigDhf+EQ8a/9FFu//Bbbf/E0f8Ih41/6KLd/+C22/wDia7qigDhf+EQ8a/8ARRbv/wAFtt/8TR/wiHjX/oot3/4Lbb/4mu6ooA4X/hEPGv8A0UW7/wDBbbf/ABNH/CIeNf8Aoot3/wCC22/+JruqKAOF/wCEQ8a/9FFu/wDwW23/AMTR/wAIh41/6KLd/wDgttv/AImu6ooA4X/hEPGv/RRbv/wW23/xNYHhez8c+ILjXY5PH1zCNL1SSxUrp1ud4VEbcfl6/P8ApXrNUtO0ix0mS8fT4BE19cNdXBBJ3yEAFufZR+VAHJf8Ih41/wCii3f/AILbb/4mj/hEPGv/AEUW7/8ABbbf/E13VFAHC/8ACIeNf+ii3f8A4Lbb/wCJo/4RDxr/ANFFu/8AwW23/wATXdUUAcL/AMIh41/6KLd/+C22/wDiaP8AhEPGv/RRbv8A8Ftt/wDE13VFAHC/8Ih41/6KLd/+C22/+Jo/4RDxr/0UW7/8Ftt/8TXdUUAcL/wiHjX/AKKLd/8Agttv/iaP+EQ8a/8ARRbv/wAFtt/8TXdUUAcL/wAIh41/6KLd/wDgttv/AImj/hEPGv8A0UW7/wDBbbf/ABNd1RQBwv8AwiHjX/oot3/4Lbb/AOJo/wCEQ8a/9FFu/wDwW23/AMTXdUUAcL/wiHjX/oot3/4Lbb/4mj/hEPGv/RRbv/wW23/xNd1RQBwv/CIeNf8Aoot3/wCC22/+Jo/4RDxr/wBFFu//AAW23/xNd1RQBwv/AAiHjX/oot3/AOC22/8AiaP+EQ8a/wDRRbv/AMFtt/8AE13VFAHk17Z+ObXx9pfh4ePrlo76znuWlOnW+VMZQAY299/6Vv8A/CIeNf8Aoot3/wCC22/+JrrZdHsZ9attWlgDX1rE8MUuTlUcgsMdOdo/KrtAHC/8Ih41/wCii3f/AILbb/4mj/hEPGv/AEUW7/8ABbbf/E13VFAHC/8ACIeNf+ii3f8A4Lbb/wCJo/4RDxr/ANFFu/8AwW23/wATXdUUAcL/AMIh41/6KLd/+C22/wDiaP8AhEPGv/RRbv8A8Ftt/wDE13VFAHC/8Ih41/6KLd/+C22/+Jo/4RDxr/0UW7/8Ftt/8TXdUUAcL/wiHjX/AKKLd/8Agttv/iaP+EQ8a/8ARRbv/wAFtt/8TXdUUAcL/wAIh41/6KLd/wDgttv/AImj/hEPGv8A0UW7/wDBbbf/ABNd1RQBwv8AwiHjX/oot3/4Lbb/AOJo/wCEQ8a/9FFu/wDwW23/AMTXdUUAcL/wiHjX/oot3/4Lbb/4mj/hEPGv/RRbv/wW23/xNd1RQBwv/CIeNf8Aoot3/wCC22/+Jo/4RDxr/wBFFu//AAW23/xNd1RQBwv/AAiHjX/oot3/AOC22/8AiawPG9n458J+EbrWIfH1zcPA8SiN9OtwDvlVOu3/AGs16zVLWNIsde0uTTtVgE9rKVZ4yxGSrBhyOeoBoA5L/hEPGv8A0UW7/wDBZbf/ABNH/CIeNf8Aoot3/wCC22/+JruqKAOF/wCEQ8a/9FFu/wDwW23/AMTR/wAIh41/6KLd/wDgttv/AImu6ooA4X/hEPGv/RRbv/wW23/xNH/CIeNf+ii3f/gttv8A4mu6ooA4X/hEPGv/AEUW7/8ABbbf/E0f8Ih41/6KLd/+C22/+JruqKAOF/4RDxr/ANFFu/8AwW23/wATR/wiHjX/AKKLd/8Agttv/ia7qigDhf8AhEPGv/RRbv8A8Ftt/wDE0f8ACIeNf+ii3f8A4Lbb/wCJruqKAOF/4RDxr/0UW7/8Ftt/8TR/wiHjX/oot3/4Lbb/AOJruqKAOF/4RDxr/wBFFu//AAW23/xNH/CIeNf+ii3f/gttv/ia7qigDhf+EQ8a/wDRRbv/AMFtt/8AE0f8Ih41/wCii3f/AILbb/4mu6ooA4X/AIRDxr/0UW7/APBbbf8AxNH/AAiHjX/oot3/AOC22/8Aia7qigDhf+EQ8a/9FFu//Bbbf/E1z/gi08c+LPDCarN4+ubdmnni2Jp1uR+7lZAfu99ua9aqjo+j2GhacLHSYBBbK7yBAxPzOxZjz6kk0Acn/wAIh41/6KLd/wDgttv/AImj/hEPGv8A0UW7/wDBbbf/ABNd1RQBwv8AwiHjX/oot3/4Lbb/AOJo/wCEQ8a/9FFu/wDwW23/AMTXdUUAcL/wiHjX/oot3/4Lbb/4mj/hEPGv/RRbv/wW23/xNd1RQBwv/CIeNf8Aoot3/wCC22/+Jo/4RDxr/wBFFu//AAW23/xNd1RQBwv/AAiHjX/oot3/AOC22/8AiaP+EQ8a/wDRRbv/AMFtt/8AE13VFAHC/wDCIeNf+ii3f/gttv8A4mj/AIRDxr/0UW7/APBbbf8AxNd1RQBwv/CIeNf+ii3f/gttv/iaP+EQ8a/9FFu//Bbbf/E13VFAHC/8Ih41/wCii3f/AILbb/4mj/hEPGv/AEUW7/8ABbbf/E13VFAHC/8ACIeNf+ii3f8A4Lbb/wCJo/4RDxr/ANFFu/8AwW23/wATXdUUAcL/AMIh41/6KLd/+C22/wDiaP8AhEPGv/RRbv8A8Ftt/wDE13VFAHnPhfTNW0v4sX0et65LrMraTGVlkt44io81uMIADXo1VBplourtqghH2xoRAZcnlAcgY6dTVugAooooAKKKKACiiqer3dzYaRc3VjZPfXEUZaO2RgrSkfwgngUAXKK80/4WH42/6JnqP/gZD/jQPiH42z/yTPUf/AyH/GgD0uvAPjD8R/En2q6Pgq+ex0zRJkgvbuPH7+dz/q1OP4Ryfr9K774seOn8J+FreC0kS31XWG+zWrysFSAkfNIzHgBc/wAq8t+IkvhPRfgVBoGha9YajeC6iluGhuFd5pCcu5AOf8igD6G0aaS40OymmYvJJAjMx7kqMmrtYXg7WNO1jwxZyaVe294kMKRyNBIHCOFGVOOh56Vu0AFFFFABRRRQAUUUUAFFFFABRRRQAUUUUAFFFFABRRXAav448W2GsXVrY/D++vreGQrHcpdRKsqjowBORmgDv6Dkqcda80/4WH42/wCiZ6j/AOBkP+Ndl4X1fUta0f7VrOjTaNceYV+zTSK7YHQ5XjmgDgbr4WeMtRup7m7+JepQu7s0cVtFtSME8Drzj8KPhP4o8Qv4p1/wZ4pvV1S40dlMV+FwXU9m9+n61v8Ajfwx401vUkl8KeLl0S2EAR4DBv3Pk/NntwQPwrkfg5Mnh/xlr/hDWrQHxJGRc3OpeYXN6pwQ3PThhx70AezUUUUAFFFFABRRRQAUUUUAFFFFABRRRQAUUUUAFFFFABRXLeLvEmu6DPbJoXha511ZVYyPBOkflEEYB3dc1zv/AAsPxt/0TPUf/AyH/GgD0uvOvFXhHx54j8RznT/GI0LRlAEUVtDulbgZyeO+e9afhfxb4k1rVjbaz4Nu9Gt/LLfaZriNxn+7hTmuk1nWbDw/pFxqWrXKW1rboXd3OPwHqfagDx+21Xxl8MfiNomieItdbxHo+uS+RFLKm2WF+AP1I7njNe3V434W0vUvij48tfHmvWzWWh6dkaNYyD5pD/z2b8eR9B6c+yUAFFFFABRRRQAUUUUAFFFFABRRRQAUUUUAFFFFABRRWdr+oXml6HcXmmabJqd1GB5dpG4VpMkA4J44Bz+FAGjRXmn/AAsPxt/0TPUf/AyH/GpbXx/4ymvIYpvhxqEMbuqvKbyIhATyevagDqfGFr4jvNBMPg++trHUWlX9/dIWUJzngA89K8v+H+qeM7H463/hbxb4iOrRw6Ybgqi7YwxMZGBjPAYivbRyBXjOk/8AJ3ms/wDYFX/2lQB7NRRRQAUUUUAFFFFABRRRQAUUUUAFFFFABRRRQAUUUUAFFFFAHnHxW8WavptxovhfwnKkGta9OY453GRBGB8z/X/69cv4osfGnwp0628UReLLzX7OCVF1K0vVG1lZgNyY+7ycf49KueMcL+0/4NacfI1g4jJ6b8yf0rpvjeYx8GPEPm42+QgGfXzFx+uKAOz02/h1XS7a/tTmG5iWVD7EZFWq5T4Xh1+FPhoS53jTYc5/3RXV0AFFFFABRRRQAUUUUAFFFFABRRRQAUUUUAFFFFABRRRQAVQ1yPUpdDu49Cmig1BoyLeSYZRX7Ej0q/RQB4Tb3nxC8N/GXwxpPinxSmoQaqJne3to9sYCqeOQD1/lXu1eQePf+Tifh/8A9crn/wBBr1+gAooooAKKKKACiiigAooooAKKKKACiiigAooooAKKKKACiiigBDnacdccV5Td/Dz4i6zfXF1f/ESXTkaRjBbWMGVRc/Lk5HNer1y/jvx1pvgXRPtd8TNdTHy7S0i5knkPQAenqaAOO+GXivxLb+PNY8BeMrtNSu9OhWeC/RcGRDjr/wB9D9a9ZrzX4W+CtUsNQ1Lxj4uZTr2t4Z4V6W0fUR/Xp+Qr0qgAooooAKKKKACiiigAooooAKKKKACiiigAooooAKKKKACiiigDivG3hDxJ4n1G2/sbxdcaDYRxkTRW0e55Wz1zkY4rz7WF8Y/CLxBod5N4ruPEOkajepaT2t4vzgt3B/A817D4msdU1Lw/c2mg6kNMv5NvlXRTf5eGBPHfIyPxrw7xLpHiHwJ4o0TxN8R9TXxZpcd0sMfWP7HI3Ik2dD0NAH0Kp3KD6jNLTY3EkSun3WAI+lOoAKKKKACiiigAooooAKKKKACiiigAooooAKKKKACiiigAoorgPi942fwh4YhgsnSLUNXl+yW00rBY4SfvSMTwAAc0Aee/GH4l+IPtNz/whOoPZ6fok6QXl3Fj9/O5x5YP+yAc+5r3jTpGl0y2kkO53iUsT3OK+c/iTL4T0X4F23h/w/rlhqF2t5FLcNDcK8k0hOXkIBz1/pXvnhfWtM1rQ4JNJv7e9SKNUdoJQ4VsDg470AbNFFFABRRRQAUUUUAFFFFAGZrXhrRfESxLr2lWmorCSYxcwh9meuM9K80+K3wh07UvBbQeCPC2nJqfnoQYIo4W2Z+b5jj+devUUAYvhTw7YeGtAgs9P063sCUVp0gQKGk2gEnHU8da2qKKACiiigAooooAKKKKACiiigAooooAKKKKACiiigAooooAKjn837PJ9n2+btOzd03Y4zUlFAHlZ8ZfFSzVra68AQ3VwOFnt75BG/vgnIFS/DnwLr9r4w1Xxv42eBNY1NBGlpAdy28YAG0t0Jwqjj0616fRQAUUUUAFFFFABRRRQAUUUUAFFFFABRRRQAUUUUAFFFFABRRRQAV4V8UvDvxD8UePIPJ8PrqvhiwdXhtBexwrcNjq+WyeeMY7e9e60UAeZ6L4i+JralZ2t/4CtbHTzIqSyx6hEfKjzgkKG5wOwr0yiigAooooAKKKKACiiigAooooAKKKKACiiigAooooAKKKKACiiigDH8U3ut6foMk/hnTE1TUAyhLZ5VjDDPJ3EgcV4pa6f8V7b4rXnjYeCIGmurMWptv7Rh2qBt5zu/2P1r6DooAztAudTvNCtZ9dslsNQdcz2yyBxGcnjcODxitGiigAooooAKKKKACiiigAooooAKKKKACiiigAooooAKKKKAPP/ij4L1TxAdI13ws8Sa7oVwZ7ZZThZlI+aMntnA6+/rXMeJLLx/8AFKztvD2peHV8NaZ5qvqFzLdJKZQpztRV5617PRQBBY2cOnafBZ2q7YbeNY0X0AGBU9FFABRRRQAUUUUAFFFFABRRRQAUUUUAFFFFABRRRQAUUUUAFVdUmu7fSbubTLcXV5HC7QQMwUSOAdq5PAycDNWqKAPn/XLP4r614+0LxO/geCOTR1kVIRqMJEm8Y5O7ivYvCGoeIdS0dpvFmjx6ReiUqsEc6ygpgYbKkjrnj2reooAKKKKACiiigAooooAKKKKACiiigAooooAKKKKACiiigAooooARs7Tt644r54Xw/wDFAfEm78U6v4Oi1uZGK6es1/CsdsmeCq7uuP619EUUAcT4P13x3qWsPD4t8KQ6RZCIss8d4kpL5GFwpJ6Z59q7aiigAooooAKKKKACiiigAooooAKKKKACiiigAooooAKKKKACiiigDh/FmuePNG10P4e8N2+t6S0a523KxTI/f7x5HTpXGazoXj74sX1hY+JdGg8OeH7W5W5mVp1llnK5AUbT7nrj8a9rooAbGgjjVF6KABTqKKACiiigAooooAKKKKACiiigAooooAKKKKACiiigAooooAKzdZ8OaN4iiii17S7XUEiYtGtzEHCk9xmtKigDx/4sfCDT9T8F+R4H8L6emp/aY2zBHHC2wH5vmOPyzXpPhrw7pvhzSY7bS9OtrDcoaVLeMIGfGCTjqa16KACiiigAooooAKKKKACiiigAooooAKKKKACiiigAooooAKKKKACiiigAooooAKKKKACiiigAooooAKKKKACiiigAooooAKKKKACiiigAooooAKKKKACiiigAooooAKKKKACiiigAooooAKKKKACiiigAooooAKKKKACiiigAooooAKKKKACiiigAooooAKKKKACiiigAooooAKKKKACiiigAooooAKKKKACiiigAooooAKKKKACiiigAooooAKKKKACiiigAooooAKKKKACiiigAooooAKKKKACiiigAooooAKKKKACiiigAooooAKKKKACiiigAooooAKKKKACiiigAooooAKKKKACiiigAooooAKKKKACiiigAooooAKKKKACiiigAooooAKKKKACiiigAooooAKKKKACiiigAooooAKKKKACiiigAooooAKKKKACiiigAooooAKKKKACiiigAooooAKKKKACiiigAooooA//Z)"
      ]
    },
    {
      "cell_type": "code",
      "metadata": {
        "id": "gOZjz9mjHDKH"
      },
      "source": [
        "from matplotlib import pyplot as plt  #import โดนชี้ไปที่ฌฟร์เดอร์หลักแล้วค่อย import #.ช้วาดกราฟ"
      ],
      "execution_count": null,
      "outputs": []
    },
    {
      "cell_type": "code",
      "metadata": {
        "id": "uPfdoHSmHDIC",
        "colab": {
          "base_uri": "https://localhost:8080/"
        },
        "outputId": "00d05e88-aa73-42ec-e692-26be2a52a3c8"
      },
      "source": [
        "dataN['positive'] [1:]#เรียกข้อมูลที่ต้องการ #ตัวที่ 1 เป็นต้นไป"
      ],
      "execution_count": null,
      "outputs": [
        {
          "output_type": "execute_result",
          "data": {
            "text/plain": [
              "1          0\n",
              "2          0\n",
              "3          0\n",
              "4          0\n",
              "5          0\n",
              "       ...  \n",
              "567    68403\n",
              "568    82325\n",
              "569    62846\n",
              "570    58851\n",
              "571    67283\n",
              "Name: positive, Length: 571, dtype: int64"
            ]
          },
          "metadata": {
            "tags": []
          },
          "execution_count": 17
        }
      ]
    },
    {
      "cell_type": "code",
      "metadata": {
        "id": "f4oed0DrHeOT",
        "colab": {
          "base_uri": "https://localhost:8080/",
          "height": 404
        },
        "outputId": "42fea7e9-51c3-41d8-f48e-d5ff8e8d558c"
      },
      "source": [
        "plt.boxplot(dataN['positive'] [1:]) #box plot ของคนที่ติด #มีค่ากระจุกอยู่ที่นึง"
      ],
      "execution_count": null,
      "outputs": [
        {
          "output_type": "execute_result",
          "data": {
            "text/plain": [
              "{'boxes': [<matplotlib.lines.Line2D at 0x7fc216512f90>],\n",
              " 'caps': [<matplotlib.lines.Line2D at 0x7fc21652b090>,\n",
              "  <matplotlib.lines.Line2D at 0x7fc21652b5d0>],\n",
              " 'fliers': [<matplotlib.lines.Line2D at 0x7fc216512590>],\n",
              " 'means': [],\n",
              " 'medians': [<matplotlib.lines.Line2D at 0x7fc21652bb50>],\n",
              " 'whiskers': [<matplotlib.lines.Line2D at 0x7fc2165235d0>,\n",
              "  <matplotlib.lines.Line2D at 0x7fc216523b10>]}"
            ]
          },
          "metadata": {
            "tags": []
          },
          "execution_count": 18
        },
        {
          "output_type": "display_data",
          "data": {
            "image/png": "[encoded data removed]",
            "text/plain": [
              "<Figure size 432x288 with 1 Axes>"
            ]
          },
          "metadata": {
            "tags": [],
            "needs_background": "light"
          }
        }
      ]
    },
    {
      "cell_type": "code",
      "metadata": {
        "id": "xRsQaZQgHeMF",
        "colab": {
          "base_uri": "https://localhost:8080/",
          "height": 404
        },
        "outputId": "6bca9e13-8aa2-4df2-e229-673c3d1bcda7"
      },
      "source": [
        "plt.boxplot(dataN['Total Testing'] [1:]) #box plot ของคนที่ติดไปตรวจ #ข้อมูลมีสิ่งค่าตัวแทนของข้อมูลได้ดีกว่า จำนวนที่ตรวจได้ค่อนข้างจะคงที่ #เบ้มาทาง Q3 แสดงว่าคนตรวจหนัก ๆ เพิ่งมาตรวจหลัง ๆ"
      ],
      "execution_count": null,
      "outputs": [
        {
          "output_type": "execute_result",
          "data": {
            "text/plain": [
              "{'boxes': [<matplotlib.lines.Line2D at 0x7fc215ff3b90>],\n",
              " 'caps': [<matplotlib.lines.Line2D at 0x7fc215ffbc10>,\n",
              "  <matplotlib.lines.Line2D at 0x7fc216002190>],\n",
              " 'fliers': [<matplotlib.lines.Line2D at 0x7fc216002c50>],\n",
              " 'means': [],\n",
              " 'medians': [<matplotlib.lines.Line2D at 0x7fc216002710>],\n",
              " 'whiskers': [<matplotlib.lines.Line2D at 0x7fc215ffb190>,\n",
              "  <matplotlib.lines.Line2D at 0x7fc215ffb6d0>]}"
            ]
          },
          "metadata": {
            "tags": []
          },
          "execution_count": 19
        },
        {
          "output_type": "display_data",
          "data": {
            "image/png": "[encoded data removed]",
            "text/plain": [
              "<Figure size 432x288 with 1 Axes>"
            ]
          },
          "metadata": {
            "tags": [],
            "needs_background": "light"
          }
        }
      ]
    },
    {
      "cell_type": "code",
      "metadata": {
        "id": "gplK9XgOHeJ_",
        "colab": {
          "base_uri": "https://localhost:8080/",
          "height": 265
        },
        "outputId": "c86bc5e0-891a-41ab-dbe1-e7797d09dca8"
      },
      "source": [
        "ret = plt.boxplot(dataN['positive'] [-54:])#พล็อตดูเดือนมิถุนายน ย้อนกลับไป 54 วัน เลยติดลบ #ret ใช้เพื่อให้คำอธิบายตรงคำนวณหายไปเพื่อความสวยงามจ้า"
      ],
      "execution_count": null,
      "outputs": [
        {
          "output_type": "display_data",
          "data": {
            "image/png": "[encoded data removed]",
            "text/plain": [
              "<Figure size 432x288 with 1 Axes>"
            ]
          },
          "metadata": {
            "tags": [],
            "needs_background": "light"
          }
        }
      ]
    },
    {
      "cell_type": "code",
      "metadata": {
        "id": "uyYwHbcKZNxB",
        "colab": {
          "base_uri": "https://localhost:8080/",
          "height": 265
        },
        "outputId": "89a62c93-e5e9-4c50-bd51-21973a57f310"
      },
      "source": [
        "ret = plt.boxplot(dataN['Total Testing'] [-54:]) #คนที่ตรวจของเดือนมิถุนายน ย้อนกลับไป 54 วัน"
      ],
      "execution_count": null,
      "outputs": [
        {
          "output_type": "display_data",
          "data": {
            "image/png": "[encoded data removed]",
            "text/plain": [
              "<Figure size 432x288 with 1 Axes>"
            ]
          },
          "metadata": {
            "tags": [],
            "needs_background": "light"
          }
        }
      ]
    },
    {
      "cell_type": "markdown",
      "metadata": {
        "id": "4_-Qvd6LHpvX"
      },
      "source": [
        "#Time Series Plot"
      ]
    },
    {
      "cell_type": "code",
      "metadata": {
        "id": "y9dT2Kr3Hqnk",
        "colab": {
          "base_uri": "https://localhost:8080/"
        },
        "outputId": "073d67ac-b6c2-4ae1-ec42-dc556a865f34"
      },
      "source": [
        "len(dataN['positive'] [1:])#ดูว่าข้อมูลมีกี่ตัวกี่วัน"
      ],
      "execution_count": null,
      "outputs": [
        {
          "output_type": "execute_result",
          "data": {
            "text/plain": [
              "571"
            ]
          },
          "metadata": {
            "tags": []
          },
          "execution_count": 22
        }
      ]
    },
    {
      "cell_type": "code",
      "metadata": {
        "id": "h5Cv4lGPHqlV",
        "colab": {
          "base_uri": "https://localhost:8080/",
          "height": 283
        },
        "outputId": "89e36aab-215a-416b-f030-59c85410f43a"
      },
      "source": [
        "plt.plot(range(len(dataN['positive'] [1:])),dataN['positive'][1:]) #พล็อตธรรมดาแต่ยังไม่ค่อยถูกเท่าไหร่"
      ],
      "execution_count": null,
      "outputs": [
        {
          "output_type": "execute_result",
          "data": {
            "text/plain": [
              "[<matplotlib.lines.Line2D at 0x7fc215eca8d0>]"
            ]
          },
          "metadata": {
            "tags": []
          },
          "execution_count": 23
        },
        {
          "output_type": "display_data",
          "data": {
            "image/png": "[encoded data removed]",
            "text/plain": [
              "<Figure size 432x288 with 1 Axes>"
            ]
          },
          "metadata": {
            "tags": [],
            "needs_background": "light"
          }
        }
      ]
    },
    {
      "cell_type": "code",
      "metadata": {
        "id": "zVVlnH9vHqi5",
        "colab": {
          "base_uri": "https://localhost:8080/",
          "height": 283
        },
        "outputId": "81888daa-dfa2-44d7-c687-023fba9058d7"
      },
      "source": [
        "plt.plot(range(len(dataN['positive'] [1:-7])),dataN['positive'][1:-7]) #ไม่เอาตอนช่วงท้ายนับไป 7 ค่า"
      ],
      "execution_count": null,
      "outputs": [
        {
          "output_type": "execute_result",
          "data": {
            "text/plain": [
              "[<matplotlib.lines.Line2D at 0x7fc215e319d0>]"
            ]
          },
          "metadata": {
            "tags": []
          },
          "execution_count": 24
        },
        {
          "output_type": "display_data",
          "data": {
            "image/png": "[encoded data removed]",
            "text/plain": [
              "<Figure size 432x288 with 1 Axes>"
            ]
          },
          "metadata": {
            "tags": [],
            "needs_background": "light"
          }
        }
      ]
    },
    {
      "cell_type": "code",
      "metadata": {
        "id": "7e1zER_KHqfz",
        "colab": {
          "base_uri": "https://localhost:8080/",
          "height": 283
        },
        "outputId": "b39d127a-21ae-4d54-ed7c-23bba97c35d3"
      },
      "source": [
        "plt.plot(range(len(dataN['Total Testing'] [1:-7])),dataN['Total Testing'][1:-7]) #ของคนที่มาตรวจโควิด #จะเห็นว่าตอนแรกจะไม่ระบาดมาก มี 3 ระดับ เริ่มเพิ่ม ๆ ขึ้นมาก"
      ],
      "execution_count": null,
      "outputs": [
        {
          "output_type": "execute_result",
          "data": {
            "text/plain": [
              "[<matplotlib.lines.Line2D at 0x7fc215e1e2d0>]"
            ]
          },
          "metadata": {
            "tags": []
          },
          "execution_count": 25
        },
        {
          "output_type": "display_data",
          "data": {
            "image/png": "[encoded data removed]",
            "text/plain": [
              "<Figure size 432x288 with 1 Axes>"
            ]
          },
          "metadata": {
            "tags": [],
            "needs_background": "light"
          }
        }
      ]
    },
    {
      "cell_type": "code",
      "metadata": {
        "id": "RTydRyTGH7fH",
        "colab": {
          "base_uri": "https://localhost:8080/",
          "height": 283
        },
        "outputId": "aefc1f49-c271-46da-bf68-2d090473528a"
      },
      "source": [
        "plt.plot(range(len(dataN['positive'] [1:-7])),dataN['positive'][1:-7], 'r--') #กำหนดสีให้มัน คนที่ติดเป็นสีแดง\n",
        "plt.plot(range(len(dataN['Total Testing'] [1:-7])),dataN['Total Testing'][1:-7],'b--') #กำหนดสีคนที่ตรวจเป็นสีน้ำเงิน"
      ],
      "execution_count": null,
      "outputs": [
        {
          "output_type": "execute_result",
          "data": {
            "text/plain": [
              "[<matplotlib.lines.Line2D at 0x7fc215d99210>]"
            ]
          },
          "metadata": {
            "tags": []
          },
          "execution_count": 26
        },
        {
          "output_type": "display_data",
          "data": {
            "image/png": "[encoded data removed]",
            "text/plain": [
              "<Figure size 432x288 with 1 Axes>"
            ]
          },
          "metadata": {
            "tags": [],
            "needs_background": "light"
          }
        }
      ]
    },
    {
      "cell_type": "code",
      "metadata": {
        "id": "3ItZGi97Hqb2",
        "colab": {
          "base_uri": "https://localhost:8080/",
          "height": 283
        },
        "outputId": "254ebf23-cc7a-4ee8-b9ec-432e2e913c19"
      },
      "source": [
        "plt.plot(range(len(dataN['positive'] [1:])),dataN['positive'][1:], 'r--') #กำหนดสีให้มัน คนที่ติดเป็นสีแดง\n",
        "plt.plot(range(len(dataN['Total Testing'] [1:])),dataN['Total Testing'][1:],'b--') #กำหนดสีคนที่ตรวจเป็นสีน้ำเงิน #ข้อมูลที่ยึกยัก ๆ แสดงว่าข้อมูลมันผิดพลาด"
      ],
      "execution_count": null,
      "outputs": [
        {
          "output_type": "execute_result",
          "data": {
            "text/plain": [
              "[<matplotlib.lines.Line2D at 0x7fc215d06650>]"
            ]
          },
          "metadata": {
            "tags": []
          },
          "execution_count": 27
        },
        {
          "output_type": "display_data",
          "data": {
            "image/png": "[encoded data removed]",
            "text/plain": [
              "<Figure size 432x288 with 1 Axes>"
            ]
          },
          "metadata": {
            "tags": [],
            "needs_background": "light"
          }
        }
      ]
    },
    {
      "cell_type": "code",
      "metadata": {
        "id": "bn8E-xRsH-sW"
      },
      "source": [
        ""
      ],
      "execution_count": null,
      "outputs": []
    },
    {
      "cell_type": "code",
      "metadata": {
        "id": "AyNPxAsJH-po"
      },
      "source": [
        ""
      ],
      "execution_count": null,
      "outputs": []
    },
    {
      "cell_type": "code",
      "metadata": {
        "id": "3FloZlChH-kM"
      },
      "source": [
        ""
      ],
      "execution_count": null,
      "outputs": []
    }
  ]
}